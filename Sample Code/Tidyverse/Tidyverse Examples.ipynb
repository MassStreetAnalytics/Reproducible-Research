{
 "cells": [
  {
   "cell_type": "markdown",
   "metadata": {},
   "source": [
    "# Tidyverse Examples"
   ]
  },
  {
   "cell_type": "markdown",
   "metadata": {},
   "source": [
    "# Core Tidy\n",
    "\n",
    "There are a lot of packages in the Tidyverse. We're only going to focus on Core Tidy.\n",
    "That includes:\n",
    "* ggplot2\n",
    "* dplyr\n",
    "* tidyr (We're going to skip tidyr)\n",
    "* readr\n",
    "* purrr (We're going to skip purrr)\n",
    "* tibble\n",
    "\n",
    "Tidyverse website: https://www.tidyverse.org/\n",
    "\n",
    "Code samples and some text pulled from R For Data Science by Wickham & Grolemund, 2016. ISBN-13: 978-1491910399"
   ]
  },
  {
   "cell_type": "code",
   "execution_count": null,
   "metadata": {},
   "outputs": [],
   "source": [
    "library(tidyverse)\n"
   ]
  },
  {
   "cell_type": "code",
   "execution_count": null,
   "metadata": {
    "collapsed": true
   },
   "outputs": [],
   "source": [
    "#install.packages(\"nycflights13\", repos = \"http://cran.us.r-project.org\")"
   ]
  },
  {
   "cell_type": "markdown",
   "metadata": {},
   "source": [
    "Note that filter() and lag() are overwritten by the Tidyverse. If you want to use them you have to acces them with their full name.\n",
    "* stats::filter()\n",
    "* stats::lag()"
   ]
  },
  {
   "cell_type": "markdown",
   "metadata": {},
   "source": [
    "# dplyr For Data Manipulation"
   ]
  },
  {
   "cell_type": "markdown",
   "metadata": {
    "collapsed": true
   },
   "source": [
    "Dplyr provides a more natural way to manipulate data vis-à-vis core R."
   ]
  },
  {
   "cell_type": "markdown",
   "metadata": {},
   "source": [
    "Five key functions:\n",
    "* filter()\n",
    "* arrange()\n",
    "* select()\n",
    "* mutate()\n",
    "* summarize()"
   ]
  },
  {
   "cell_type": "markdown",
   "metadata": {},
   "source": [
    "All the functions (called verbs in Tidyverse speak) work the same. \n",
    "\n",
    "new data_frame = verb(existing_data_frame, action_to_take)"
   ]
  },
  {
   "cell_type": "code",
   "execution_count": null,
   "metadata": {},
   "outputs": [],
   "source": [
    "library(nycflights13) #336,776 flights that departed NYC in 2013"
   ]
  },
  {
   "cell_type": "code",
   "execution_count": null,
   "metadata": {
    "collapsed": true
   },
   "outputs": [],
   "source": [
    "?flights"
   ]
  },
  {
   "cell_type": "code",
   "execution_count": null,
   "metadata": {},
   "outputs": [],
   "source": [
    "head(flights)"
   ]
  },
  {
   "cell_type": "code",
   "execution_count": null,
   "metadata": {},
   "outputs": [],
   "source": [
    "september_flights = filter(flights, month == 9, distance >= 1000)\n",
    "head(september_flights)"
   ]
  },
  {
   "cell_type": "code",
   "execution_count": null,
   "metadata": {
    "scrolled": true
   },
   "outputs": [],
   "source": [
    "nov_dec = filter(flights, month %in% c(11,12))\n",
    "nov_dec"
   ]
  },
  {
   "cell_type": "code",
   "execution_count": null,
   "metadata": {
    "scrolled": true
   },
   "outputs": [],
   "source": [
    "flights_ordered_by = arrange(flights,air_time, distance)\n",
    "head(flights_ordered_by)"
   ]
  },
  {
   "cell_type": "code",
   "execution_count": null,
   "metadata": {
    "scrolled": true
   },
   "outputs": [],
   "source": [
    "longest_flights = arrange(flights, desc(air_time, distance))\n",
    "head(longest_flights)"
   ]
  },
  {
   "cell_type": "code",
   "execution_count": null,
   "metadata": {},
   "outputs": [],
   "source": [
    "# Select columns by name\n",
    "cols_by_name = select(flights, year, month, day)\n",
    "head(cols_by_name)\n"
   ]
  },
  {
   "cell_type": "code",
   "execution_count": null,
   "metadata": {},
   "outputs": [],
   "source": [
    "# Select all columns between year and day (inclusive)\n",
    "cols_between_year_and_day = select(flights, year:day)\n",
    "head(cols_between_year_and_day)"
   ]
  },
  {
   "cell_type": "code",
   "execution_count": null,
   "metadata": {},
   "outputs": [],
   "source": [
    "# Select all columns except those from year to day (inclusive)\n",
    "cols_except_from_year_to_day = select(flights, -(year:day))\n",
    "head(cols_except_from_year_to_day)"
   ]
  },
  {
   "cell_type": "code",
   "execution_count": null,
   "metadata": {},
   "outputs": [],
   "source": [
    "#select() can be used to rename variables, \n",
    "#but it's rarely useful because it drops all of the variables not explicitly mentioned. \n",
    "#Instead, use `rename()`, which is a variant of `select()` \n",
    "#that keeps all the variables that aren't explicitly mentioned\n",
    "\n",
    "column_rename = rename(flights, tail_num = tailnum) #Note the \"odd\" syntax. rename = original column name.\n",
    "head(column_rename)\n"
   ]
  },
  {
   "cell_type": "code",
   "execution_count": null,
   "metadata": {},
   "outputs": [],
   "source": [
    "version_of_star = select(flights, everything()) #SELECT *\n",
    "head(version_of_star)\n"
   ]
  },
  {
   "cell_type": "code",
   "execution_count": null,
   "metadata": {},
   "outputs": [],
   "source": [
    "version_of_star = select(flights, time_hour, air_time, everything())\n",
    "head(version_of_star)"
   ]
  },
  {
   "cell_type": "code",
   "execution_count": null,
   "metadata": {
    "collapsed": true
   },
   "outputs": [],
   "source": [
    "#Create a narrower data frame so we can see our work\n",
    "flights_sml <- select(flights, year:day, ends_with(\"delay\"), distance, air_time)"
   ]
  },
  {
   "cell_type": "code",
   "execution_count": null,
   "metadata": {},
   "outputs": [],
   "source": [
    "calculation = mutate(flights_sml,\n",
    "gain = arr_delay - dep_delay,\n",
    "hours = air_time / 60,\n",
    "gain_per_hour = gain / hours\n",
    ")\n",
    "head(calculation)"
   ]
  },
  {
   "cell_type": "code",
   "execution_count": null,
   "metadata": {},
   "outputs": [],
   "source": [
    "#If you only want to keep the new variables, use transmute():\n",
    "only_calc_results = transmute(flights,\n",
    "  gain = arr_delay - dep_delay,\n",
    "  hours = air_time / 60,\n",
    "  gain_per_hour = gain / hours\n",
    ")\n",
    "head(only_calc_results)"
   ]
  },
  {
   "cell_type": "code",
   "execution_count": null,
   "metadata": {},
   "outputs": [],
   "source": [
    "#Summarise needs to be used in conjuction with group by\n",
    "by_day = group_by(flights, year, month, day)\n",
    "summarised_data = summarise(by_day, delay = mean(dep_delay, na.rm = TRUE))\n",
    "head(summarised_data)"
   ]
  },
  {
   "cell_type": "code",
   "execution_count": null,
   "metadata": {},
   "outputs": [],
   "source": [
    "#Who is guilty of this nonsense!?\n",
    "by_dest = group_by(flights, dest) #Group\n",
    "\n",
    "delay = summarise(\n",
    "by_dest,\n",
    "count = n(),\n",
    "dist = mean(distance, na.rm = TRUE),\n",
    "delay = mean(arr_delay, na.rm = TRUE)\n",
    ") #Summarise\n",
    "\n",
    "final = filter(delay, count > 20, dest != \"HNL\") #Filter\n",
    "\n",
    "head(final)"
   ]
  },
  {
   "cell_type": "code",
   "execution_count": null,
   "metadata": {},
   "outputs": [],
   "source": [
    "#Pipe operations fix that %>%\n",
    "delays = flights %>% group_by(dest) %>% summarise(count = n(),dist = mean(distance, na.rm = TRUE),delay = mean(arr_delay, na.rm = TRUE)) %>% filter(count > 20, dest != \"HNL\")\n",
    "head(delays)"
   ]
  },
  {
   "cell_type": "markdown",
   "metadata": {},
   "source": [
    "# Joins with dplyr"
   ]
  },
  {
   "cell_type": "markdown",
   "metadata": {},
   "source": [
    "Other tables in NYC flights data"
   ]
  },
  {
   "cell_type": "code",
   "execution_count": null,
   "metadata": {},
   "outputs": [],
   "source": [
    "head(airlines)"
   ]
  },
  {
   "cell_type": "code",
   "execution_count": null,
   "metadata": {},
   "outputs": [],
   "source": [
    "head(airports)"
   ]
  },
  {
   "cell_type": "code",
   "execution_count": null,
   "metadata": {},
   "outputs": [],
   "source": [
    "head(planes)"
   ]
  },
  {
   "cell_type": "code",
   "execution_count": null,
   "metadata": {},
   "outputs": [],
   "source": [
    "head(weather)"
   ]
  },
  {
   "cell_type": "code",
   "execution_count": null,
   "metadata": {},
   "outputs": [],
   "source": [
    "#Reduce our data set for this exercise\n",
    "flights2 = flights %>% select(year:day, hour, origin, dest, tailnum, carrier)\n",
    "head(flights2)"
   ]
  },
  {
   "cell_type": "code",
   "execution_count": null,
   "metadata": {},
   "outputs": [],
   "source": [
    "flights_with_plane_info = flights2 %>% inner_join(planes, by = \"tailnum\") %>% rename(year = year.x) %>% select(-year.y)\n",
    "head(flights_with_plane_info)"
   ]
  },
  {
   "cell_type": "markdown",
   "metadata": {},
   "source": [
    "SQL is the inspiration for dplyr's conventions, so the translation is straightforward:  \n",
    "\n",
    "| dplyr                      |                      SQL                     |\n",
    "|----------------------------|:--------------------------------------------:|\n",
    "| inner_join(x, y, by = \"z\") | SELECT * FROM x INNER JOIN y USING (z)       |\n",
    "| left_join(x, y, by = \"z\")  | SELECT * FROM x LEFT OUTER JOIN y USING (z)  |\n",
    "| right_join(x, y, by = \"z\") | SELECT * FROM x RIGHT OUTER JOIN y USING (z) |\n",
    "| full_join(x, y, by = \"z\")  | SELECT * FROM x FULL OUTER JOIN y USING (z)  |"
   ]
  },
  {
   "cell_type": "markdown",
   "metadata": {},
   "source": [
    "# Ggplot2 for data vis"
   ]
  },
  {
   "cell_type": "markdown",
   "metadata": {},
   "source": [
    "Genearlized use of ggplot  \n",
    "\n",
    "ggplot(data = `<DATA>`) + `<GEOM_FUNCTION>`(mapping = aes(`<MAPPINGS>`))  \n",
    "\n",
    "`<DATA>` = your dataset  \n",
    "\n",
    "`<GEOM_FUNCTION>` =  A __geom__ is the geometrical object that a plot uses to represent data. People often describe plots by the type of geom that the plot uses. For example, bar charts use bar geoms, line charts use line geoms, boxplots use boxplot geoms, and so on.  \n",
    "\n",
    "`<MAPPINGS>` = An aesthetic is a visual property of the objects in your plot that you map to your data."
   ]
  },
  {
   "cell_type": "code",
   "execution_count": null,
   "metadata": {},
   "outputs": [],
   "source": [
    "head(diamonds) #part of the ggplot2 package"
   ]
  },
  {
   "cell_type": "code",
   "execution_count": null,
   "metadata": {
    "scrolled": false
   },
   "outputs": [],
   "source": [
    "ggplot(data = diamonds) + geom_bar(mapping = aes(x = cut))"
   ]
  },
  {
   "cell_type": "code",
   "execution_count": null,
   "metadata": {},
   "outputs": [],
   "source": [
    "ggplot(data = diamonds) + geom_histogram(mapping = aes(x = carat), binwidth = 0.5)"
   ]
  },
  {
   "cell_type": "code",
   "execution_count": null,
   "metadata": {},
   "outputs": [],
   "source": [
    "ggplot(data = mpg) + geom_boxplot(mapping = aes(x = reorder(class, hwy, FUN = median), y = hwy))"
   ]
  },
  {
   "cell_type": "code",
   "execution_count": null,
   "metadata": {},
   "outputs": [],
   "source": [
    "ggplot(data = mpg) + geom_point(mapping = aes(x = displ, y = hwy)) + facet_wrap(~ class, nrow = 2)"
   ]
  },
  {
   "cell_type": "code",
   "execution_count": null,
   "metadata": {},
   "outputs": [],
   "source": [
    "ggplot(data = mpg, \n",
    "mapping = aes(x = displ, y = hwy)) + \n",
    "geom_point(mapping = aes(color = class)) + \n",
    "geom_smooth(data = filter(mpg, class == \"subcompact\"), se = FALSE)"
   ]
  },
  {
   "cell_type": "markdown",
   "metadata": {},
   "source": [
    "# Tibble  \n",
    "\n",
    "\"Tibbles are data.frames that are lazy and surly: they do less and complain more forcing you to confront problems earlier, typically leading to cleaner, more expressive code.\"  \n",
    "\n",
    "### Why I Love Tibbles Over Dataframes  \n",
    "\n",
    "* It never changes the type of the inputs (e.g. it never converts strings to factors!).\n",
    "* It never changes the names of variables.\n",
    "* It never creates row names"
   ]
  },
  {
   "cell_type": "code",
   "execution_count": null,
   "metadata": {},
   "outputs": [],
   "source": [
    "iris_as_tibble = as_tibble(iris)\n",
    "print(iris_as_tibble)"
   ]
  },
  {
   "cell_type": "markdown",
   "metadata": {},
   "source": [
    "Sometimes older code doesn't work with Tibbles. From the book R For Data Science:  \n",
    "\n",
    "\"The main reason that some older functions don't work with tibble is the `[` function.  We don't use `[` much in this book because `dplyr::filter()` and `dplyr::select()` allow you to solve the same problems with clearer code. With base R data frames, `[` sometimes returns a data frame, and sometimes returns a vector. With tibbles, `[` always returns another tibble.\""
   ]
  },
  {
   "cell_type": "code",
   "execution_count": null,
   "metadata": {},
   "outputs": [],
   "source": [
    "#If you need to work with older code that doesn't work with Tibbles,\n",
    "#you can coerece Tibbles back to dataframes.\n",
    "class(as.data.frame(iris_as_tibble)) #show us the type of the object"
   ]
  },
  {
   "cell_type": "markdown",
   "metadata": {},
   "source": [
    "# Readr\n",
    "\n",
    "Turn flat files into data frames  \n",
    "\n",
    "* `read_csv()` reads comma delimited files, `read_csv2()` reads semicolon\n",
    "  separated files (common in countries where `,` is used as the decimal place),\n",
    "  `read_tsv()` reads tab delimited files, and `read_delim()` reads in files\n",
    "  with any delimiter.\n",
    "\n",
    "* `read_fwf()` reads fixed width files. You can specify fields either by their\n",
    "  widths with `fwf_widths()` or their position with `fwf_positions()`.\n",
    "  `read_table()` reads a common variation of fixed width files where columns\n",
    "  are separated by white space.\n",
    "\n",
    "* `read_log()` reads Apache style log files. (But also check out\n",
    "  [webreadr](https://github.com/Ironholds/webreadr) which is built on top\n",
    "  of `read_log()` and provides many more helpful tools.)\n"
   ]
  },
  {
   "cell_type": "code",
   "execution_count": null,
   "metadata": {},
   "outputs": [],
   "source": [
    "heights = read_csv(\"../../Data/read_data/heights.csv\", na=\"\")"
   ]
  },
  {
   "cell_type": "markdown",
   "metadata": {},
   "source": [
    "### Compared to base R\n",
    "\n",
    "If you've used R before, you might wonder why we're not using `read.csv()`. There are a few good reasons to favour readr functions over the base equivalents:\n",
    "\n",
    "* They are typically much faster (~10x) than their base equivalents.\n",
    "  Long running jobs have a progress bar, so you can see what's happening. \n",
    "  If you're looking for raw speed, try `data.table::fread()`. It doesn't fit \n",
    "  quite so well into the tidyverse, but it can be quite a bit faster.\n",
    "\n",
    "* They produce tibbles, they don't convert character vectors to factors,\n",
    "  use row names, or munge the column names. These are common sources of\n",
    "  frustration with the base R functions.\n",
    "\n",
    "* They are more reproducible. Base R functions inherit some behaviour from\n",
    "  your operating system and environment variables, so import code that works \n",
    "  on your computer might not work on someone else's."
   ]
  },
  {
   "cell_type": "code",
   "execution_count": null,
   "metadata": {
    "collapsed": true
   },
   "outputs": [],
   "source": [
    "write_csv(heights, \"../../Data/read_data/heights_out.csv\") "
   ]
  },
  {
   "cell_type": "markdown",
   "metadata": {},
   "source": [
    "If you're just saving to excel to work with it there, use write_excel_csv()."
   ]
  },
  {
   "cell_type": "code",
   "execution_count": null,
   "metadata": {
    "collapsed": true
   },
   "outputs": [],
   "source": [
    "write_excel_csv(heights, \"../../Data/read_data/heights_out_for_excel.csv\") "
   ]
  },
  {
   "cell_type": "markdown",
   "metadata": {},
   "source": [
    "You lose type information when you write. To fix you can write it out to RDS (R custom binary format) or use a package called feather to store it in a binary format sharable across applications."
   ]
  },
  {
   "cell_type": "markdown",
   "metadata": {},
   "source": [
    "## Other types of data\n",
    "\n",
    "To get other types of data into R, we recommend starting with the tidyverse packages listed below. They're certainly not perfect, but they are a good place to start. For rectangular data:\n",
    "\n",
    "* __haven__ reads SPSS, Stata, and SAS files.\n",
    "\n",
    "* __readxl__ reads excel files (both `.xls` and `.xlsx`).\n",
    "\n",
    "* __DBI__, along with a database specific backend (e.g. __RMySQL__, \n",
    "  __RSQLite__, __RPostgreSQL__ etc) allows you to run SQL queries against a \n",
    "  database and return a data frame.\n",
    "\n",
    "For hierarchical data: use __jsonlite__ (by Jeroen Ooms) for json, and __xml2__ for XML. Jenny Bryan has some excellent worked examples at <https://jennybc.github.io/purrr-tutorial/>.\n",
    "\n",
    "For other file types, try the [R data import/export manual](https://cran.r-project.org/doc/manuals/r-release/R-data.html) and the [__rio__](https://github.com/leeper/rio) package."
   ]
  },
  {
   "cell_type": "code",
   "execution_count": null,
   "metadata": {
    "collapsed": true
   },
   "outputs": [],
   "source": []
  }
 ],
 "metadata": {
  "kernelspec": {
   "display_name": "R",
   "language": "R",
   "name": "ir"
  },
  "language_info": {
   "codemirror_mode": "r",
   "file_extension": ".r",
   "mimetype": "text/x-r-source",
   "name": "R",
   "pygments_lexer": "r",
   "version": "3.4.1"
  }
 },
 "nbformat": 4,
 "nbformat_minor": 2
}
