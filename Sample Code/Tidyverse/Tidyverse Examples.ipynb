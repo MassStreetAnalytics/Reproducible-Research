{
 "cells": [
  {
   "cell_type": "markdown",
   "metadata": {},
   "source": [
    "# Tidyverse Examples"
   ]
  },
  {
   "cell_type": "markdown",
   "metadata": {},
   "source": [
    "# Core Tidy\n",
    "\n",
    "There are a lot of packages in the Tidyverse. We're only going to focus on Core Tidy.\n",
    "That includes:\n",
    "* ggplot2\n",
    "* dplyr\n",
    "* tidyr (We're going to skip tidyr)\n",
    "* readr\n",
    "* purrr (We're going to skip purrr)\n",
    "* tibble\n",
    "\n",
    "Tidyverse website: https://www.tidyverse.org/\n",
    "\n",
    "Code samples and some text pulled from R For Data Science by Wickham & Grolemund, 2016. ISBN-13: 978-1491910399"
   ]
  },
  {
   "cell_type": "code",
   "execution_count": 86,
   "metadata": {
    "collapsed": true
   },
   "outputs": [],
   "source": [
    "library(tidyverse)\n"
   ]
  },
  {
   "cell_type": "code",
   "execution_count": 87,
   "metadata": {
    "collapsed": true
   },
   "outputs": [],
   "source": [
    "#install.packages(\"nycflights13\", repos = \"http://cran.us.r-project.org\")"
   ]
  },
  {
   "cell_type": "markdown",
   "metadata": {},
   "source": [
    "Note that filter() and lag() are overwritten by the Tidyverse. If you want to use them you have to acces them with their full name.\n",
    "* stats::filter()\n",
    "* stats::lag()"
   ]
  },
  {
   "cell_type": "markdown",
   "metadata": {},
   "source": [
    "# dplyr For Data Manipulation"
   ]
  },
  {
   "cell_type": "markdown",
   "metadata": {
    "collapsed": true
   },
   "source": [
    "Dplyr provides a more natural way to manipulate data vis-à-vis core R."
   ]
  },
  {
   "cell_type": "markdown",
   "metadata": {},
   "source": [
    "Five key functions:\n",
    "* filter()\n",
    "* arrange()\n",
    "* select()\n",
    "* mutate()\n",
    "* summarize()"
   ]
  },
  {
   "cell_type": "markdown",
   "metadata": {},
   "source": [
    "All the functions (called verbs in Tidyverse speak) work the same. \n",
    "\n",
    "new data_frame = verb(existing_data_frame, action_to_take)"
   ]
  },
  {
   "cell_type": "code",
   "execution_count": 88,
   "metadata": {
    "collapsed": true
   },
   "outputs": [],
   "source": [
    "library(nycflights13) #336,776 flights that departed NYC in 2013"
   ]
  },
  {
   "cell_type": "code",
   "execution_count": 89,
   "metadata": {
    "collapsed": true
   },
   "outputs": [],
   "source": [
    "?flights"
   ]
  },
  {
   "cell_type": "code",
   "execution_count": 90,
   "metadata": {},
   "outputs": [
    {
     "data": {
      "text/html": [
       "<table>\n",
       "<thead><tr><th scope=col>year</th><th scope=col>month</th><th scope=col>day</th><th scope=col>dep_time</th><th scope=col>sched_dep_time</th><th scope=col>dep_delay</th><th scope=col>arr_time</th><th scope=col>sched_arr_time</th><th scope=col>arr_delay</th><th scope=col>carrier</th><th scope=col>flight</th><th scope=col>tailnum</th><th scope=col>origin</th><th scope=col>dest</th><th scope=col>air_time</th><th scope=col>distance</th><th scope=col>hour</th><th scope=col>minute</th><th scope=col>time_hour</th></tr></thead>\n",
       "<tbody>\n",
       "\t<tr><td>2013               </td><td>1                  </td><td>1                  </td><td>517                </td><td>515                </td><td> 2                 </td><td> 830               </td><td> 819               </td><td> 11                </td><td>UA                 </td><td>1545               </td><td>N14228             </td><td>EWR                </td><td>IAH                </td><td>227                </td><td>1400               </td><td>5                  </td><td>15                 </td><td>2013-01-01 05:00:00</td></tr>\n",
       "\t<tr><td>2013               </td><td>1                  </td><td>1                  </td><td>533                </td><td>529                </td><td> 4                 </td><td> 850               </td><td> 830               </td><td> 20                </td><td>UA                 </td><td>1714               </td><td>N24211             </td><td>LGA                </td><td>IAH                </td><td>227                </td><td>1416               </td><td>5                  </td><td>29                 </td><td>2013-01-01 05:00:00</td></tr>\n",
       "\t<tr><td>2013               </td><td>1                  </td><td>1                  </td><td>542                </td><td>540                </td><td> 2                 </td><td> 923               </td><td> 850               </td><td> 33                </td><td>AA                 </td><td>1141               </td><td>N619AA             </td><td>JFK                </td><td>MIA                </td><td>160                </td><td>1089               </td><td>5                  </td><td>40                 </td><td>2013-01-01 05:00:00</td></tr>\n",
       "\t<tr><td>2013               </td><td>1                  </td><td>1                  </td><td>544                </td><td>545                </td><td>-1                 </td><td>1004               </td><td>1022               </td><td>-18                </td><td>B6                 </td><td> 725               </td><td>N804JB             </td><td>JFK                </td><td>BQN                </td><td>183                </td><td>1576               </td><td>5                  </td><td>45                 </td><td>2013-01-01 05:00:00</td></tr>\n",
       "\t<tr><td>2013               </td><td>1                  </td><td>1                  </td><td>554                </td><td>600                </td><td>-6                 </td><td> 812               </td><td> 837               </td><td>-25                </td><td>DL                 </td><td> 461               </td><td>N668DN             </td><td>LGA                </td><td>ATL                </td><td>116                </td><td> 762               </td><td>6                  </td><td> 0                 </td><td>2013-01-01 06:00:00</td></tr>\n",
       "\t<tr><td>2013               </td><td>1                  </td><td>1                  </td><td>554                </td><td>558                </td><td>-4                 </td><td> 740               </td><td> 728               </td><td> 12                </td><td>UA                 </td><td>1696               </td><td>N39463             </td><td>EWR                </td><td>ORD                </td><td>150                </td><td> 719               </td><td>5                  </td><td>58                 </td><td>2013-01-01 05:00:00</td></tr>\n",
       "</tbody>\n",
       "</table>\n"
      ],
      "text/latex": [
       "\\begin{tabular}{r|lllllllllllllllllll}\n",
       " year & month & day & dep\\_time & sched\\_dep\\_time & dep\\_delay & arr\\_time & sched\\_arr\\_time & arr\\_delay & carrier & flight & tailnum & origin & dest & air\\_time & distance & hour & minute & time\\_hour\\\\\n",
       "\\hline\n",
       "\t 2013                & 1                   & 1                   & 517                 & 515                 &  2                  &  830                &  819                &  11                 & UA                  & 1545                & N14228              & EWR                 & IAH                 & 227                 & 1400                & 5                   & 15                  & 2013-01-01 05:00:00\\\\\n",
       "\t 2013                & 1                   & 1                   & 533                 & 529                 &  4                  &  850                &  830                &  20                 & UA                  & 1714                & N24211              & LGA                 & IAH                 & 227                 & 1416                & 5                   & 29                  & 2013-01-01 05:00:00\\\\\n",
       "\t 2013                & 1                   & 1                   & 542                 & 540                 &  2                  &  923                &  850                &  33                 & AA                  & 1141                & N619AA              & JFK                 & MIA                 & 160                 & 1089                & 5                   & 40                  & 2013-01-01 05:00:00\\\\\n",
       "\t 2013                & 1                   & 1                   & 544                 & 545                 & -1                  & 1004                & 1022                & -18                 & B6                  &  725                & N804JB              & JFK                 & BQN                 & 183                 & 1576                & 5                   & 45                  & 2013-01-01 05:00:00\\\\\n",
       "\t 2013                & 1                   & 1                   & 554                 & 600                 & -6                  &  812                &  837                & -25                 & DL                  &  461                & N668DN              & LGA                 & ATL                 & 116                 &  762                & 6                   &  0                  & 2013-01-01 06:00:00\\\\\n",
       "\t 2013                & 1                   & 1                   & 554                 & 558                 & -4                  &  740                &  728                &  12                 & UA                  & 1696                & N39463              & EWR                 & ORD                 & 150                 &  719                & 5                   & 58                  & 2013-01-01 05:00:00\\\\\n",
       "\\end{tabular}\n"
      ],
      "text/markdown": [
       "\n",
       "year | month | day | dep_time | sched_dep_time | dep_delay | arr_time | sched_arr_time | arr_delay | carrier | flight | tailnum | origin | dest | air_time | distance | hour | minute | time_hour | \n",
       "|---|---|---|---|---|---|\n",
       "| 2013                | 1                   | 1                   | 517                 | 515                 |  2                  |  830                |  819                |  11                 | UA                  | 1545                | N14228              | EWR                 | IAH                 | 227                 | 1400                | 5                   | 15                  | 2013-01-01 05:00:00 | \n",
       "| 2013                | 1                   | 1                   | 533                 | 529                 |  4                  |  850                |  830                |  20                 | UA                  | 1714                | N24211              | LGA                 | IAH                 | 227                 | 1416                | 5                   | 29                  | 2013-01-01 05:00:00 | \n",
       "| 2013                | 1                   | 1                   | 542                 | 540                 |  2                  |  923                |  850                |  33                 | AA                  | 1141                | N619AA              | JFK                 | MIA                 | 160                 | 1089                | 5                   | 40                  | 2013-01-01 05:00:00 | \n",
       "| 2013                | 1                   | 1                   | 544                 | 545                 | -1                  | 1004                | 1022                | -18                 | B6                  |  725                | N804JB              | JFK                 | BQN                 | 183                 | 1576                | 5                   | 45                  | 2013-01-01 05:00:00 | \n",
       "| 2013                | 1                   | 1                   | 554                 | 600                 | -6                  |  812                |  837                | -25                 | DL                  |  461                | N668DN              | LGA                 | ATL                 | 116                 |  762                | 6                   |  0                  | 2013-01-01 06:00:00 | \n",
       "| 2013                | 1                   | 1                   | 554                 | 558                 | -4                  |  740                |  728                |  12                 | UA                  | 1696                | N39463              | EWR                 | ORD                 | 150                 |  719                | 5                   | 58                  | 2013-01-01 05:00:00 | \n",
       "\n",
       "\n"
      ],
      "text/plain": [
       "  year month day dep_time sched_dep_time dep_delay arr_time sched_arr_time\n",
       "1 2013 1     1   517      515             2         830      819          \n",
       "2 2013 1     1   533      529             4         850      830          \n",
       "3 2013 1     1   542      540             2         923      850          \n",
       "4 2013 1     1   544      545            -1        1004     1022          \n",
       "5 2013 1     1   554      600            -6         812      837          \n",
       "6 2013 1     1   554      558            -4         740      728          \n",
       "  arr_delay carrier flight tailnum origin dest air_time distance hour minute\n",
       "1  11       UA      1545   N14228  EWR    IAH  227      1400     5    15    \n",
       "2  20       UA      1714   N24211  LGA    IAH  227      1416     5    29    \n",
       "3  33       AA      1141   N619AA  JFK    MIA  160      1089     5    40    \n",
       "4 -18       B6       725   N804JB  JFK    BQN  183      1576     5    45    \n",
       "5 -25       DL       461   N668DN  LGA    ATL  116       762     6     0    \n",
       "6  12       UA      1696   N39463  EWR    ORD  150       719     5    58    \n",
       "  time_hour          \n",
       "1 2013-01-01 05:00:00\n",
       "2 2013-01-01 05:00:00\n",
       "3 2013-01-01 05:00:00\n",
       "4 2013-01-01 05:00:00\n",
       "5 2013-01-01 06:00:00\n",
       "6 2013-01-01 05:00:00"
      ]
     },
     "metadata": {},
     "output_type": "display_data"
    }
   ],
   "source": [
    "head(flights)"
   ]
  },
  {
   "cell_type": "code",
   "execution_count": 91,
   "metadata": {},
   "outputs": [
    {
     "data": {
      "text/html": [
       "<table>\n",
       "<thead><tr><th scope=col>year</th><th scope=col>month</th><th scope=col>day</th><th scope=col>dep_time</th><th scope=col>sched_dep_time</th><th scope=col>dep_delay</th><th scope=col>arr_time</th><th scope=col>sched_arr_time</th><th scope=col>arr_delay</th><th scope=col>carrier</th><th scope=col>flight</th><th scope=col>tailnum</th><th scope=col>origin</th><th scope=col>dest</th><th scope=col>air_time</th><th scope=col>distance</th><th scope=col>hour</th><th scope=col>minute</th><th scope=col>time_hour</th></tr></thead>\n",
       "<tbody>\n",
       "\t<tr><td>2013               </td><td>9                  </td><td>1                  </td><td>  9                </td><td>2359               </td><td>10                 </td><td>343                </td><td>340                </td><td>  3                </td><td>B6                 </td><td> 839               </td><td>N663JB             </td><td>JFK                </td><td>BQN                </td><td>196                </td><td>1576               </td><td>23                 </td><td>59                 </td><td>2013-09-01 23:00:00</td></tr>\n",
       "\t<tr><td>2013               </td><td>9                  </td><td>1                  </td><td>508                </td><td> 516               </td><td>-8                 </td><td>717                </td><td>800                </td><td>-43                </td><td>UA                 </td><td>1545               </td><td>N57869             </td><td>EWR                </td><td>IAH                </td><td>170                </td><td>1400               </td><td> 5                 </td><td>16                 </td><td>2013-09-01 05:00:00</td></tr>\n",
       "\t<tr><td>2013               </td><td>9                  </td><td>1                  </td><td>537                </td><td> 545               </td><td>-8                 </td><td>849                </td><td>855                </td><td> -6                </td><td>AA                 </td><td> 701               </td><td>N613AA             </td><td>JFK                </td><td>MIA                </td><td>148                </td><td>1089               </td><td> 5                 </td><td>45                 </td><td>2013-09-01 05:00:00</td></tr>\n",
       "\t<tr><td>2013               </td><td>9                  </td><td>1                  </td><td>537                </td><td> 545               </td><td>-8                 </td><td>906                </td><td>921                </td><td>-15                </td><td>B6                 </td><td> 939               </td><td>N658JB             </td><td>JFK                </td><td>BQN                </td><td>191                </td><td>1576               </td><td> 5                 </td><td>45                 </td><td>2013-09-01 05:00:00</td></tr>\n",
       "\t<tr><td>2013               </td><td>9                  </td><td>1                  </td><td>552                </td><td> 600               </td><td>-8                 </td><td>843                </td><td>905                </td><td>-22                </td><td>AA                 </td><td>1895               </td><td>N3KFAA             </td><td>LGA                </td><td>MIA                </td><td>149                </td><td>1096               </td><td> 6                 </td><td> 0                 </td><td>2013-09-01 06:00:00</td></tr>\n",
       "\t<tr><td>2013               </td><td>9                  </td><td>1                  </td><td>555                </td><td> 600               </td><td>-5                 </td><td>835                </td><td>851                </td><td>-16                </td><td>B6                 </td><td> 371               </td><td>N639JB             </td><td>LGA                </td><td>FLL                </td><td>139                </td><td>1076               </td><td> 6                 </td><td> 0                 </td><td>2013-09-01 06:00:00</td></tr>\n",
       "</tbody>\n",
       "</table>\n"
      ],
      "text/latex": [
       "\\begin{tabular}{r|lllllllllllllllllll}\n",
       " year & month & day & dep\\_time & sched\\_dep\\_time & dep\\_delay & arr\\_time & sched\\_arr\\_time & arr\\_delay & carrier & flight & tailnum & origin & dest & air\\_time & distance & hour & minute & time\\_hour\\\\\n",
       "\\hline\n",
       "\t 2013                & 9                   & 1                   &   9                 & 2359                & 10                  & 343                 & 340                 &   3                 & B6                  &  839                & N663JB              & JFK                 & BQN                 & 196                 & 1576                & 23                  & 59                  & 2013-09-01 23:00:00\\\\\n",
       "\t 2013                & 9                   & 1                   & 508                 &  516                & -8                  & 717                 & 800                 & -43                 & UA                  & 1545                & N57869              & EWR                 & IAH                 & 170                 & 1400                &  5                  & 16                  & 2013-09-01 05:00:00\\\\\n",
       "\t 2013                & 9                   & 1                   & 537                 &  545                & -8                  & 849                 & 855                 &  -6                 & AA                  &  701                & N613AA              & JFK                 & MIA                 & 148                 & 1089                &  5                  & 45                  & 2013-09-01 05:00:00\\\\\n",
       "\t 2013                & 9                   & 1                   & 537                 &  545                & -8                  & 906                 & 921                 & -15                 & B6                  &  939                & N658JB              & JFK                 & BQN                 & 191                 & 1576                &  5                  & 45                  & 2013-09-01 05:00:00\\\\\n",
       "\t 2013                & 9                   & 1                   & 552                 &  600                & -8                  & 843                 & 905                 & -22                 & AA                  & 1895                & N3KFAA              & LGA                 & MIA                 & 149                 & 1096                &  6                  &  0                  & 2013-09-01 06:00:00\\\\\n",
       "\t 2013                & 9                   & 1                   & 555                 &  600                & -5                  & 835                 & 851                 & -16                 & B6                  &  371                & N639JB              & LGA                 & FLL                 & 139                 & 1076                &  6                  &  0                  & 2013-09-01 06:00:00\\\\\n",
       "\\end{tabular}\n"
      ],
      "text/markdown": [
       "\n",
       "year | month | day | dep_time | sched_dep_time | dep_delay | arr_time | sched_arr_time | arr_delay | carrier | flight | tailnum | origin | dest | air_time | distance | hour | minute | time_hour | \n",
       "|---|---|---|---|---|---|\n",
       "| 2013                | 9                   | 1                   |   9                 | 2359                | 10                  | 343                 | 340                 |   3                 | B6                  |  839                | N663JB              | JFK                 | BQN                 | 196                 | 1576                | 23                  | 59                  | 2013-09-01 23:00:00 | \n",
       "| 2013                | 9                   | 1                   | 508                 |  516                | -8                  | 717                 | 800                 | -43                 | UA                  | 1545                | N57869              | EWR                 | IAH                 | 170                 | 1400                |  5                  | 16                  | 2013-09-01 05:00:00 | \n",
       "| 2013                | 9                   | 1                   | 537                 |  545                | -8                  | 849                 | 855                 |  -6                 | AA                  |  701                | N613AA              | JFK                 | MIA                 | 148                 | 1089                |  5                  | 45                  | 2013-09-01 05:00:00 | \n",
       "| 2013                | 9                   | 1                   | 537                 |  545                | -8                  | 906                 | 921                 | -15                 | B6                  |  939                | N658JB              | JFK                 | BQN                 | 191                 | 1576                |  5                  | 45                  | 2013-09-01 05:00:00 | \n",
       "| 2013                | 9                   | 1                   | 552                 |  600                | -8                  | 843                 | 905                 | -22                 | AA                  | 1895                | N3KFAA              | LGA                 | MIA                 | 149                 | 1096                |  6                  |  0                  | 2013-09-01 06:00:00 | \n",
       "| 2013                | 9                   | 1                   | 555                 |  600                | -5                  | 835                 | 851                 | -16                 | B6                  |  371                | N639JB              | LGA                 | FLL                 | 139                 | 1076                |  6                  |  0                  | 2013-09-01 06:00:00 | \n",
       "\n",
       "\n"
      ],
      "text/plain": [
       "  year month day dep_time sched_dep_time dep_delay arr_time sched_arr_time\n",
       "1 2013 9     1     9      2359           10        343      340           \n",
       "2 2013 9     1   508       516           -8        717      800           \n",
       "3 2013 9     1   537       545           -8        849      855           \n",
       "4 2013 9     1   537       545           -8        906      921           \n",
       "5 2013 9     1   552       600           -8        843      905           \n",
       "6 2013 9     1   555       600           -5        835      851           \n",
       "  arr_delay carrier flight tailnum origin dest air_time distance hour minute\n",
       "1   3       B6       839   N663JB  JFK    BQN  196      1576     23   59    \n",
       "2 -43       UA      1545   N57869  EWR    IAH  170      1400      5   16    \n",
       "3  -6       AA       701   N613AA  JFK    MIA  148      1089      5   45    \n",
       "4 -15       B6       939   N658JB  JFK    BQN  191      1576      5   45    \n",
       "5 -22       AA      1895   N3KFAA  LGA    MIA  149      1096      6    0    \n",
       "6 -16       B6       371   N639JB  LGA    FLL  139      1076      6    0    \n",
       "  time_hour          \n",
       "1 2013-09-01 23:00:00\n",
       "2 2013-09-01 05:00:00\n",
       "3 2013-09-01 05:00:00\n",
       "4 2013-09-01 05:00:00\n",
       "5 2013-09-01 06:00:00\n",
       "6 2013-09-01 06:00:00"
      ]
     },
     "metadata": {},
     "output_type": "display_data"
    }
   ],
   "source": [
    "september_flights = filter(flights, month == 9, distance >= 1000)\n",
    "head(september_flights)"
   ]
  },
  {
   "cell_type": "code",
   "execution_count": 92,
   "metadata": {
    "scrolled": true
   },
   "outputs": [
    {
     "data": {
      "text/html": [
       "<table>\n",
       "<thead><tr><th scope=col>year</th><th scope=col>month</th><th scope=col>day</th><th scope=col>dep_time</th><th scope=col>sched_dep_time</th><th scope=col>dep_delay</th><th scope=col>arr_time</th><th scope=col>sched_arr_time</th><th scope=col>arr_delay</th><th scope=col>carrier</th><th scope=col>flight</th><th scope=col>tailnum</th><th scope=col>origin</th><th scope=col>dest</th><th scope=col>air_time</th><th scope=col>distance</th><th scope=col>hour</th><th scope=col>minute</th><th scope=col>time_hour</th></tr></thead>\n",
       "<tbody>\n",
       "\t<tr><td>2013               </td><td>11                 </td><td>1                  </td><td>  5                </td><td>2359               </td><td>  6                </td><td>352                </td><td> 345               </td><td>  7                </td><td>B6                 </td><td> 745               </td><td>N568JB             </td><td>JFK                </td><td>PSE                </td><td>205                </td><td>1617               </td><td>23                 </td><td>59                 </td><td>2013-11-01 23:00:00</td></tr>\n",
       "\t<tr><td>2013               </td><td>11                 </td><td>1                  </td><td> 35                </td><td>2250               </td><td>105                </td><td>123                </td><td>2356               </td><td> 87                </td><td>B6                 </td><td>1816               </td><td>N353JB             </td><td>JFK                </td><td>SYR                </td><td> 36                </td><td> 209               </td><td>22                 </td><td>50                 </td><td>2013-11-01 22:00:00</td></tr>\n",
       "\t<tr><td>2013               </td><td>11                 </td><td>1                  </td><td>455                </td><td> 500               </td><td> -5                </td><td>641                </td><td> 651               </td><td>-10                </td><td>US                 </td><td>1895               </td><td>N192UW             </td><td>EWR                </td><td>CLT                </td><td> 88                </td><td> 529               </td><td> 5                 </td><td> 0                 </td><td>2013-11-01 05:00:00</td></tr>\n",
       "\t<tr><td>2013               </td><td>11                 </td><td>1                  </td><td>539                </td><td> 545               </td><td> -6                </td><td>856                </td><td> 827               </td><td> 29                </td><td>UA                 </td><td>1714               </td><td>N38727             </td><td>LGA                </td><td>IAH                </td><td>229                </td><td>1416               </td><td> 5                 </td><td>45                 </td><td>2013-11-01 05:00:00</td></tr>\n",
       "\t<tr><td>2013               </td><td>11                 </td><td>1                  </td><td>542                </td><td> 545               </td><td> -3                </td><td>831                </td><td> 855               </td><td>-24                </td><td>AA                 </td><td>2243               </td><td>N5CLAA             </td><td>JFK                </td><td>MIA                </td><td>147                </td><td>1089               </td><td> 5                 </td><td>45                 </td><td>2013-11-01 05:00:00</td></tr>\n",
       "\t<tr><td>2013               </td><td>11                 </td><td>1                  </td><td>549                </td><td> 600               </td><td>-11                </td><td>912                </td><td> 923               </td><td>-11                </td><td>UA                 </td><td> 303               </td><td>N595UA             </td><td>JFK                </td><td>SFO                </td><td>359                </td><td>2586               </td><td> 6                 </td><td> 0                 </td><td>2013-11-01 06:00:00</td></tr>\n",
       "\t<tr><td>2013               </td><td>11                 </td><td>1                  </td><td>550                </td><td> 600               </td><td>-10                </td><td>705                </td><td> 659               </td><td>  6                </td><td>US                 </td><td>2167               </td><td>N748UW             </td><td>LGA                </td><td>DCA                </td><td> 57                </td><td> 214               </td><td> 6                 </td><td> 0                 </td><td>2013-11-01 06:00:00</td></tr>\n",
       "\t<tr><td>2013               </td><td>11                 </td><td>1                  </td><td>554                </td><td> 600               </td><td> -6                </td><td>659                </td><td> 701               </td><td> -2                </td><td>US                 </td><td>2134               </td><td>N742PS             </td><td>LGA                </td><td>BOS                </td><td> 40                </td><td> 184               </td><td> 6                 </td><td> 0                 </td><td>2013-11-01 06:00:00</td></tr>\n",
       "\t<tr><td>2013               </td><td>11                 </td><td>1                  </td><td>554                </td><td> 600               </td><td> -6                </td><td>826                </td><td> 827               </td><td> -1                </td><td>DL                 </td><td> 563               </td><td>N912DE             </td><td>LGA                </td><td>ATL                </td><td>126                </td><td> 762               </td><td> 6                 </td><td> 0                 </td><td>2013-11-01 06:00:00</td></tr>\n",
       "\t<tr><td>2013               </td><td>11                 </td><td>1                  </td><td>554                </td><td> 600               </td><td> -6                </td><td>749                </td><td> 751               </td><td> -2                </td><td>DL                 </td><td> 731               </td><td>N315NB             </td><td>LGA                </td><td>DTW                </td><td> 93                </td><td> 502               </td><td> 6                 </td><td> 0                 </td><td>2013-11-01 06:00:00</td></tr>\n",
       "\t<tr><td>2013               </td><td>11                 </td><td>1                  </td><td>555                </td><td> 600               </td><td> -5                </td><td>847                </td><td> 854               </td><td> -7                </td><td>B6                 </td><td> 605               </td><td>N640JB             </td><td>EWR                </td><td>FLL                </td><td>149                </td><td>1065               </td><td> 6                 </td><td> 0                 </td><td>2013-11-01 06:00:00</td></tr>\n",
       "\t<tr><td>2013               </td><td>11                 </td><td>1                  </td><td>555                </td><td> 600               </td><td> -5                </td><td>839                </td><td> 846               </td><td> -7                </td><td>B6                 </td><td> 583               </td><td>N661JB             </td><td>JFK                </td><td>MCO                </td><td>136                </td><td> 944               </td><td> 6                 </td><td> 0                 </td><td>2013-11-01 06:00:00</td></tr>\n",
       "\t<tr><td>2013               </td><td>11                 </td><td>1                  </td><td>555                </td><td> 600               </td><td> -5                </td><td>929                </td><td> 943               </td><td>-14                </td><td>B6                 </td><td>1403               </td><td>N746JB             </td><td>JFK                </td><td>SJU                </td><td>196                </td><td>1598               </td><td> 6                 </td><td> 0                 </td><td>2013-11-01 06:00:00</td></tr>\n",
       "\t<tr><td>2013               </td><td>11                 </td><td>1                  </td><td>556                </td><td> 600               </td><td> -4                </td><td>834                </td><td> 851               </td><td>-17                </td><td>UA                 </td><td> 407               </td><td>N834UA             </td><td>EWR                </td><td>TPA                </td><td>142                </td><td> 997               </td><td> 6                 </td><td> 0                 </td><td>2013-11-01 06:00:00</td></tr>\n",
       "\t<tr><td>2013               </td><td>11                 </td><td>1                  </td><td>558                </td><td> 600               </td><td> -2                </td><td>727                </td><td> 730               </td><td> -3                </td><td>UA                 </td><td> 279               </td><td>N459UA             </td><td>EWR                </td><td>ORD                </td><td>118                </td><td> 719               </td><td> 6                 </td><td> 0                 </td><td>2013-11-01 06:00:00</td></tr>\n",
       "\t<tr><td>2013               </td><td>11                 </td><td>1                  </td><td>558                </td><td> 600               </td><td> -2                </td><td>650                </td><td> 658               </td><td> -8                </td><td>US                 </td><td>1909               </td><td>N950UW             </td><td>LGA                </td><td>PHL                </td><td> 38                </td><td>  96               </td><td> 6                 </td><td> 0                 </td><td>2013-11-01 06:00:00</td></tr>\n",
       "\t<tr><td>2013               </td><td>11                 </td><td>1                  </td><td>558                </td><td> 600               </td><td> -2                </td><td>914                </td><td> 905               </td><td>  9                </td><td>AA                 </td><td>1175               </td><td>N3GHAA             </td><td>LGA                </td><td>MIA                </td><td>155                </td><td>1096               </td><td> 6                 </td><td> 0                 </td><td>2013-11-01 06:00:00</td></tr>\n",
       "\t<tr><td>2013               </td><td>11                 </td><td>1                  </td><td>558                </td><td> 600               </td><td> -2                </td><td>720                </td><td> 715               </td><td>  5                </td><td>WN                 </td><td> 464               </td><td>N390SW             </td><td>EWR                </td><td>MDW                </td><td>117                </td><td> 711               </td><td> 6                 </td><td> 0                 </td><td>2013-11-01 06:00:00</td></tr>\n",
       "\t<tr><td>2013               </td><td>11                 </td><td>1                  </td><td>559                </td><td> 600               </td><td> -1                </td><td>756                </td><td> 730               </td><td> 26                </td><td>AA                 </td><td> 301               </td><td>N4YHAA             </td><td>LGA                </td><td>ORD                </td><td>119                </td><td> 733               </td><td> 6                 </td><td> 0                 </td><td>2013-11-01 06:00:00</td></tr>\n",
       "\t<tr><td>2013               </td><td>11                 </td><td>1                  </td><td>600                </td><td> 600               </td><td>  0                </td><td>709                </td><td> 716               </td><td> -7                </td><td>EV                 </td><td>5716               </td><td>N820AS             </td><td>JFK                </td><td>IAD                </td><td> 49                </td><td> 228               </td><td> 6                 </td><td> 0                 </td><td>2013-11-01 06:00:00</td></tr>\n",
       "\t<tr><td>2013               </td><td>11                 </td><td>1                  </td><td>600                </td><td> 600               </td><td>  0                </td><td>725                </td><td> 721               </td><td>  4                </td><td>UA                 </td><td>1198               </td><td>N23707             </td><td>LGA                </td><td>ORD                </td><td>121                </td><td> 733               </td><td> 6                 </td><td> 0                 </td><td>2013-11-01 06:00:00</td></tr>\n",
       "\t<tr><td>2013               </td><td>11                 </td><td>1                  </td><td>601                </td><td> 600               </td><td>  1                </td><td>853                </td><td> 856               </td><td> -3                </td><td>B6                 </td><td> 371               </td><td>N570JB             </td><td>LGA                </td><td>FLL                </td><td>150                </td><td>1076               </td><td> 6                 </td><td> 0                 </td><td>2013-11-01 06:00:00</td></tr>\n",
       "\t<tr><td>2013               </td><td>11                 </td><td>1                  </td><td>601                </td><td> 610               </td><td> -9                </td><td>803                </td><td> 813               </td><td>-10                </td><td>DL                 </td><td>1919               </td><td>N922DL             </td><td>LGA                </td><td>MSP                </td><td>153                </td><td>1020               </td><td> 6                 </td><td>10                 </td><td>2013-11-01 06:00:00</td></tr>\n",
       "\t<tr><td>2013               </td><td>11                 </td><td>1                  </td><td>602                </td><td> 600               </td><td>  2                </td><td>843                </td><td> 815               </td><td> 28                </td><td>FL                 </td><td> 345               </td><td>N353AT             </td><td>LGA                </td><td>ATL                </td><td>131                </td><td> 762               </td><td> 6                 </td><td> 0                 </td><td>2013-11-01 06:00:00</td></tr>\n",
       "\t<tr><td>2013               </td><td>11                 </td><td>1                  </td><td>603                </td><td> 600               </td><td>  3                </td><td>717                </td><td> 711               </td><td>  6                </td><td>EV                 </td><td>4533               </td><td>N11109             </td><td>EWR                </td><td>BUF                </td><td> 53                </td><td> 282               </td><td> 6                 </td><td> 0                 </td><td>2013-11-01 06:00:00</td></tr>\n",
       "\t<tr><td>2013               </td><td>11                 </td><td>1                  </td><td>604                </td><td> 610               </td><td> -6                </td><td>855                </td><td> 855               </td><td>  0                </td><td>AA                 </td><td>1103               </td><td>N3FTAA             </td><td>LGA                </td><td>DFW                </td><td>205                </td><td>1389               </td><td> 6                 </td><td>10                 </td><td>2013-11-01 06:00:00</td></tr>\n",
       "\t<tr><td>2013               </td><td>11                 </td><td>1                  </td><td>606                </td><td> 615               </td><td> -9                </td><td>746                </td><td> 750               </td><td> -4                </td><td>MQ                 </td><td>3525               </td><td>N834MQ             </td><td>LGA                </td><td>RDU                </td><td> 74                </td><td> 431               </td><td> 6                 </td><td>15                 </td><td>2013-11-01 06:00:00</td></tr>\n",
       "\t<tr><td>2013               </td><td>11                 </td><td>1                  </td><td>606                </td><td> 615               </td><td> -9                </td><td>807                </td><td> 817               </td><td>-10                </td><td>US                 </td><td>1899               </td><td>N199UW             </td><td>JFK                </td><td>CLT                </td><td> 93                </td><td> 541               </td><td> 6                 </td><td>15                 </td><td>2013-11-01 06:00:00</td></tr>\n",
       "\t<tr><td>2013               </td><td>11                 </td><td>1                  </td><td>606                </td><td> 610               </td><td> -4                </td><td>752                </td><td> 745               </td><td>  7                </td><td>WN                 </td><td>2609               </td><td>N440LV             </td><td>LGA                </td><td>STL                </td><td>142                </td><td> 888               </td><td> 6                 </td><td>10                 </td><td>2013-11-01 06:00:00</td></tr>\n",
       "\t<tr><td>2013               </td><td>11                 </td><td>1                  </td><td>607                </td><td> 611               </td><td> -4                </td><td>857                </td><td> 912               </td><td>-15                </td><td>B6                 </td><td> 601               </td><td>N597JB             </td><td>JFK                </td><td>FLL                </td><td>149                </td><td>1069               </td><td> 6                 </td><td>11                 </td><td>2013-11-01 06:00:00</td></tr>\n",
       "\t<tr><td>...</td><td>...</td><td>...</td><td>...</td><td>...</td><td>...</td><td>...</td><td>...</td><td>...</td><td>...</td><td>...</td><td>...</td><td>...</td><td>...</td><td>...</td><td>...</td><td>...</td><td>...</td><td>...</td></tr>\n",
       "\t<tr><td>2013               </td><td>12                 </td><td>31                 </td><td>2155               </td><td>2039               </td><td> 76                </td><td> 253               </td><td>2355               </td><td> NA                </td><td>B6                 </td><td>1205               </td><td>N627JB             </td><td>JFK                </td><td>PDX                </td><td> NA                </td><td>2454               </td><td>20                 </td><td>39                 </td><td>2013-12-31 20:00:00</td></tr>\n",
       "\t<tr><td>2013               </td><td>12                 </td><td>31                 </td><td>2155               </td><td>2150               </td><td>  5                </td><td> 110               </td><td>  51               </td><td> 19                </td><td>B6                 </td><td>1901               </td><td>N729JB             </td><td>JFK                </td><td>FLL                </td><td>164                </td><td>1069               </td><td>21                 </td><td>50                 </td><td>2013-12-31 21:00:00</td></tr>\n",
       "\t<tr><td>2013               </td><td>12                 </td><td>31                 </td><td>2159               </td><td>2155               </td><td>  4                </td><td>  55               </td><td>  46               </td><td>  9                </td><td>B6                 </td><td>2053               </td><td>N593JB             </td><td>JFK                </td><td>PBI                </td><td>155                </td><td>1028               </td><td>21                 </td><td>55                 </td><td>2013-12-31 21:00:00</td></tr>\n",
       "\t<tr><td>2013               </td><td>12                 </td><td>31                 </td><td>2206               </td><td>2110               </td><td> 56                </td><td>  44               </td><td>2339               </td><td> 65                </td><td>B6                 </td><td> 775               </td><td>N184JB             </td><td>JFK                </td><td>MSY                </td><td>195                </td><td>1182               </td><td>21                 </td><td>10                 </td><td>2013-12-31 21:00:00</td></tr>\n",
       "\t<tr><td>2013               </td><td>12                 </td><td>31                 </td><td>2211               </td><td>2159               </td><td> 12                </td><td> 100               </td><td>  45               </td><td> 15                </td><td>B6                 </td><td>1183               </td><td>N715JB             </td><td>JFK                </td><td>MCO                </td><td>148                </td><td> 944               </td><td>21                 </td><td>59                 </td><td>2013-12-31 21:00:00</td></tr>\n",
       "\t<tr><td>2013               </td><td>12                 </td><td>31                 </td><td>2218               </td><td>2219               </td><td> -1                </td><td> 315               </td><td> 304               </td><td> 11                </td><td>B6                 </td><td>1203               </td><td>N625JB             </td><td>JFK                </td><td>SJU                </td><td>202                </td><td>1598               </td><td>22                 </td><td>19                 </td><td>2013-12-31 22:00:00</td></tr>\n",
       "\t<tr><td>2013               </td><td>12                 </td><td>31                 </td><td>2235               </td><td>2245               </td><td>-10                </td><td>2351               </td><td>2355               </td><td> -4                </td><td>B6                 </td><td> 234               </td><td>N355JB             </td><td>JFK                </td><td>BTV                </td><td> 49                </td><td> 266               </td><td>22                 </td><td>45                 </td><td>2013-12-31 22:00:00</td></tr>\n",
       "\t<tr><td>2013               </td><td>12                 </td><td>31                 </td><td>2245               </td><td>2250               </td><td> -5                </td><td>2359               </td><td>2356               </td><td>  3                </td><td>B6                 </td><td>1816               </td><td>N318JB             </td><td>JFK                </td><td>SYR                </td><td> 51                </td><td> 209               </td><td>22                 </td><td>50                 </td><td>2013-12-31 22:00:00</td></tr>\n",
       "\t<tr><td>2013               </td><td>12                 </td><td>31                 </td><td>2310               </td><td>2255               </td><td> 15                </td><td>   7               </td><td>2356               </td><td> 11                </td><td>B6                 </td><td> 718               </td><td>N279JB             </td><td>JFK                </td><td>BOS                </td><td> 40                </td><td> 187               </td><td>22                 </td><td>55                 </td><td>2013-12-31 22:00:00</td></tr>\n",
       "\t<tr><td>2013               </td><td>12                 </td><td>31                 </td><td>2321               </td><td>2250               </td><td> 31                </td><td>  46               </td><td>   8               </td><td> 38                </td><td>B6                 </td><td>2002               </td><td>N179JB             </td><td>JFK                </td><td>BUF                </td><td> 66                </td><td> 301               </td><td>22                 </td><td>50                 </td><td>2013-12-31 22:00:00</td></tr>\n",
       "\t<tr><td>2013               </td><td>12                 </td><td>31                 </td><td>2328               </td><td>2330               </td><td> -2                </td><td> 412               </td><td> 409               </td><td>  3                </td><td>B6                 </td><td>1389               </td><td>N651JB             </td><td>EWR                </td><td>SJU                </td><td>198                </td><td>1608               </td><td>23                 </td><td>30                 </td><td>2013-12-31 23:00:00</td></tr>\n",
       "\t<tr><td>2013               </td><td>12                 </td><td>31                 </td><td>2332               </td><td>2245               </td><td> 47                </td><td>  58               </td><td>   3               </td><td> 55                </td><td>B6                 </td><td> 486               </td><td>N334JB             </td><td>JFK                </td><td>ROC                </td><td> 60                </td><td> 264               </td><td>22                 </td><td>45                 </td><td>2013-12-31 22:00:00</td></tr>\n",
       "\t<tr><td>2013               </td><td>12                 </td><td>31                 </td><td>2355               </td><td>2359               </td><td> -4                </td><td> 430               </td><td> 440               </td><td>-10                </td><td>B6                 </td><td>1503               </td><td>N509JB             </td><td>JFK                </td><td>SJU                </td><td>195                </td><td>1598               </td><td>23                 </td><td>59                 </td><td>2013-12-31 23:00:00</td></tr>\n",
       "\t<tr><td>2013               </td><td>12                 </td><td>31                 </td><td>2356               </td><td>2359               </td><td> -3                </td><td> 436               </td><td> 445               </td><td> -9                </td><td>B6                 </td><td> 745               </td><td>N665JB             </td><td>JFK                </td><td>PSE                </td><td>200                </td><td>1617               </td><td>23                 </td><td>59                 </td><td>2013-12-31 23:00:00</td></tr>\n",
       "\t<tr><td>2013               </td><td>12                 </td><td>31                 </td><td>  NA               </td><td>1520               </td><td> NA                </td><td>  NA               </td><td>1705               </td><td> NA                </td><td>AA                 </td><td> 341               </td><td>N568AA             </td><td>LGA                </td><td>ORD                </td><td> NA                </td><td> 733               </td><td>15                 </td><td>20                 </td><td>2013-12-31 15:00:00</td></tr>\n",
       "\t<tr><td>2013               </td><td>12                 </td><td>31                 </td><td>  NA               </td><td>2025               </td><td> NA                </td><td>  NA               </td><td>2205               </td><td> NA                </td><td>AA                 </td><td> 371               </td><td>N482AA             </td><td>LGA                </td><td>ORD                </td><td> NA                </td><td> 733               </td><td>20                 </td><td>25                 </td><td>2013-12-31 20:00:00</td></tr>\n",
       "\t<tr><td>2013               </td><td>12                 </td><td>31                 </td><td>  NA               </td><td>1932               </td><td> NA                </td><td>  NA               </td><td>2305               </td><td> NA                </td><td>B6                 </td><td> 161               </td><td>N516JB             </td><td>JFK                </td><td>SMF                </td><td> NA                </td><td>2521               </td><td>19                 </td><td>32                 </td><td>2013-12-31 19:00:00</td></tr>\n",
       "\t<tr><td>2013               </td><td>12                 </td><td>31                 </td><td>  NA               </td><td>1505               </td><td> NA                </td><td>  NA               </td><td>1725               </td><td> NA                </td><td>EV                 </td><td>4181               </td><td>N24103             </td><td>EWR                </td><td>MCI                </td><td> NA                </td><td>1092               </td><td>15                 </td><td> 5                 </td><td>2013-12-31 15:00:00</td></tr>\n",
       "\t<tr><td>2013               </td><td>12                 </td><td>31                 </td><td>  NA               </td><td>1000               </td><td> NA                </td><td>  NA               </td><td>1252               </td><td> NA                </td><td>UA                 </td><td>1124               </td><td>NA                 </td><td>EWR                </td><td>EGE                </td><td> NA                </td><td>1725               </td><td>10                 </td><td> 0                 </td><td>2013-12-31 10:00:00</td></tr>\n",
       "\t<tr><td>2013               </td><td>12                 </td><td>31                 </td><td>  NA               </td><td> 840               </td><td> NA                </td><td>  NA               </td><td>1205               </td><td> NA                </td><td>UA                 </td><td>1151               </td><td>NA                 </td><td>EWR                </td><td>SEA                </td><td> NA                </td><td>2402               </td><td> 8                 </td><td>40                 </td><td>2013-12-31 08:00:00</td></tr>\n",
       "\t<tr><td>2013               </td><td>12                 </td><td>31                 </td><td>  NA               </td><td> 754               </td><td> NA                </td><td>  NA               </td><td>1118               </td><td> NA                </td><td>UA                 </td><td>1455               </td><td>NA                 </td><td>EWR                </td><td>LAX                </td><td> NA                </td><td>2454               </td><td> 7                 </td><td>54                 </td><td>2013-12-31 07:00:00</td></tr>\n",
       "\t<tr><td>2013               </td><td>12                 </td><td>31                 </td><td>  NA               </td><td>2000               </td><td> NA                </td><td>  NA               </td><td>2146               </td><td> NA                </td><td>UA                 </td><td>1482               </td><td>NA                 </td><td>EWR                </td><td>ORD                </td><td> NA                </td><td> 719               </td><td>20                 </td><td> 0                 </td><td>2013-12-31 20:00:00</td></tr>\n",
       "\t<tr><td>2013               </td><td>12                 </td><td>31                 </td><td>  NA               </td><td>1500               </td><td> NA                </td><td>  NA               </td><td>1817               </td><td> NA                </td><td>UA                 </td><td>1483               </td><td>NA                 </td><td>EWR                </td><td>AUS                </td><td> NA                </td><td>1504               </td><td>15                 </td><td> 0                 </td><td>2013-12-31 15:00:00</td></tr>\n",
       "\t<tr><td>2013               </td><td>12                 </td><td>31                 </td><td>  NA               </td><td>1430               </td><td> NA                </td><td>  NA               </td><td>1750               </td><td> NA                </td><td>UA                 </td><td>1493               </td><td>NA                 </td><td>EWR                </td><td>LAX                </td><td> NA                </td><td>2454               </td><td>14                 </td><td>30                 </td><td>2013-12-31 14:00:00</td></tr>\n",
       "\t<tr><td>2013               </td><td>12                 </td><td>31                 </td><td>  NA               </td><td> 855               </td><td> NA                </td><td>  NA               </td><td>1142               </td><td> NA                </td><td>UA                 </td><td>1506               </td><td>NA                 </td><td>EWR                </td><td>JAC                </td><td> NA                </td><td>1874               </td><td> 8                 </td><td>55                 </td><td>2013-12-31 08:00:00</td></tr>\n",
       "\t<tr><td>2013               </td><td>12                 </td><td>31                 </td><td>  NA               </td><td> 705               </td><td> NA                </td><td>  NA               </td><td> 931               </td><td> NA                </td><td>UA                 </td><td>1729               </td><td>NA                 </td><td>EWR                </td><td>DEN                </td><td> NA                </td><td>1605               </td><td> 7                 </td><td> 5                 </td><td>2013-12-31 07:00:00</td></tr>\n",
       "\t<tr><td>2013               </td><td>12                 </td><td>31                 </td><td>  NA               </td><td> 825               </td><td> NA                </td><td>  NA               </td><td>1029               </td><td> NA                </td><td>US                 </td><td>1831               </td><td>NA                 </td><td>JFK                </td><td>CLT                </td><td> NA                </td><td> 541               </td><td> 8                 </td><td>25                 </td><td>2013-12-31 08:00:00</td></tr>\n",
       "\t<tr><td>2013               </td><td>12                 </td><td>31                 </td><td>  NA               </td><td>1615               </td><td> NA                </td><td>  NA               </td><td>1800               </td><td> NA                </td><td>MQ                 </td><td>3301               </td><td>N844MQ             </td><td>LGA                </td><td>RDU                </td><td> NA                </td><td> 431               </td><td>16                 </td><td>15                 </td><td>2013-12-31 16:00:00</td></tr>\n",
       "\t<tr><td>2013               </td><td>12                 </td><td>31                 </td><td>  NA               </td><td> 600               </td><td> NA                </td><td>  NA               </td><td> 735               </td><td> NA                </td><td>UA                 </td><td> 219               </td><td>NA                 </td><td>EWR                </td><td>ORD                </td><td> NA                </td><td> 719               </td><td> 6                 </td><td> 0                 </td><td>2013-12-31 06:00:00</td></tr>\n",
       "\t<tr><td>2013               </td><td>12                 </td><td>31                 </td><td>  NA               </td><td> 830               </td><td> NA                </td><td>  NA               </td><td>1154               </td><td> NA                </td><td>UA                 </td><td> 443               </td><td>NA                 </td><td>JFK                </td><td>LAX                </td><td> NA                </td><td>2475               </td><td> 8                 </td><td>30                 </td><td>2013-12-31 08:00:00</td></tr>\n",
       "</tbody>\n",
       "</table>\n"
      ],
      "text/latex": [
       "\\begin{tabular}{r|lllllllllllllllllll}\n",
       " year & month & day & dep\\_time & sched\\_dep\\_time & dep\\_delay & arr\\_time & sched\\_arr\\_time & arr\\_delay & carrier & flight & tailnum & origin & dest & air\\_time & distance & hour & minute & time\\_hour\\\\\n",
       "\\hline\n",
       "\t 2013                & 11                  & 1                   &   5                 & 2359                &   6                 & 352                 &  345                &   7                 & B6                  &  745                & N568JB              & JFK                 & PSE                 & 205                 & 1617                & 23                  & 59                  & 2013-11-01 23:00:00\\\\\n",
       "\t 2013                & 11                  & 1                   &  35                 & 2250                & 105                 & 123                 & 2356                &  87                 & B6                  & 1816                & N353JB              & JFK                 & SYR                 &  36                 &  209                & 22                  & 50                  & 2013-11-01 22:00:00\\\\\n",
       "\t 2013                & 11                  & 1                   & 455                 &  500                &  -5                 & 641                 &  651                & -10                 & US                  & 1895                & N192UW              & EWR                 & CLT                 &  88                 &  529                &  5                  &  0                  & 2013-11-01 05:00:00\\\\\n",
       "\t 2013                & 11                  & 1                   & 539                 &  545                &  -6                 & 856                 &  827                &  29                 & UA                  & 1714                & N38727              & LGA                 & IAH                 & 229                 & 1416                &  5                  & 45                  & 2013-11-01 05:00:00\\\\\n",
       "\t 2013                & 11                  & 1                   & 542                 &  545                &  -3                 & 831                 &  855                & -24                 & AA                  & 2243                & N5CLAA              & JFK                 & MIA                 & 147                 & 1089                &  5                  & 45                  & 2013-11-01 05:00:00\\\\\n",
       "\t 2013                & 11                  & 1                   & 549                 &  600                & -11                 & 912                 &  923                & -11                 & UA                  &  303                & N595UA              & JFK                 & SFO                 & 359                 & 2586                &  6                  &  0                  & 2013-11-01 06:00:00\\\\\n",
       "\t 2013                & 11                  & 1                   & 550                 &  600                & -10                 & 705                 &  659                &   6                 & US                  & 2167                & N748UW              & LGA                 & DCA                 &  57                 &  214                &  6                  &  0                  & 2013-11-01 06:00:00\\\\\n",
       "\t 2013                & 11                  & 1                   & 554                 &  600                &  -6                 & 659                 &  701                &  -2                 & US                  & 2134                & N742PS              & LGA                 & BOS                 &  40                 &  184                &  6                  &  0                  & 2013-11-01 06:00:00\\\\\n",
       "\t 2013                & 11                  & 1                   & 554                 &  600                &  -6                 & 826                 &  827                &  -1                 & DL                  &  563                & N912DE              & LGA                 & ATL                 & 126                 &  762                &  6                  &  0                  & 2013-11-01 06:00:00\\\\\n",
       "\t 2013                & 11                  & 1                   & 554                 &  600                &  -6                 & 749                 &  751                &  -2                 & DL                  &  731                & N315NB              & LGA                 & DTW                 &  93                 &  502                &  6                  &  0                  & 2013-11-01 06:00:00\\\\\n",
       "\t 2013                & 11                  & 1                   & 555                 &  600                &  -5                 & 847                 &  854                &  -7                 & B6                  &  605                & N640JB              & EWR                 & FLL                 & 149                 & 1065                &  6                  &  0                  & 2013-11-01 06:00:00\\\\\n",
       "\t 2013                & 11                  & 1                   & 555                 &  600                &  -5                 & 839                 &  846                &  -7                 & B6                  &  583                & N661JB              & JFK                 & MCO                 & 136                 &  944                &  6                  &  0                  & 2013-11-01 06:00:00\\\\\n",
       "\t 2013                & 11                  & 1                   & 555                 &  600                &  -5                 & 929                 &  943                & -14                 & B6                  & 1403                & N746JB              & JFK                 & SJU                 & 196                 & 1598                &  6                  &  0                  & 2013-11-01 06:00:00\\\\\n",
       "\t 2013                & 11                  & 1                   & 556                 &  600                &  -4                 & 834                 &  851                & -17                 & UA                  &  407                & N834UA              & EWR                 & TPA                 & 142                 &  997                &  6                  &  0                  & 2013-11-01 06:00:00\\\\\n",
       "\t 2013                & 11                  & 1                   & 558                 &  600                &  -2                 & 727                 &  730                &  -3                 & UA                  &  279                & N459UA              & EWR                 & ORD                 & 118                 &  719                &  6                  &  0                  & 2013-11-01 06:00:00\\\\\n",
       "\t 2013                & 11                  & 1                   & 558                 &  600                &  -2                 & 650                 &  658                &  -8                 & US                  & 1909                & N950UW              & LGA                 & PHL                 &  38                 &   96                &  6                  &  0                  & 2013-11-01 06:00:00\\\\\n",
       "\t 2013                & 11                  & 1                   & 558                 &  600                &  -2                 & 914                 &  905                &   9                 & AA                  & 1175                & N3GHAA              & LGA                 & MIA                 & 155                 & 1096                &  6                  &  0                  & 2013-11-01 06:00:00\\\\\n",
       "\t 2013                & 11                  & 1                   & 558                 &  600                &  -2                 & 720                 &  715                &   5                 & WN                  &  464                & N390SW              & EWR                 & MDW                 & 117                 &  711                &  6                  &  0                  & 2013-11-01 06:00:00\\\\\n",
       "\t 2013                & 11                  & 1                   & 559                 &  600                &  -1                 & 756                 &  730                &  26                 & AA                  &  301                & N4YHAA              & LGA                 & ORD                 & 119                 &  733                &  6                  &  0                  & 2013-11-01 06:00:00\\\\\n",
       "\t 2013                & 11                  & 1                   & 600                 &  600                &   0                 & 709                 &  716                &  -7                 & EV                  & 5716                & N820AS              & JFK                 & IAD                 &  49                 &  228                &  6                  &  0                  & 2013-11-01 06:00:00\\\\\n",
       "\t 2013                & 11                  & 1                   & 600                 &  600                &   0                 & 725                 &  721                &   4                 & UA                  & 1198                & N23707              & LGA                 & ORD                 & 121                 &  733                &  6                  &  0                  & 2013-11-01 06:00:00\\\\\n",
       "\t 2013                & 11                  & 1                   & 601                 &  600                &   1                 & 853                 &  856                &  -3                 & B6                  &  371                & N570JB              & LGA                 & FLL                 & 150                 & 1076                &  6                  &  0                  & 2013-11-01 06:00:00\\\\\n",
       "\t 2013                & 11                  & 1                   & 601                 &  610                &  -9                 & 803                 &  813                & -10                 & DL                  & 1919                & N922DL              & LGA                 & MSP                 & 153                 & 1020                &  6                  & 10                  & 2013-11-01 06:00:00\\\\\n",
       "\t 2013                & 11                  & 1                   & 602                 &  600                &   2                 & 843                 &  815                &  28                 & FL                  &  345                & N353AT              & LGA                 & ATL                 & 131                 &  762                &  6                  &  0                  & 2013-11-01 06:00:00\\\\\n",
       "\t 2013                & 11                  & 1                   & 603                 &  600                &   3                 & 717                 &  711                &   6                 & EV                  & 4533                & N11109              & EWR                 & BUF                 &  53                 &  282                &  6                  &  0                  & 2013-11-01 06:00:00\\\\\n",
       "\t 2013                & 11                  & 1                   & 604                 &  610                &  -6                 & 855                 &  855                &   0                 & AA                  & 1103                & N3FTAA              & LGA                 & DFW                 & 205                 & 1389                &  6                  & 10                  & 2013-11-01 06:00:00\\\\\n",
       "\t 2013                & 11                  & 1                   & 606                 &  615                &  -9                 & 746                 &  750                &  -4                 & MQ                  & 3525                & N834MQ              & LGA                 & RDU                 &  74                 &  431                &  6                  & 15                  & 2013-11-01 06:00:00\\\\\n",
       "\t 2013                & 11                  & 1                   & 606                 &  615                &  -9                 & 807                 &  817                & -10                 & US                  & 1899                & N199UW              & JFK                 & CLT                 &  93                 &  541                &  6                  & 15                  & 2013-11-01 06:00:00\\\\\n",
       "\t 2013                & 11                  & 1                   & 606                 &  610                &  -4                 & 752                 &  745                &   7                 & WN                  & 2609                & N440LV              & LGA                 & STL                 & 142                 &  888                &  6                  & 10                  & 2013-11-01 06:00:00\\\\\n",
       "\t 2013                & 11                  & 1                   & 607                 &  611                &  -4                 & 857                 &  912                & -15                 & B6                  &  601                & N597JB              & JFK                 & FLL                 & 149                 & 1069                &  6                  & 11                  & 2013-11-01 06:00:00\\\\\n",
       "\t ... & ... & ... & ... & ... & ... & ... & ... & ... & ... & ... & ... & ... & ... & ... & ... & ... & ... & ...\\\\\n",
       "\t 2013                & 12                  & 31                  & 2155                & 2039                &  76                 &  253                & 2355                &  NA                 & B6                  & 1205                & N627JB              & JFK                 & PDX                 &  NA                 & 2454                & 20                  & 39                  & 2013-12-31 20:00:00\\\\\n",
       "\t 2013                & 12                  & 31                  & 2155                & 2150                &   5                 &  110                &   51                &  19                 & B6                  & 1901                & N729JB              & JFK                 & FLL                 & 164                 & 1069                & 21                  & 50                  & 2013-12-31 21:00:00\\\\\n",
       "\t 2013                & 12                  & 31                  & 2159                & 2155                &   4                 &   55                &   46                &   9                 & B6                  & 2053                & N593JB              & JFK                 & PBI                 & 155                 & 1028                & 21                  & 55                  & 2013-12-31 21:00:00\\\\\n",
       "\t 2013                & 12                  & 31                  & 2206                & 2110                &  56                 &   44                & 2339                &  65                 & B6                  &  775                & N184JB              & JFK                 & MSY                 & 195                 & 1182                & 21                  & 10                  & 2013-12-31 21:00:00\\\\\n",
       "\t 2013                & 12                  & 31                  & 2211                & 2159                &  12                 &  100                &   45                &  15                 & B6                  & 1183                & N715JB              & JFK                 & MCO                 & 148                 &  944                & 21                  & 59                  & 2013-12-31 21:00:00\\\\\n",
       "\t 2013                & 12                  & 31                  & 2218                & 2219                &  -1                 &  315                &  304                &  11                 & B6                  & 1203                & N625JB              & JFK                 & SJU                 & 202                 & 1598                & 22                  & 19                  & 2013-12-31 22:00:00\\\\\n",
       "\t 2013                & 12                  & 31                  & 2235                & 2245                & -10                 & 2351                & 2355                &  -4                 & B6                  &  234                & N355JB              & JFK                 & BTV                 &  49                 &  266                & 22                  & 45                  & 2013-12-31 22:00:00\\\\\n",
       "\t 2013                & 12                  & 31                  & 2245                & 2250                &  -5                 & 2359                & 2356                &   3                 & B6                  & 1816                & N318JB              & JFK                 & SYR                 &  51                 &  209                & 22                  & 50                  & 2013-12-31 22:00:00\\\\\n",
       "\t 2013                & 12                  & 31                  & 2310                & 2255                &  15                 &    7                & 2356                &  11                 & B6                  &  718                & N279JB              & JFK                 & BOS                 &  40                 &  187                & 22                  & 55                  & 2013-12-31 22:00:00\\\\\n",
       "\t 2013                & 12                  & 31                  & 2321                & 2250                &  31                 &   46                &    8                &  38                 & B6                  & 2002                & N179JB              & JFK                 & BUF                 &  66                 &  301                & 22                  & 50                  & 2013-12-31 22:00:00\\\\\n",
       "\t 2013                & 12                  & 31                  & 2328                & 2330                &  -2                 &  412                &  409                &   3                 & B6                  & 1389                & N651JB              & EWR                 & SJU                 & 198                 & 1608                & 23                  & 30                  & 2013-12-31 23:00:00\\\\\n",
       "\t 2013                & 12                  & 31                  & 2332                & 2245                &  47                 &   58                &    3                &  55                 & B6                  &  486                & N334JB              & JFK                 & ROC                 &  60                 &  264                & 22                  & 45                  & 2013-12-31 22:00:00\\\\\n",
       "\t 2013                & 12                  & 31                  & 2355                & 2359                &  -4                 &  430                &  440                & -10                 & B6                  & 1503                & N509JB              & JFK                 & SJU                 & 195                 & 1598                & 23                  & 59                  & 2013-12-31 23:00:00\\\\\n",
       "\t 2013                & 12                  & 31                  & 2356                & 2359                &  -3                 &  436                &  445                &  -9                 & B6                  &  745                & N665JB              & JFK                 & PSE                 & 200                 & 1617                & 23                  & 59                  & 2013-12-31 23:00:00\\\\\n",
       "\t 2013                & 12                  & 31                  &   NA                & 1520                &  NA                 &   NA                & 1705                &  NA                 & AA                  &  341                & N568AA              & LGA                 & ORD                 &  NA                 &  733                & 15                  & 20                  & 2013-12-31 15:00:00\\\\\n",
       "\t 2013                & 12                  & 31                  &   NA                & 2025                &  NA                 &   NA                & 2205                &  NA                 & AA                  &  371                & N482AA              & LGA                 & ORD                 &  NA                 &  733                & 20                  & 25                  & 2013-12-31 20:00:00\\\\\n",
       "\t 2013                & 12                  & 31                  &   NA                & 1932                &  NA                 &   NA                & 2305                &  NA                 & B6                  &  161                & N516JB              & JFK                 & SMF                 &  NA                 & 2521                & 19                  & 32                  & 2013-12-31 19:00:00\\\\\n",
       "\t 2013                & 12                  & 31                  &   NA                & 1505                &  NA                 &   NA                & 1725                &  NA                 & EV                  & 4181                & N24103              & EWR                 & MCI                 &  NA                 & 1092                & 15                  &  5                  & 2013-12-31 15:00:00\\\\\n",
       "\t 2013                & 12                  & 31                  &   NA                & 1000                &  NA                 &   NA                & 1252                &  NA                 & UA                  & 1124                & NA                  & EWR                 & EGE                 &  NA                 & 1725                & 10                  &  0                  & 2013-12-31 10:00:00\\\\\n",
       "\t 2013                & 12                  & 31                  &   NA                &  840                &  NA                 &   NA                & 1205                &  NA                 & UA                  & 1151                & NA                  & EWR                 & SEA                 &  NA                 & 2402                &  8                  & 40                  & 2013-12-31 08:00:00\\\\\n",
       "\t 2013                & 12                  & 31                  &   NA                &  754                &  NA                 &   NA                & 1118                &  NA                 & UA                  & 1455                & NA                  & EWR                 & LAX                 &  NA                 & 2454                &  7                  & 54                  & 2013-12-31 07:00:00\\\\\n",
       "\t 2013                & 12                  & 31                  &   NA                & 2000                &  NA                 &   NA                & 2146                &  NA                 & UA                  & 1482                & NA                  & EWR                 & ORD                 &  NA                 &  719                & 20                  &  0                  & 2013-12-31 20:00:00\\\\\n",
       "\t 2013                & 12                  & 31                  &   NA                & 1500                &  NA                 &   NA                & 1817                &  NA                 & UA                  & 1483                & NA                  & EWR                 & AUS                 &  NA                 & 1504                & 15                  &  0                  & 2013-12-31 15:00:00\\\\\n",
       "\t 2013                & 12                  & 31                  &   NA                & 1430                &  NA                 &   NA                & 1750                &  NA                 & UA                  & 1493                & NA                  & EWR                 & LAX                 &  NA                 & 2454                & 14                  & 30                  & 2013-12-31 14:00:00\\\\\n",
       "\t 2013                & 12                  & 31                  &   NA                &  855                &  NA                 &   NA                & 1142                &  NA                 & UA                  & 1506                & NA                  & EWR                 & JAC                 &  NA                 & 1874                &  8                  & 55                  & 2013-12-31 08:00:00\\\\\n",
       "\t 2013                & 12                  & 31                  &   NA                &  705                &  NA                 &   NA                &  931                &  NA                 & UA                  & 1729                & NA                  & EWR                 & DEN                 &  NA                 & 1605                &  7                  &  5                  & 2013-12-31 07:00:00\\\\\n",
       "\t 2013                & 12                  & 31                  &   NA                &  825                &  NA                 &   NA                & 1029                &  NA                 & US                  & 1831                & NA                  & JFK                 & CLT                 &  NA                 &  541                &  8                  & 25                  & 2013-12-31 08:00:00\\\\\n",
       "\t 2013                & 12                  & 31                  &   NA                & 1615                &  NA                 &   NA                & 1800                &  NA                 & MQ                  & 3301                & N844MQ              & LGA                 & RDU                 &  NA                 &  431                & 16                  & 15                  & 2013-12-31 16:00:00\\\\\n",
       "\t 2013                & 12                  & 31                  &   NA                &  600                &  NA                 &   NA                &  735                &  NA                 & UA                  &  219                & NA                  & EWR                 & ORD                 &  NA                 &  719                &  6                  &  0                  & 2013-12-31 06:00:00\\\\\n",
       "\t 2013                & 12                  & 31                  &   NA                &  830                &  NA                 &   NA                & 1154                &  NA                 & UA                  &  443                & NA                  & JFK                 & LAX                 &  NA                 & 2475                &  8                  & 30                  & 2013-12-31 08:00:00\\\\\n",
       "\\end{tabular}\n"
      ],
      "text/markdown": [
       "\n",
       "year | month | day | dep_time | sched_dep_time | dep_delay | arr_time | sched_arr_time | arr_delay | carrier | flight | tailnum | origin | dest | air_time | distance | hour | minute | time_hour | \n",
       "|---|---|---|---|---|---|---|---|---|---|---|---|---|---|---|---|---|---|---|---|---|---|---|---|---|---|---|---|---|---|---|---|---|---|---|---|---|---|---|---|---|---|---|---|---|---|---|---|---|---|---|---|---|---|---|---|---|---|---|---|---|\n",
       "| 2013                | 11                  | 1                   |   5                 | 2359                |   6                 | 352                 |  345                |   7                 | B6                  |  745                | N568JB              | JFK                 | PSE                 | 205                 | 1617                | 23                  | 59                  | 2013-11-01 23:00:00 | \n",
       "| 2013                | 11                  | 1                   |  35                 | 2250                | 105                 | 123                 | 2356                |  87                 | B6                  | 1816                | N353JB              | JFK                 | SYR                 |  36                 |  209                | 22                  | 50                  | 2013-11-01 22:00:00 | \n",
       "| 2013                | 11                  | 1                   | 455                 |  500                |  -5                 | 641                 |  651                | -10                 | US                  | 1895                | N192UW              | EWR                 | CLT                 |  88                 |  529                |  5                  |  0                  | 2013-11-01 05:00:00 | \n",
       "| 2013                | 11                  | 1                   | 539                 |  545                |  -6                 | 856                 |  827                |  29                 | UA                  | 1714                | N38727              | LGA                 | IAH                 | 229                 | 1416                |  5                  | 45                  | 2013-11-01 05:00:00 | \n",
       "| 2013                | 11                  | 1                   | 542                 |  545                |  -3                 | 831                 |  855                | -24                 | AA                  | 2243                | N5CLAA              | JFK                 | MIA                 | 147                 | 1089                |  5                  | 45                  | 2013-11-01 05:00:00 | \n",
       "| 2013                | 11                  | 1                   | 549                 |  600                | -11                 | 912                 |  923                | -11                 | UA                  |  303                | N595UA              | JFK                 | SFO                 | 359                 | 2586                |  6                  |  0                  | 2013-11-01 06:00:00 | \n",
       "| 2013                | 11                  | 1                   | 550                 |  600                | -10                 | 705                 |  659                |   6                 | US                  | 2167                | N748UW              | LGA                 | DCA                 |  57                 |  214                |  6                  |  0                  | 2013-11-01 06:00:00 | \n",
       "| 2013                | 11                  | 1                   | 554                 |  600                |  -6                 | 659                 |  701                |  -2                 | US                  | 2134                | N742PS              | LGA                 | BOS                 |  40                 |  184                |  6                  |  0                  | 2013-11-01 06:00:00 | \n",
       "| 2013                | 11                  | 1                   | 554                 |  600                |  -6                 | 826                 |  827                |  -1                 | DL                  |  563                | N912DE              | LGA                 | ATL                 | 126                 |  762                |  6                  |  0                  | 2013-11-01 06:00:00 | \n",
       "| 2013                | 11                  | 1                   | 554                 |  600                |  -6                 | 749                 |  751                |  -2                 | DL                  |  731                | N315NB              | LGA                 | DTW                 |  93                 |  502                |  6                  |  0                  | 2013-11-01 06:00:00 | \n",
       "| 2013                | 11                  | 1                   | 555                 |  600                |  -5                 | 847                 |  854                |  -7                 | B6                  |  605                | N640JB              | EWR                 | FLL                 | 149                 | 1065                |  6                  |  0                  | 2013-11-01 06:00:00 | \n",
       "| 2013                | 11                  | 1                   | 555                 |  600                |  -5                 | 839                 |  846                |  -7                 | B6                  |  583                | N661JB              | JFK                 | MCO                 | 136                 |  944                |  6                  |  0                  | 2013-11-01 06:00:00 | \n",
       "| 2013                | 11                  | 1                   | 555                 |  600                |  -5                 | 929                 |  943                | -14                 | B6                  | 1403                | N746JB              | JFK                 | SJU                 | 196                 | 1598                |  6                  |  0                  | 2013-11-01 06:00:00 | \n",
       "| 2013                | 11                  | 1                   | 556                 |  600                |  -4                 | 834                 |  851                | -17                 | UA                  |  407                | N834UA              | EWR                 | TPA                 | 142                 |  997                |  6                  |  0                  | 2013-11-01 06:00:00 | \n",
       "| 2013                | 11                  | 1                   | 558                 |  600                |  -2                 | 727                 |  730                |  -3                 | UA                  |  279                | N459UA              | EWR                 | ORD                 | 118                 |  719                |  6                  |  0                  | 2013-11-01 06:00:00 | \n",
       "| 2013                | 11                  | 1                   | 558                 |  600                |  -2                 | 650                 |  658                |  -8                 | US                  | 1909                | N950UW              | LGA                 | PHL                 |  38                 |   96                |  6                  |  0                  | 2013-11-01 06:00:00 | \n",
       "| 2013                | 11                  | 1                   | 558                 |  600                |  -2                 | 914                 |  905                |   9                 | AA                  | 1175                | N3GHAA              | LGA                 | MIA                 | 155                 | 1096                |  6                  |  0                  | 2013-11-01 06:00:00 | \n",
       "| 2013                | 11                  | 1                   | 558                 |  600                |  -2                 | 720                 |  715                |   5                 | WN                  |  464                | N390SW              | EWR                 | MDW                 | 117                 |  711                |  6                  |  0                  | 2013-11-01 06:00:00 | \n",
       "| 2013                | 11                  | 1                   | 559                 |  600                |  -1                 | 756                 |  730                |  26                 | AA                  |  301                | N4YHAA              | LGA                 | ORD                 | 119                 |  733                |  6                  |  0                  | 2013-11-01 06:00:00 | \n",
       "| 2013                | 11                  | 1                   | 600                 |  600                |   0                 | 709                 |  716                |  -7                 | EV                  | 5716                | N820AS              | JFK                 | IAD                 |  49                 |  228                |  6                  |  0                  | 2013-11-01 06:00:00 | \n",
       "| 2013                | 11                  | 1                   | 600                 |  600                |   0                 | 725                 |  721                |   4                 | UA                  | 1198                | N23707              | LGA                 | ORD                 | 121                 |  733                |  6                  |  0                  | 2013-11-01 06:00:00 | \n",
       "| 2013                | 11                  | 1                   | 601                 |  600                |   1                 | 853                 |  856                |  -3                 | B6                  |  371                | N570JB              | LGA                 | FLL                 | 150                 | 1076                |  6                  |  0                  | 2013-11-01 06:00:00 | \n",
       "| 2013                | 11                  | 1                   | 601                 |  610                |  -9                 | 803                 |  813                | -10                 | DL                  | 1919                | N922DL              | LGA                 | MSP                 | 153                 | 1020                |  6                  | 10                  | 2013-11-01 06:00:00 | \n",
       "| 2013                | 11                  | 1                   | 602                 |  600                |   2                 | 843                 |  815                |  28                 | FL                  |  345                | N353AT              | LGA                 | ATL                 | 131                 |  762                |  6                  |  0                  | 2013-11-01 06:00:00 | \n",
       "| 2013                | 11                  | 1                   | 603                 |  600                |   3                 | 717                 |  711                |   6                 | EV                  | 4533                | N11109              | EWR                 | BUF                 |  53                 |  282                |  6                  |  0                  | 2013-11-01 06:00:00 | \n",
       "| 2013                | 11                  | 1                   | 604                 |  610                |  -6                 | 855                 |  855                |   0                 | AA                  | 1103                | N3FTAA              | LGA                 | DFW                 | 205                 | 1389                |  6                  | 10                  | 2013-11-01 06:00:00 | \n",
       "| 2013                | 11                  | 1                   | 606                 |  615                |  -9                 | 746                 |  750                |  -4                 | MQ                  | 3525                | N834MQ              | LGA                 | RDU                 |  74                 |  431                |  6                  | 15                  | 2013-11-01 06:00:00 | \n",
       "| 2013                | 11                  | 1                   | 606                 |  615                |  -9                 | 807                 |  817                | -10                 | US                  | 1899                | N199UW              | JFK                 | CLT                 |  93                 |  541                |  6                  | 15                  | 2013-11-01 06:00:00 | \n",
       "| 2013                | 11                  | 1                   | 606                 |  610                |  -4                 | 752                 |  745                |   7                 | WN                  | 2609                | N440LV              | LGA                 | STL                 | 142                 |  888                |  6                  | 10                  | 2013-11-01 06:00:00 | \n",
       "| 2013                | 11                  | 1                   | 607                 |  611                |  -4                 | 857                 |  912                | -15                 | B6                  |  601                | N597JB              | JFK                 | FLL                 | 149                 | 1069                |  6                  | 11                  | 2013-11-01 06:00:00 | \n",
       "| ... | ... | ... | ... | ... | ... | ... | ... | ... | ... | ... | ... | ... | ... | ... | ... | ... | ... | ... | \n",
       "| 2013                | 12                  | 31                  | 2155                | 2039                |  76                 |  253                | 2355                |  NA                 | B6                  | 1205                | N627JB              | JFK                 | PDX                 |  NA                 | 2454                | 20                  | 39                  | 2013-12-31 20:00:00 | \n",
       "| 2013                | 12                  | 31                  | 2155                | 2150                |   5                 |  110                |   51                |  19                 | B6                  | 1901                | N729JB              | JFK                 | FLL                 | 164                 | 1069                | 21                  | 50                  | 2013-12-31 21:00:00 | \n",
       "| 2013                | 12                  | 31                  | 2159                | 2155                |   4                 |   55                |   46                |   9                 | B6                  | 2053                | N593JB              | JFK                 | PBI                 | 155                 | 1028                | 21                  | 55                  | 2013-12-31 21:00:00 | \n",
       "| 2013                | 12                  | 31                  | 2206                | 2110                |  56                 |   44                | 2339                |  65                 | B6                  |  775                | N184JB              | JFK                 | MSY                 | 195                 | 1182                | 21                  | 10                  | 2013-12-31 21:00:00 | \n",
       "| 2013                | 12                  | 31                  | 2211                | 2159                |  12                 |  100                |   45                |  15                 | B6                  | 1183                | N715JB              | JFK                 | MCO                 | 148                 |  944                | 21                  | 59                  | 2013-12-31 21:00:00 | \n",
       "| 2013                | 12                  | 31                  | 2218                | 2219                |  -1                 |  315                |  304                |  11                 | B6                  | 1203                | N625JB              | JFK                 | SJU                 | 202                 | 1598                | 22                  | 19                  | 2013-12-31 22:00:00 | \n",
       "| 2013                | 12                  | 31                  | 2235                | 2245                | -10                 | 2351                | 2355                |  -4                 | B6                  |  234                | N355JB              | JFK                 | BTV                 |  49                 |  266                | 22                  | 45                  | 2013-12-31 22:00:00 | \n",
       "| 2013                | 12                  | 31                  | 2245                | 2250                |  -5                 | 2359                | 2356                |   3                 | B6                  | 1816                | N318JB              | JFK                 | SYR                 |  51                 |  209                | 22                  | 50                  | 2013-12-31 22:00:00 | \n",
       "| 2013                | 12                  | 31                  | 2310                | 2255                |  15                 |    7                | 2356                |  11                 | B6                  |  718                | N279JB              | JFK                 | BOS                 |  40                 |  187                | 22                  | 55                  | 2013-12-31 22:00:00 | \n",
       "| 2013                | 12                  | 31                  | 2321                | 2250                |  31                 |   46                |    8                |  38                 | B6                  | 2002                | N179JB              | JFK                 | BUF                 |  66                 |  301                | 22                  | 50                  | 2013-12-31 22:00:00 | \n",
       "| 2013                | 12                  | 31                  | 2328                | 2330                |  -2                 |  412                |  409                |   3                 | B6                  | 1389                | N651JB              | EWR                 | SJU                 | 198                 | 1608                | 23                  | 30                  | 2013-12-31 23:00:00 | \n",
       "| 2013                | 12                  | 31                  | 2332                | 2245                |  47                 |   58                |    3                |  55                 | B6                  |  486                | N334JB              | JFK                 | ROC                 |  60                 |  264                | 22                  | 45                  | 2013-12-31 22:00:00 | \n",
       "| 2013                | 12                  | 31                  | 2355                | 2359                |  -4                 |  430                |  440                | -10                 | B6                  | 1503                | N509JB              | JFK                 | SJU                 | 195                 | 1598                | 23                  | 59                  | 2013-12-31 23:00:00 | \n",
       "| 2013                | 12                  | 31                  | 2356                | 2359                |  -3                 |  436                |  445                |  -9                 | B6                  |  745                | N665JB              | JFK                 | PSE                 | 200                 | 1617                | 23                  | 59                  | 2013-12-31 23:00:00 | \n",
       "| 2013                | 12                  | 31                  |   NA                | 1520                |  NA                 |   NA                | 1705                |  NA                 | AA                  |  341                | N568AA              | LGA                 | ORD                 |  NA                 |  733                | 15                  | 20                  | 2013-12-31 15:00:00 | \n",
       "| 2013                | 12                  | 31                  |   NA                | 2025                |  NA                 |   NA                | 2205                |  NA                 | AA                  |  371                | N482AA              | LGA                 | ORD                 |  NA                 |  733                | 20                  | 25                  | 2013-12-31 20:00:00 | \n",
       "| 2013                | 12                  | 31                  |   NA                | 1932                |  NA                 |   NA                | 2305                |  NA                 | B6                  |  161                | N516JB              | JFK                 | SMF                 |  NA                 | 2521                | 19                  | 32                  | 2013-12-31 19:00:00 | \n",
       "| 2013                | 12                  | 31                  |   NA                | 1505                |  NA                 |   NA                | 1725                |  NA                 | EV                  | 4181                | N24103              | EWR                 | MCI                 |  NA                 | 1092                | 15                  |  5                  | 2013-12-31 15:00:00 | \n",
       "| 2013                | 12                  | 31                  |   NA                | 1000                |  NA                 |   NA                | 1252                |  NA                 | UA                  | 1124                | NA                  | EWR                 | EGE                 |  NA                 | 1725                | 10                  |  0                  | 2013-12-31 10:00:00 | \n",
       "| 2013                | 12                  | 31                  |   NA                |  840                |  NA                 |   NA                | 1205                |  NA                 | UA                  | 1151                | NA                  | EWR                 | SEA                 |  NA                 | 2402                |  8                  | 40                  | 2013-12-31 08:00:00 | \n",
       "| 2013                | 12                  | 31                  |   NA                |  754                |  NA                 |   NA                | 1118                |  NA                 | UA                  | 1455                | NA                  | EWR                 | LAX                 |  NA                 | 2454                |  7                  | 54                  | 2013-12-31 07:00:00 | \n",
       "| 2013                | 12                  | 31                  |   NA                | 2000                |  NA                 |   NA                | 2146                |  NA                 | UA                  | 1482                | NA                  | EWR                 | ORD                 |  NA                 |  719                | 20                  |  0                  | 2013-12-31 20:00:00 | \n",
       "| 2013                | 12                  | 31                  |   NA                | 1500                |  NA                 |   NA                | 1817                |  NA                 | UA                  | 1483                | NA                  | EWR                 | AUS                 |  NA                 | 1504                | 15                  |  0                  | 2013-12-31 15:00:00 | \n",
       "| 2013                | 12                  | 31                  |   NA                | 1430                |  NA                 |   NA                | 1750                |  NA                 | UA                  | 1493                | NA                  | EWR                 | LAX                 |  NA                 | 2454                | 14                  | 30                  | 2013-12-31 14:00:00 | \n",
       "| 2013                | 12                  | 31                  |   NA                |  855                |  NA                 |   NA                | 1142                |  NA                 | UA                  | 1506                | NA                  | EWR                 | JAC                 |  NA                 | 1874                |  8                  | 55                  | 2013-12-31 08:00:00 | \n",
       "| 2013                | 12                  | 31                  |   NA                |  705                |  NA                 |   NA                |  931                |  NA                 | UA                  | 1729                | NA                  | EWR                 | DEN                 |  NA                 | 1605                |  7                  |  5                  | 2013-12-31 07:00:00 | \n",
       "| 2013                | 12                  | 31                  |   NA                |  825                |  NA                 |   NA                | 1029                |  NA                 | US                  | 1831                | NA                  | JFK                 | CLT                 |  NA                 |  541                |  8                  | 25                  | 2013-12-31 08:00:00 | \n",
       "| 2013                | 12                  | 31                  |   NA                | 1615                |  NA                 |   NA                | 1800                |  NA                 | MQ                  | 3301                | N844MQ              | LGA                 | RDU                 |  NA                 |  431                | 16                  | 15                  | 2013-12-31 16:00:00 | \n",
       "| 2013                | 12                  | 31                  |   NA                |  600                |  NA                 |   NA                |  735                |  NA                 | UA                  |  219                | NA                  | EWR                 | ORD                 |  NA                 |  719                |  6                  |  0                  | 2013-12-31 06:00:00 | \n",
       "| 2013                | 12                  | 31                  |   NA                |  830                |  NA                 |   NA                | 1154                |  NA                 | UA                  |  443                | NA                  | JFK                 | LAX                 |  NA                 | 2475                |  8                  | 30                  | 2013-12-31 08:00:00 | \n",
       "\n",
       "\n"
      ],
      "text/plain": [
       "      year month day dep_time sched_dep_time dep_delay arr_time sched_arr_time\n",
       "1     2013 11    1     5      2359             6       352       345          \n",
       "2     2013 11    1    35      2250           105       123      2356          \n",
       "3     2013 11    1   455       500            -5       641       651          \n",
       "4     2013 11    1   539       545            -6       856       827          \n",
       "5     2013 11    1   542       545            -3       831       855          \n",
       "6     2013 11    1   549       600           -11       912       923          \n",
       "7     2013 11    1   550       600           -10       705       659          \n",
       "8     2013 11    1   554       600            -6       659       701          \n",
       "9     2013 11    1   554       600            -6       826       827          \n",
       "10    2013 11    1   554       600            -6       749       751          \n",
       "11    2013 11    1   555       600            -5       847       854          \n",
       "12    2013 11    1   555       600            -5       839       846          \n",
       "13    2013 11    1   555       600            -5       929       943          \n",
       "14    2013 11    1   556       600            -4       834       851          \n",
       "15    2013 11    1   558       600            -2       727       730          \n",
       "16    2013 11    1   558       600            -2       650       658          \n",
       "17    2013 11    1   558       600            -2       914       905          \n",
       "18    2013 11    1   558       600            -2       720       715          \n",
       "19    2013 11    1   559       600            -1       756       730          \n",
       "20    2013 11    1   600       600             0       709       716          \n",
       "21    2013 11    1   600       600             0       725       721          \n",
       "22    2013 11    1   601       600             1       853       856          \n",
       "23    2013 11    1   601       610            -9       803       813          \n",
       "24    2013 11    1   602       600             2       843       815          \n",
       "25    2013 11    1   603       600             3       717       711          \n",
       "26    2013 11    1   604       610            -6       855       855          \n",
       "27    2013 11    1   606       615            -9       746       750          \n",
       "28    2013 11    1   606       615            -9       807       817          \n",
       "29    2013 11    1   606       610            -4       752       745          \n",
       "30    2013 11    1   607       611            -4       857       912          \n",
       "...   ...  ...   ... ...      ...            ...       ...      ...           \n",
       "55374 2013 12    31  2155     2039            76        253     2355          \n",
       "55375 2013 12    31  2155     2150             5        110       51          \n",
       "55376 2013 12    31  2159     2155             4         55       46          \n",
       "55377 2013 12    31  2206     2110            56         44     2339          \n",
       "55378 2013 12    31  2211     2159            12        100       45          \n",
       "55379 2013 12    31  2218     2219            -1        315      304          \n",
       "55380 2013 12    31  2235     2245           -10       2351     2355          \n",
       "55381 2013 12    31  2245     2250            -5       2359     2356          \n",
       "55382 2013 12    31  2310     2255            15          7     2356          \n",
       "55383 2013 12    31  2321     2250            31         46        8          \n",
       "55384 2013 12    31  2328     2330            -2        412      409          \n",
       "55385 2013 12    31  2332     2245            47         58        3          \n",
       "55386 2013 12    31  2355     2359            -4        430      440          \n",
       "55387 2013 12    31  2356     2359            -3        436      445          \n",
       "55388 2013 12    31    NA     1520            NA         NA     1705          \n",
       "55389 2013 12    31    NA     2025            NA         NA     2205          \n",
       "55390 2013 12    31    NA     1932            NA         NA     2305          \n",
       "55391 2013 12    31    NA     1505            NA         NA     1725          \n",
       "55392 2013 12    31    NA     1000            NA         NA     1252          \n",
       "55393 2013 12    31    NA      840            NA         NA     1205          \n",
       "55394 2013 12    31    NA      754            NA         NA     1118          \n",
       "55395 2013 12    31    NA     2000            NA         NA     2146          \n",
       "55396 2013 12    31    NA     1500            NA         NA     1817          \n",
       "55397 2013 12    31    NA     1430            NA         NA     1750          \n",
       "55398 2013 12    31    NA      855            NA         NA     1142          \n",
       "55399 2013 12    31    NA      705            NA         NA      931          \n",
       "55400 2013 12    31    NA      825            NA         NA     1029          \n",
       "55401 2013 12    31    NA     1615            NA         NA     1800          \n",
       "55402 2013 12    31    NA      600            NA         NA      735          \n",
       "55403 2013 12    31    NA      830            NA         NA     1154          \n",
       "      arr_delay carrier flight tailnum origin dest air_time distance hour\n",
       "1       7       B6       745   N568JB  JFK    PSE  205      1617     23  \n",
       "2      87       B6      1816   N353JB  JFK    SYR   36       209     22  \n",
       "3     -10       US      1895   N192UW  EWR    CLT   88       529      5  \n",
       "4      29       UA      1714   N38727  LGA    IAH  229      1416      5  \n",
       "5     -24       AA      2243   N5CLAA  JFK    MIA  147      1089      5  \n",
       "6     -11       UA       303   N595UA  JFK    SFO  359      2586      6  \n",
       "7       6       US      2167   N748UW  LGA    DCA   57       214      6  \n",
       "8      -2       US      2134   N742PS  LGA    BOS   40       184      6  \n",
       "9      -1       DL       563   N912DE  LGA    ATL  126       762      6  \n",
       "10     -2       DL       731   N315NB  LGA    DTW   93       502      6  \n",
       "11     -7       B6       605   N640JB  EWR    FLL  149      1065      6  \n",
       "12     -7       B6       583   N661JB  JFK    MCO  136       944      6  \n",
       "13    -14       B6      1403   N746JB  JFK    SJU  196      1598      6  \n",
       "14    -17       UA       407   N834UA  EWR    TPA  142       997      6  \n",
       "15     -3       UA       279   N459UA  EWR    ORD  118       719      6  \n",
       "16     -8       US      1909   N950UW  LGA    PHL   38        96      6  \n",
       "17      9       AA      1175   N3GHAA  LGA    MIA  155      1096      6  \n",
       "18      5       WN       464   N390SW  EWR    MDW  117       711      6  \n",
       "19     26       AA       301   N4YHAA  LGA    ORD  119       733      6  \n",
       "20     -7       EV      5716   N820AS  JFK    IAD   49       228      6  \n",
       "21      4       UA      1198   N23707  LGA    ORD  121       733      6  \n",
       "22     -3       B6       371   N570JB  LGA    FLL  150      1076      6  \n",
       "23    -10       DL      1919   N922DL  LGA    MSP  153      1020      6  \n",
       "24     28       FL       345   N353AT  LGA    ATL  131       762      6  \n",
       "25      6       EV      4533   N11109  EWR    BUF   53       282      6  \n",
       "26      0       AA      1103   N3FTAA  LGA    DFW  205      1389      6  \n",
       "27     -4       MQ      3525   N834MQ  LGA    RDU   74       431      6  \n",
       "28    -10       US      1899   N199UW  JFK    CLT   93       541      6  \n",
       "29      7       WN      2609   N440LV  LGA    STL  142       888      6  \n",
       "30    -15       B6       601   N597JB  JFK    FLL  149      1069      6  \n",
       "...   ...       ...     ...    ...     ...    ...  ...      ...      ... \n",
       "55374  NA       B6      1205   N627JB  JFK    PDX   NA      2454     20  \n",
       "55375  19       B6      1901   N729JB  JFK    FLL  164      1069     21  \n",
       "55376   9       B6      2053   N593JB  JFK    PBI  155      1028     21  \n",
       "55377  65       B6       775   N184JB  JFK    MSY  195      1182     21  \n",
       "55378  15       B6      1183   N715JB  JFK    MCO  148       944     21  \n",
       "55379  11       B6      1203   N625JB  JFK    SJU  202      1598     22  \n",
       "55380  -4       B6       234   N355JB  JFK    BTV   49       266     22  \n",
       "55381   3       B6      1816   N318JB  JFK    SYR   51       209     22  \n",
       "55382  11       B6       718   N279JB  JFK    BOS   40       187     22  \n",
       "55383  38       B6      2002   N179JB  JFK    BUF   66       301     22  \n",
       "55384   3       B6      1389   N651JB  EWR    SJU  198      1608     23  \n",
       "55385  55       B6       486   N334JB  JFK    ROC   60       264     22  \n",
       "55386 -10       B6      1503   N509JB  JFK    SJU  195      1598     23  \n",
       "55387  -9       B6       745   N665JB  JFK    PSE  200      1617     23  \n",
       "55388  NA       AA       341   N568AA  LGA    ORD   NA       733     15  \n",
       "55389  NA       AA       371   N482AA  LGA    ORD   NA       733     20  \n",
       "55390  NA       B6       161   N516JB  JFK    SMF   NA      2521     19  \n",
       "55391  NA       EV      4181   N24103  EWR    MCI   NA      1092     15  \n",
       "55392  NA       UA      1124   NA      EWR    EGE   NA      1725     10  \n",
       "55393  NA       UA      1151   NA      EWR    SEA   NA      2402      8  \n",
       "55394  NA       UA      1455   NA      EWR    LAX   NA      2454      7  \n",
       "55395  NA       UA      1482   NA      EWR    ORD   NA       719     20  \n",
       "55396  NA       UA      1483   NA      EWR    AUS   NA      1504     15  \n",
       "55397  NA       UA      1493   NA      EWR    LAX   NA      2454     14  \n",
       "55398  NA       UA      1506   NA      EWR    JAC   NA      1874      8  \n",
       "55399  NA       UA      1729   NA      EWR    DEN   NA      1605      7  \n",
       "55400  NA       US      1831   NA      JFK    CLT   NA       541      8  \n",
       "55401  NA       MQ      3301   N844MQ  LGA    RDU   NA       431     16  \n",
       "55402  NA       UA       219   NA      EWR    ORD   NA       719      6  \n",
       "55403  NA       UA       443   NA      JFK    LAX   NA      2475      8  \n",
       "      minute time_hour          \n",
       "1     59     2013-11-01 23:00:00\n",
       "2     50     2013-11-01 22:00:00\n",
       "3      0     2013-11-01 05:00:00\n",
       "4     45     2013-11-01 05:00:00\n",
       "5     45     2013-11-01 05:00:00\n",
       "6      0     2013-11-01 06:00:00\n",
       "7      0     2013-11-01 06:00:00\n",
       "8      0     2013-11-01 06:00:00\n",
       "9      0     2013-11-01 06:00:00\n",
       "10     0     2013-11-01 06:00:00\n",
       "11     0     2013-11-01 06:00:00\n",
       "12     0     2013-11-01 06:00:00\n",
       "13     0     2013-11-01 06:00:00\n",
       "14     0     2013-11-01 06:00:00\n",
       "15     0     2013-11-01 06:00:00\n",
       "16     0     2013-11-01 06:00:00\n",
       "17     0     2013-11-01 06:00:00\n",
       "18     0     2013-11-01 06:00:00\n",
       "19     0     2013-11-01 06:00:00\n",
       "20     0     2013-11-01 06:00:00\n",
       "21     0     2013-11-01 06:00:00\n",
       "22     0     2013-11-01 06:00:00\n",
       "23    10     2013-11-01 06:00:00\n",
       "24     0     2013-11-01 06:00:00\n",
       "25     0     2013-11-01 06:00:00\n",
       "26    10     2013-11-01 06:00:00\n",
       "27    15     2013-11-01 06:00:00\n",
       "28    15     2013-11-01 06:00:00\n",
       "29    10     2013-11-01 06:00:00\n",
       "30    11     2013-11-01 06:00:00\n",
       "...   ...    ...                \n",
       "55374 39     2013-12-31 20:00:00\n",
       "55375 50     2013-12-31 21:00:00\n",
       "55376 55     2013-12-31 21:00:00\n",
       "55377 10     2013-12-31 21:00:00\n",
       "55378 59     2013-12-31 21:00:00\n",
       "55379 19     2013-12-31 22:00:00\n",
       "55380 45     2013-12-31 22:00:00\n",
       "55381 50     2013-12-31 22:00:00\n",
       "55382 55     2013-12-31 22:00:00\n",
       "55383 50     2013-12-31 22:00:00\n",
       "55384 30     2013-12-31 23:00:00\n",
       "55385 45     2013-12-31 22:00:00\n",
       "55386 59     2013-12-31 23:00:00\n",
       "55387 59     2013-12-31 23:00:00\n",
       "55388 20     2013-12-31 15:00:00\n",
       "55389 25     2013-12-31 20:00:00\n",
       "55390 32     2013-12-31 19:00:00\n",
       "55391  5     2013-12-31 15:00:00\n",
       "55392  0     2013-12-31 10:00:00\n",
       "55393 40     2013-12-31 08:00:00\n",
       "55394 54     2013-12-31 07:00:00\n",
       "55395  0     2013-12-31 20:00:00\n",
       "55396  0     2013-12-31 15:00:00\n",
       "55397 30     2013-12-31 14:00:00\n",
       "55398 55     2013-12-31 08:00:00\n",
       "55399  5     2013-12-31 07:00:00\n",
       "55400 25     2013-12-31 08:00:00\n",
       "55401 15     2013-12-31 16:00:00\n",
       "55402  0     2013-12-31 06:00:00\n",
       "55403 30     2013-12-31 08:00:00"
      ]
     },
     "metadata": {},
     "output_type": "display_data"
    }
   ],
   "source": [
    "nov_dec = filter(flights, month %in% c(11,12))\n",
    "nov_dec"
   ]
  },
  {
   "cell_type": "code",
   "execution_count": 93,
   "metadata": {
    "scrolled": true
   },
   "outputs": [
    {
     "data": {
      "text/html": [
       "<table>\n",
       "<thead><tr><th scope=col>year</th><th scope=col>month</th><th scope=col>day</th><th scope=col>dep_time</th><th scope=col>sched_dep_time</th><th scope=col>dep_delay</th><th scope=col>arr_time</th><th scope=col>sched_arr_time</th><th scope=col>arr_delay</th><th scope=col>carrier</th><th scope=col>flight</th><th scope=col>tailnum</th><th scope=col>origin</th><th scope=col>dest</th><th scope=col>air_time</th><th scope=col>distance</th><th scope=col>hour</th><th scope=col>minute</th><th scope=col>time_hour</th></tr></thead>\n",
       "<tbody>\n",
       "\t<tr><td>2013               </td><td> 1                 </td><td>16                 </td><td>1355               </td><td>1315               </td><td>40                 </td><td>1442               </td><td>1411               </td><td> 31                </td><td>EV                 </td><td>4368               </td><td>N16911             </td><td>EWR                </td><td>BDL                </td><td>20                 </td><td>116                </td><td>13                 </td><td>15                 </td><td>2013-01-16 13:00:00</td></tr>\n",
       "\t<tr><td>2013               </td><td> 4                 </td><td>13                 </td><td> 537               </td><td> 527               </td><td>10                 </td><td> 622               </td><td> 628               </td><td> -6                </td><td>EV                 </td><td>4631               </td><td>N12167             </td><td>EWR                </td><td>BDL                </td><td>20                 </td><td>116                </td><td> 5                 </td><td>27                 </td><td>2013-04-13 05:00:00</td></tr>\n",
       "\t<tr><td>2013               </td><td> 2                 </td><td> 3                 </td><td>2153               </td><td>2129               </td><td>24                 </td><td>2247               </td><td>2224               </td><td> 23                </td><td>EV                 </td><td>4619               </td><td>N13913             </td><td>EWR                </td><td>PHL                </td><td>21                 </td><td> 80                </td><td>21                 </td><td>29                 </td><td>2013-02-03 21:00:00</td></tr>\n",
       "\t<tr><td>2013               </td><td> 2                 </td><td>12                 </td><td>2123               </td><td>2130               </td><td>-7                 </td><td>2211               </td><td>2225               </td><td>-14                </td><td>EV                 </td><td>4619               </td><td>N12921             </td><td>EWR                </td><td>PHL                </td><td>21                 </td><td> 80                </td><td>21                 </td><td>30                 </td><td>2013-02-12 21:00:00</td></tr>\n",
       "\t<tr><td>2013               </td><td> 3                 </td><td> 8                 </td><td>2026               </td><td>1935               </td><td>51                 </td><td>2131               </td><td>2056               </td><td> 35                </td><td>9E                 </td><td>3650               </td><td>N8501F             </td><td>JFK                </td><td>PHL                </td><td>21                 </td><td> 94                </td><td>19                 </td><td>35                 </td><td>2013-03-08 19:00:00</td></tr>\n",
       "\t<tr><td>2013               </td><td>12                 </td><td> 6                 </td><td> 922               </td><td> 851               </td><td>31                 </td><td>1021               </td><td> 954               </td><td> 27                </td><td>EV                 </td><td>4276               </td><td>N27200             </td><td>EWR                </td><td>BDL                </td><td>21                 </td><td>116                </td><td> 8                 </td><td>51                 </td><td>2013-12-06 08:00:00</td></tr>\n",
       "</tbody>\n",
       "</table>\n"
      ],
      "text/latex": [
       "\\begin{tabular}{r|lllllllllllllllllll}\n",
       " year & month & day & dep\\_time & sched\\_dep\\_time & dep\\_delay & arr\\_time & sched\\_arr\\_time & arr\\_delay & carrier & flight & tailnum & origin & dest & air\\_time & distance & hour & minute & time\\_hour\\\\\n",
       "\\hline\n",
       "\t 2013                &  1                  & 16                  & 1355                & 1315                & 40                  & 1442                & 1411                &  31                 & EV                  & 4368                & N16911              & EWR                 & BDL                 & 20                  & 116                 & 13                  & 15                  & 2013-01-16 13:00:00\\\\\n",
       "\t 2013                &  4                  & 13                  &  537                &  527                & 10                  &  622                &  628                &  -6                 & EV                  & 4631                & N12167              & EWR                 & BDL                 & 20                  & 116                 &  5                  & 27                  & 2013-04-13 05:00:00\\\\\n",
       "\t 2013                &  2                  &  3                  & 2153                & 2129                & 24                  & 2247                & 2224                &  23                 & EV                  & 4619                & N13913              & EWR                 & PHL                 & 21                  &  80                 & 21                  & 29                  & 2013-02-03 21:00:00\\\\\n",
       "\t 2013                &  2                  & 12                  & 2123                & 2130                & -7                  & 2211                & 2225                & -14                 & EV                  & 4619                & N12921              & EWR                 & PHL                 & 21                  &  80                 & 21                  & 30                  & 2013-02-12 21:00:00\\\\\n",
       "\t 2013                &  3                  &  8                  & 2026                & 1935                & 51                  & 2131                & 2056                &  35                 & 9E                  & 3650                & N8501F              & JFK                 & PHL                 & 21                  &  94                 & 19                  & 35                  & 2013-03-08 19:00:00\\\\\n",
       "\t 2013                & 12                  &  6                  &  922                &  851                & 31                  & 1021                &  954                &  27                 & EV                  & 4276                & N27200              & EWR                 & BDL                 & 21                  & 116                 &  8                  & 51                  & 2013-12-06 08:00:00\\\\\n",
       "\\end{tabular}\n"
      ],
      "text/markdown": [
       "\n",
       "year | month | day | dep_time | sched_dep_time | dep_delay | arr_time | sched_arr_time | arr_delay | carrier | flight | tailnum | origin | dest | air_time | distance | hour | minute | time_hour | \n",
       "|---|---|---|---|---|---|\n",
       "| 2013                |  1                  | 16                  | 1355                | 1315                | 40                  | 1442                | 1411                |  31                 | EV                  | 4368                | N16911              | EWR                 | BDL                 | 20                  | 116                 | 13                  | 15                  | 2013-01-16 13:00:00 | \n",
       "| 2013                |  4                  | 13                  |  537                |  527                | 10                  |  622                |  628                |  -6                 | EV                  | 4631                | N12167              | EWR                 | BDL                 | 20                  | 116                 |  5                  | 27                  | 2013-04-13 05:00:00 | \n",
       "| 2013                |  2                  |  3                  | 2153                | 2129                | 24                  | 2247                | 2224                |  23                 | EV                  | 4619                | N13913              | EWR                 | PHL                 | 21                  |  80                 | 21                  | 29                  | 2013-02-03 21:00:00 | \n",
       "| 2013                |  2                  | 12                  | 2123                | 2130                | -7                  | 2211                | 2225                | -14                 | EV                  | 4619                | N12921              | EWR                 | PHL                 | 21                  |  80                 | 21                  | 30                  | 2013-02-12 21:00:00 | \n",
       "| 2013                |  3                  |  8                  | 2026                | 1935                | 51                  | 2131                | 2056                |  35                 | 9E                  | 3650                | N8501F              | JFK                 | PHL                 | 21                  |  94                 | 19                  | 35                  | 2013-03-08 19:00:00 | \n",
       "| 2013                | 12                  |  6                  |  922                |  851                | 31                  | 1021                |  954                |  27                 | EV                  | 4276                | N27200              | EWR                 | BDL                 | 21                  | 116                 |  8                  | 51                  | 2013-12-06 08:00:00 | \n",
       "\n",
       "\n"
      ],
      "text/plain": [
       "  year month day dep_time sched_dep_time dep_delay arr_time sched_arr_time\n",
       "1 2013  1    16  1355     1315           40        1442     1411          \n",
       "2 2013  4    13   537      527           10         622      628          \n",
       "3 2013  2     3  2153     2129           24        2247     2224          \n",
       "4 2013  2    12  2123     2130           -7        2211     2225          \n",
       "5 2013  3     8  2026     1935           51        2131     2056          \n",
       "6 2013 12     6   922      851           31        1021      954          \n",
       "  arr_delay carrier flight tailnum origin dest air_time distance hour minute\n",
       "1  31       EV      4368   N16911  EWR    BDL  20       116      13   15    \n",
       "2  -6       EV      4631   N12167  EWR    BDL  20       116       5   27    \n",
       "3  23       EV      4619   N13913  EWR    PHL  21        80      21   29    \n",
       "4 -14       EV      4619   N12921  EWR    PHL  21        80      21   30    \n",
       "5  35       9E      3650   N8501F  JFK    PHL  21        94      19   35    \n",
       "6  27       EV      4276   N27200  EWR    BDL  21       116       8   51    \n",
       "  time_hour          \n",
       "1 2013-01-16 13:00:00\n",
       "2 2013-04-13 05:00:00\n",
       "3 2013-02-03 21:00:00\n",
       "4 2013-02-12 21:00:00\n",
       "5 2013-03-08 19:00:00\n",
       "6 2013-12-06 08:00:00"
      ]
     },
     "metadata": {},
     "output_type": "display_data"
    }
   ],
   "source": [
    "flights_ordered_by = arrange(flights,air_time, distance)\n",
    "head(flights_ordered_by)"
   ]
  },
  {
   "cell_type": "code",
   "execution_count": 94,
   "metadata": {
    "scrolled": true
   },
   "outputs": [
    {
     "data": {
      "text/html": [
       "<table>\n",
       "<thead><tr><th scope=col>year</th><th scope=col>month</th><th scope=col>day</th><th scope=col>dep_time</th><th scope=col>sched_dep_time</th><th scope=col>dep_delay</th><th scope=col>arr_time</th><th scope=col>sched_arr_time</th><th scope=col>arr_delay</th><th scope=col>carrier</th><th scope=col>flight</th><th scope=col>tailnum</th><th scope=col>origin</th><th scope=col>dest</th><th scope=col>air_time</th><th scope=col>distance</th><th scope=col>hour</th><th scope=col>minute</th><th scope=col>time_hour</th></tr></thead>\n",
       "<tbody>\n",
       "\t<tr><td>2013               </td><td>3                  </td><td>17                 </td><td>1337               </td><td>1335               </td><td> 2                 </td><td>1937               </td><td>1836               </td><td>61                 </td><td>UA                 </td><td>15                 </td><td>N77066             </td><td>EWR                </td><td>HNL                </td><td>695                </td><td>4963               </td><td>13                 </td><td>35                 </td><td>2013-03-17 13:00:00</td></tr>\n",
       "\t<tr><td>2013               </td><td>2                  </td><td> 6                 </td><td> 853               </td><td> 900               </td><td>-7                 </td><td>1542               </td><td>1540               </td><td> 2                 </td><td>HA                 </td><td>51                 </td><td>N389HA             </td><td>JFK                </td><td>HNL                </td><td>691                </td><td>4983               </td><td> 9                 </td><td> 0                 </td><td>2013-02-06 09:00:00</td></tr>\n",
       "\t<tr><td>2013               </td><td>3                  </td><td>15                 </td><td>1001               </td><td>1000               </td><td> 1                 </td><td>1551               </td><td>1530               </td><td>21                 </td><td>HA                 </td><td>51                 </td><td>N388HA             </td><td>JFK                </td><td>HNL                </td><td>686                </td><td>4983               </td><td>10                 </td><td> 0                 </td><td>2013-03-15 10:00:00</td></tr>\n",
       "\t<tr><td>2013               </td><td>3                  </td><td>17                 </td><td>1006               </td><td>1000               </td><td> 6                 </td><td>1607               </td><td>1530               </td><td>37                 </td><td>HA                 </td><td>51                 </td><td>N380HA             </td><td>JFK                </td><td>HNL                </td><td>686                </td><td>4983               </td><td>10                 </td><td> 0                 </td><td>2013-03-17 10:00:00</td></tr>\n",
       "\t<tr><td>2013               </td><td>3                  </td><td>16                 </td><td>1001               </td><td>1000               </td><td> 1                 </td><td>1544               </td><td>1530               </td><td>14                 </td><td>HA                 </td><td>51                 </td><td>N384HA             </td><td>JFK                </td><td>HNL                </td><td>683                </td><td>4983               </td><td>10                 </td><td> 0                 </td><td>2013-03-16 10:00:00</td></tr>\n",
       "\t<tr><td>2013               </td><td>2                  </td><td> 5                 </td><td> 900               </td><td> 900               </td><td> 0                 </td><td>1555               </td><td>1540               </td><td>15                 </td><td>HA                 </td><td>51                 </td><td>N386HA             </td><td>JFK                </td><td>HNL                </td><td>679                </td><td>4983               </td><td> 9                 </td><td> 0                 </td><td>2013-02-05 09:00:00</td></tr>\n",
       "</tbody>\n",
       "</table>\n"
      ],
      "text/latex": [
       "\\begin{tabular}{r|lllllllllllllllllll}\n",
       " year & month & day & dep\\_time & sched\\_dep\\_time & dep\\_delay & arr\\_time & sched\\_arr\\_time & arr\\_delay & carrier & flight & tailnum & origin & dest & air\\_time & distance & hour & minute & time\\_hour\\\\\n",
       "\\hline\n",
       "\t 2013                & 3                   & 17                  & 1337                & 1335                &  2                  & 1937                & 1836                & 61                  & UA                  & 15                  & N77066              & EWR                 & HNL                 & 695                 & 4963                & 13                  & 35                  & 2013-03-17 13:00:00\\\\\n",
       "\t 2013                & 2                   &  6                  &  853                &  900                & -7                  & 1542                & 1540                &  2                  & HA                  & 51                  & N389HA              & JFK                 & HNL                 & 691                 & 4983                &  9                  &  0                  & 2013-02-06 09:00:00\\\\\n",
       "\t 2013                & 3                   & 15                  & 1001                & 1000                &  1                  & 1551                & 1530                & 21                  & HA                  & 51                  & N388HA              & JFK                 & HNL                 & 686                 & 4983                & 10                  &  0                  & 2013-03-15 10:00:00\\\\\n",
       "\t 2013                & 3                   & 17                  & 1006                & 1000                &  6                  & 1607                & 1530                & 37                  & HA                  & 51                  & N380HA              & JFK                 & HNL                 & 686                 & 4983                & 10                  &  0                  & 2013-03-17 10:00:00\\\\\n",
       "\t 2013                & 3                   & 16                  & 1001                & 1000                &  1                  & 1544                & 1530                & 14                  & HA                  & 51                  & N384HA              & JFK                 & HNL                 & 683                 & 4983                & 10                  &  0                  & 2013-03-16 10:00:00\\\\\n",
       "\t 2013                & 2                   &  5                  &  900                &  900                &  0                  & 1555                & 1540                & 15                  & HA                  & 51                  & N386HA              & JFK                 & HNL                 & 679                 & 4983                &  9                  &  0                  & 2013-02-05 09:00:00\\\\\n",
       "\\end{tabular}\n"
      ],
      "text/markdown": [
       "\n",
       "year | month | day | dep_time | sched_dep_time | dep_delay | arr_time | sched_arr_time | arr_delay | carrier | flight | tailnum | origin | dest | air_time | distance | hour | minute | time_hour | \n",
       "|---|---|---|---|---|---|\n",
       "| 2013                | 3                   | 17                  | 1337                | 1335                |  2                  | 1937                | 1836                | 61                  | UA                  | 15                  | N77066              | EWR                 | HNL                 | 695                 | 4963                | 13                  | 35                  | 2013-03-17 13:00:00 | \n",
       "| 2013                | 2                   |  6                  |  853                |  900                | -7                  | 1542                | 1540                |  2                  | HA                  | 51                  | N389HA              | JFK                 | HNL                 | 691                 | 4983                |  9                  |  0                  | 2013-02-06 09:00:00 | \n",
       "| 2013                | 3                   | 15                  | 1001                | 1000                |  1                  | 1551                | 1530                | 21                  | HA                  | 51                  | N388HA              | JFK                 | HNL                 | 686                 | 4983                | 10                  |  0                  | 2013-03-15 10:00:00 | \n",
       "| 2013                | 3                   | 17                  | 1006                | 1000                |  6                  | 1607                | 1530                | 37                  | HA                  | 51                  | N380HA              | JFK                 | HNL                 | 686                 | 4983                | 10                  |  0                  | 2013-03-17 10:00:00 | \n",
       "| 2013                | 3                   | 16                  | 1001                | 1000                |  1                  | 1544                | 1530                | 14                  | HA                  | 51                  | N384HA              | JFK                 | HNL                 | 683                 | 4983                | 10                  |  0                  | 2013-03-16 10:00:00 | \n",
       "| 2013                | 2                   |  5                  |  900                |  900                |  0                  | 1555                | 1540                | 15                  | HA                  | 51                  | N386HA              | JFK                 | HNL                 | 679                 | 4983                |  9                  |  0                  | 2013-02-05 09:00:00 | \n",
       "\n",
       "\n"
      ],
      "text/plain": [
       "  year month day dep_time sched_dep_time dep_delay arr_time sched_arr_time\n",
       "1 2013 3     17  1337     1335            2        1937     1836          \n",
       "2 2013 2      6   853      900           -7        1542     1540          \n",
       "3 2013 3     15  1001     1000            1        1551     1530          \n",
       "4 2013 3     17  1006     1000            6        1607     1530          \n",
       "5 2013 3     16  1001     1000            1        1544     1530          \n",
       "6 2013 2      5   900      900            0        1555     1540          \n",
       "  arr_delay carrier flight tailnum origin dest air_time distance hour minute\n",
       "1 61        UA      15     N77066  EWR    HNL  695      4963     13   35    \n",
       "2  2        HA      51     N389HA  JFK    HNL  691      4983      9    0    \n",
       "3 21        HA      51     N388HA  JFK    HNL  686      4983     10    0    \n",
       "4 37        HA      51     N380HA  JFK    HNL  686      4983     10    0    \n",
       "5 14        HA      51     N384HA  JFK    HNL  683      4983     10    0    \n",
       "6 15        HA      51     N386HA  JFK    HNL  679      4983      9    0    \n",
       "  time_hour          \n",
       "1 2013-03-17 13:00:00\n",
       "2 2013-02-06 09:00:00\n",
       "3 2013-03-15 10:00:00\n",
       "4 2013-03-17 10:00:00\n",
       "5 2013-03-16 10:00:00\n",
       "6 2013-02-05 09:00:00"
      ]
     },
     "metadata": {},
     "output_type": "display_data"
    }
   ],
   "source": [
    "longest_flights = arrange(flights, desc(air_time, distance))\n",
    "head(longest_flights)"
   ]
  },
  {
   "cell_type": "code",
   "execution_count": 95,
   "metadata": {},
   "outputs": [
    {
     "data": {
      "text/html": [
       "<table>\n",
       "<thead><tr><th scope=col>year</th><th scope=col>month</th><th scope=col>day</th></tr></thead>\n",
       "<tbody>\n",
       "\t<tr><td>2013</td><td>1   </td><td>1   </td></tr>\n",
       "\t<tr><td>2013</td><td>1   </td><td>1   </td></tr>\n",
       "\t<tr><td>2013</td><td>1   </td><td>1   </td></tr>\n",
       "\t<tr><td>2013</td><td>1   </td><td>1   </td></tr>\n",
       "\t<tr><td>2013</td><td>1   </td><td>1   </td></tr>\n",
       "\t<tr><td>2013</td><td>1   </td><td>1   </td></tr>\n",
       "</tbody>\n",
       "</table>\n"
      ],
      "text/latex": [
       "\\begin{tabular}{r|lll}\n",
       " year & month & day\\\\\n",
       "\\hline\n",
       "\t 2013 & 1    & 1   \\\\\n",
       "\t 2013 & 1    & 1   \\\\\n",
       "\t 2013 & 1    & 1   \\\\\n",
       "\t 2013 & 1    & 1   \\\\\n",
       "\t 2013 & 1    & 1   \\\\\n",
       "\t 2013 & 1    & 1   \\\\\n",
       "\\end{tabular}\n"
      ],
      "text/markdown": [
       "\n",
       "year | month | day | \n",
       "|---|---|---|---|---|---|\n",
       "| 2013 | 1    | 1    | \n",
       "| 2013 | 1    | 1    | \n",
       "| 2013 | 1    | 1    | \n",
       "| 2013 | 1    | 1    | \n",
       "| 2013 | 1    | 1    | \n",
       "| 2013 | 1    | 1    | \n",
       "\n",
       "\n"
      ],
      "text/plain": [
       "  year month day\n",
       "1 2013 1     1  \n",
       "2 2013 1     1  \n",
       "3 2013 1     1  \n",
       "4 2013 1     1  \n",
       "5 2013 1     1  \n",
       "6 2013 1     1  "
      ]
     },
     "metadata": {},
     "output_type": "display_data"
    }
   ],
   "source": [
    "# Select columns by name\n",
    "cols_by_name = select(flights, year, month, day)\n",
    "head(cols_by_name)\n"
   ]
  },
  {
   "cell_type": "code",
   "execution_count": 96,
   "metadata": {},
   "outputs": [
    {
     "data": {
      "text/html": [
       "<table>\n",
       "<thead><tr><th scope=col>year</th><th scope=col>month</th><th scope=col>day</th></tr></thead>\n",
       "<tbody>\n",
       "\t<tr><td>2013</td><td>1   </td><td>1   </td></tr>\n",
       "\t<tr><td>2013</td><td>1   </td><td>1   </td></tr>\n",
       "\t<tr><td>2013</td><td>1   </td><td>1   </td></tr>\n",
       "\t<tr><td>2013</td><td>1   </td><td>1   </td></tr>\n",
       "\t<tr><td>2013</td><td>1   </td><td>1   </td></tr>\n",
       "\t<tr><td>2013</td><td>1   </td><td>1   </td></tr>\n",
       "</tbody>\n",
       "</table>\n"
      ],
      "text/latex": [
       "\\begin{tabular}{r|lll}\n",
       " year & month & day\\\\\n",
       "\\hline\n",
       "\t 2013 & 1    & 1   \\\\\n",
       "\t 2013 & 1    & 1   \\\\\n",
       "\t 2013 & 1    & 1   \\\\\n",
       "\t 2013 & 1    & 1   \\\\\n",
       "\t 2013 & 1    & 1   \\\\\n",
       "\t 2013 & 1    & 1   \\\\\n",
       "\\end{tabular}\n"
      ],
      "text/markdown": [
       "\n",
       "year | month | day | \n",
       "|---|---|---|---|---|---|\n",
       "| 2013 | 1    | 1    | \n",
       "| 2013 | 1    | 1    | \n",
       "| 2013 | 1    | 1    | \n",
       "| 2013 | 1    | 1    | \n",
       "| 2013 | 1    | 1    | \n",
       "| 2013 | 1    | 1    | \n",
       "\n",
       "\n"
      ],
      "text/plain": [
       "  year month day\n",
       "1 2013 1     1  \n",
       "2 2013 1     1  \n",
       "3 2013 1     1  \n",
       "4 2013 1     1  \n",
       "5 2013 1     1  \n",
       "6 2013 1     1  "
      ]
     },
     "metadata": {},
     "output_type": "display_data"
    }
   ],
   "source": [
    "# Select all columns between year and day (inclusive)\n",
    "cols_between_year_and_day = select(flights, year:day)\n",
    "head(cols_between_year_and_day)"
   ]
  },
  {
   "cell_type": "code",
   "execution_count": 97,
   "metadata": {},
   "outputs": [
    {
     "data": {
      "text/html": [
       "<table>\n",
       "<thead><tr><th scope=col>dep_time</th><th scope=col>sched_dep_time</th><th scope=col>dep_delay</th><th scope=col>arr_time</th><th scope=col>sched_arr_time</th><th scope=col>arr_delay</th><th scope=col>carrier</th><th scope=col>flight</th><th scope=col>tailnum</th><th scope=col>origin</th><th scope=col>dest</th><th scope=col>air_time</th><th scope=col>distance</th><th scope=col>hour</th><th scope=col>minute</th><th scope=col>time_hour</th></tr></thead>\n",
       "<tbody>\n",
       "\t<tr><td>517                </td><td>515                </td><td> 2                 </td><td> 830               </td><td> 819               </td><td> 11                </td><td>UA                 </td><td>1545               </td><td>N14228             </td><td>EWR                </td><td>IAH                </td><td>227                </td><td>1400               </td><td>5                  </td><td>15                 </td><td>2013-01-01 05:00:00</td></tr>\n",
       "\t<tr><td>533                </td><td>529                </td><td> 4                 </td><td> 850               </td><td> 830               </td><td> 20                </td><td>UA                 </td><td>1714               </td><td>N24211             </td><td>LGA                </td><td>IAH                </td><td>227                </td><td>1416               </td><td>5                  </td><td>29                 </td><td>2013-01-01 05:00:00</td></tr>\n",
       "\t<tr><td>542                </td><td>540                </td><td> 2                 </td><td> 923               </td><td> 850               </td><td> 33                </td><td>AA                 </td><td>1141               </td><td>N619AA             </td><td>JFK                </td><td>MIA                </td><td>160                </td><td>1089               </td><td>5                  </td><td>40                 </td><td>2013-01-01 05:00:00</td></tr>\n",
       "\t<tr><td>544                </td><td>545                </td><td>-1                 </td><td>1004               </td><td>1022               </td><td>-18                </td><td>B6                 </td><td> 725               </td><td>N804JB             </td><td>JFK                </td><td>BQN                </td><td>183                </td><td>1576               </td><td>5                  </td><td>45                 </td><td>2013-01-01 05:00:00</td></tr>\n",
       "\t<tr><td>554                </td><td>600                </td><td>-6                 </td><td> 812               </td><td> 837               </td><td>-25                </td><td>DL                 </td><td> 461               </td><td>N668DN             </td><td>LGA                </td><td>ATL                </td><td>116                </td><td> 762               </td><td>6                  </td><td> 0                 </td><td>2013-01-01 06:00:00</td></tr>\n",
       "\t<tr><td>554                </td><td>558                </td><td>-4                 </td><td> 740               </td><td> 728               </td><td> 12                </td><td>UA                 </td><td>1696               </td><td>N39463             </td><td>EWR                </td><td>ORD                </td><td>150                </td><td> 719               </td><td>5                  </td><td>58                 </td><td>2013-01-01 05:00:00</td></tr>\n",
       "</tbody>\n",
       "</table>\n"
      ],
      "text/latex": [
       "\\begin{tabular}{r|llllllllllllllll}\n",
       " dep\\_time & sched\\_dep\\_time & dep\\_delay & arr\\_time & sched\\_arr\\_time & arr\\_delay & carrier & flight & tailnum & origin & dest & air\\_time & distance & hour & minute & time\\_hour\\\\\n",
       "\\hline\n",
       "\t 517                 & 515                 &  2                  &  830                &  819                &  11                 & UA                  & 1545                & N14228              & EWR                 & IAH                 & 227                 & 1400                & 5                   & 15                  & 2013-01-01 05:00:00\\\\\n",
       "\t 533                 & 529                 &  4                  &  850                &  830                &  20                 & UA                  & 1714                & N24211              & LGA                 & IAH                 & 227                 & 1416                & 5                   & 29                  & 2013-01-01 05:00:00\\\\\n",
       "\t 542                 & 540                 &  2                  &  923                &  850                &  33                 & AA                  & 1141                & N619AA              & JFK                 & MIA                 & 160                 & 1089                & 5                   & 40                  & 2013-01-01 05:00:00\\\\\n",
       "\t 544                 & 545                 & -1                  & 1004                & 1022                & -18                 & B6                  &  725                & N804JB              & JFK                 & BQN                 & 183                 & 1576                & 5                   & 45                  & 2013-01-01 05:00:00\\\\\n",
       "\t 554                 & 600                 & -6                  &  812                &  837                & -25                 & DL                  &  461                & N668DN              & LGA                 & ATL                 & 116                 &  762                & 6                   &  0                  & 2013-01-01 06:00:00\\\\\n",
       "\t 554                 & 558                 & -4                  &  740                &  728                &  12                 & UA                  & 1696                & N39463              & EWR                 & ORD                 & 150                 &  719                & 5                   & 58                  & 2013-01-01 05:00:00\\\\\n",
       "\\end{tabular}\n"
      ],
      "text/markdown": [
       "\n",
       "dep_time | sched_dep_time | dep_delay | arr_time | sched_arr_time | arr_delay | carrier | flight | tailnum | origin | dest | air_time | distance | hour | minute | time_hour | \n",
       "|---|---|---|---|---|---|\n",
       "| 517                 | 515                 |  2                  |  830                |  819                |  11                 | UA                  | 1545                | N14228              | EWR                 | IAH                 | 227                 | 1400                | 5                   | 15                  | 2013-01-01 05:00:00 | \n",
       "| 533                 | 529                 |  4                  |  850                |  830                |  20                 | UA                  | 1714                | N24211              | LGA                 | IAH                 | 227                 | 1416                | 5                   | 29                  | 2013-01-01 05:00:00 | \n",
       "| 542                 | 540                 |  2                  |  923                |  850                |  33                 | AA                  | 1141                | N619AA              | JFK                 | MIA                 | 160                 | 1089                | 5                   | 40                  | 2013-01-01 05:00:00 | \n",
       "| 544                 | 545                 | -1                  | 1004                | 1022                | -18                 | B6                  |  725                | N804JB              | JFK                 | BQN                 | 183                 | 1576                | 5                   | 45                  | 2013-01-01 05:00:00 | \n",
       "| 554                 | 600                 | -6                  |  812                |  837                | -25                 | DL                  |  461                | N668DN              | LGA                 | ATL                 | 116                 |  762                | 6                   |  0                  | 2013-01-01 06:00:00 | \n",
       "| 554                 | 558                 | -4                  |  740                |  728                |  12                 | UA                  | 1696                | N39463              | EWR                 | ORD                 | 150                 |  719                | 5                   | 58                  | 2013-01-01 05:00:00 | \n",
       "\n",
       "\n"
      ],
      "text/plain": [
       "  dep_time sched_dep_time dep_delay arr_time sched_arr_time arr_delay carrier\n",
       "1 517      515             2         830      819            11       UA     \n",
       "2 533      529             4         850      830            20       UA     \n",
       "3 542      540             2         923      850            33       AA     \n",
       "4 544      545            -1        1004     1022           -18       B6     \n",
       "5 554      600            -6         812      837           -25       DL     \n",
       "6 554      558            -4         740      728            12       UA     \n",
       "  flight tailnum origin dest air_time distance hour minute time_hour          \n",
       "1 1545   N14228  EWR    IAH  227      1400     5    15     2013-01-01 05:00:00\n",
       "2 1714   N24211  LGA    IAH  227      1416     5    29     2013-01-01 05:00:00\n",
       "3 1141   N619AA  JFK    MIA  160      1089     5    40     2013-01-01 05:00:00\n",
       "4  725   N804JB  JFK    BQN  183      1576     5    45     2013-01-01 05:00:00\n",
       "5  461   N668DN  LGA    ATL  116       762     6     0     2013-01-01 06:00:00\n",
       "6 1696   N39463  EWR    ORD  150       719     5    58     2013-01-01 05:00:00"
      ]
     },
     "metadata": {},
     "output_type": "display_data"
    }
   ],
   "source": [
    "# Select all columns except those from year to day (inclusive)\n",
    "cols_except_from_year_to_day = select(flights, -(year:day))\n",
    "head(cols_except_from_year_to_day)"
   ]
  },
  {
   "cell_type": "code",
   "execution_count": 98,
   "metadata": {},
   "outputs": [
    {
     "data": {
      "text/html": [
       "<table>\n",
       "<thead><tr><th scope=col>year</th><th scope=col>month</th><th scope=col>day</th><th scope=col>dep_time</th><th scope=col>sched_dep_time</th><th scope=col>dep_delay</th><th scope=col>arr_time</th><th scope=col>sched_arr_time</th><th scope=col>arr_delay</th><th scope=col>carrier</th><th scope=col>flight</th><th scope=col>tail_num</th><th scope=col>origin</th><th scope=col>dest</th><th scope=col>air_time</th><th scope=col>distance</th><th scope=col>hour</th><th scope=col>minute</th><th scope=col>time_hour</th></tr></thead>\n",
       "<tbody>\n",
       "\t<tr><td>2013               </td><td>1                  </td><td>1                  </td><td>517                </td><td>515                </td><td> 2                 </td><td> 830               </td><td> 819               </td><td> 11                </td><td>UA                 </td><td>1545               </td><td>N14228             </td><td>EWR                </td><td>IAH                </td><td>227                </td><td>1400               </td><td>5                  </td><td>15                 </td><td>2013-01-01 05:00:00</td></tr>\n",
       "\t<tr><td>2013               </td><td>1                  </td><td>1                  </td><td>533                </td><td>529                </td><td> 4                 </td><td> 850               </td><td> 830               </td><td> 20                </td><td>UA                 </td><td>1714               </td><td>N24211             </td><td>LGA                </td><td>IAH                </td><td>227                </td><td>1416               </td><td>5                  </td><td>29                 </td><td>2013-01-01 05:00:00</td></tr>\n",
       "\t<tr><td>2013               </td><td>1                  </td><td>1                  </td><td>542                </td><td>540                </td><td> 2                 </td><td> 923               </td><td> 850               </td><td> 33                </td><td>AA                 </td><td>1141               </td><td>N619AA             </td><td>JFK                </td><td>MIA                </td><td>160                </td><td>1089               </td><td>5                  </td><td>40                 </td><td>2013-01-01 05:00:00</td></tr>\n",
       "\t<tr><td>2013               </td><td>1                  </td><td>1                  </td><td>544                </td><td>545                </td><td>-1                 </td><td>1004               </td><td>1022               </td><td>-18                </td><td>B6                 </td><td> 725               </td><td>N804JB             </td><td>JFK                </td><td>BQN                </td><td>183                </td><td>1576               </td><td>5                  </td><td>45                 </td><td>2013-01-01 05:00:00</td></tr>\n",
       "\t<tr><td>2013               </td><td>1                  </td><td>1                  </td><td>554                </td><td>600                </td><td>-6                 </td><td> 812               </td><td> 837               </td><td>-25                </td><td>DL                 </td><td> 461               </td><td>N668DN             </td><td>LGA                </td><td>ATL                </td><td>116                </td><td> 762               </td><td>6                  </td><td> 0                 </td><td>2013-01-01 06:00:00</td></tr>\n",
       "\t<tr><td>2013               </td><td>1                  </td><td>1                  </td><td>554                </td><td>558                </td><td>-4                 </td><td> 740               </td><td> 728               </td><td> 12                </td><td>UA                 </td><td>1696               </td><td>N39463             </td><td>EWR                </td><td>ORD                </td><td>150                </td><td> 719               </td><td>5                  </td><td>58                 </td><td>2013-01-01 05:00:00</td></tr>\n",
       "</tbody>\n",
       "</table>\n"
      ],
      "text/latex": [
       "\\begin{tabular}{r|lllllllllllllllllll}\n",
       " year & month & day & dep\\_time & sched\\_dep\\_time & dep\\_delay & arr\\_time & sched\\_arr\\_time & arr\\_delay & carrier & flight & tail\\_num & origin & dest & air\\_time & distance & hour & minute & time\\_hour\\\\\n",
       "\\hline\n",
       "\t 2013                & 1                   & 1                   & 517                 & 515                 &  2                  &  830                &  819                &  11                 & UA                  & 1545                & N14228              & EWR                 & IAH                 & 227                 & 1400                & 5                   & 15                  & 2013-01-01 05:00:00\\\\\n",
       "\t 2013                & 1                   & 1                   & 533                 & 529                 &  4                  &  850                &  830                &  20                 & UA                  & 1714                & N24211              & LGA                 & IAH                 & 227                 & 1416                & 5                   & 29                  & 2013-01-01 05:00:00\\\\\n",
       "\t 2013                & 1                   & 1                   & 542                 & 540                 &  2                  &  923                &  850                &  33                 & AA                  & 1141                & N619AA              & JFK                 & MIA                 & 160                 & 1089                & 5                   & 40                  & 2013-01-01 05:00:00\\\\\n",
       "\t 2013                & 1                   & 1                   & 544                 & 545                 & -1                  & 1004                & 1022                & -18                 & B6                  &  725                & N804JB              & JFK                 & BQN                 & 183                 & 1576                & 5                   & 45                  & 2013-01-01 05:00:00\\\\\n",
       "\t 2013                & 1                   & 1                   & 554                 & 600                 & -6                  &  812                &  837                & -25                 & DL                  &  461                & N668DN              & LGA                 & ATL                 & 116                 &  762                & 6                   &  0                  & 2013-01-01 06:00:00\\\\\n",
       "\t 2013                & 1                   & 1                   & 554                 & 558                 & -4                  &  740                &  728                &  12                 & UA                  & 1696                & N39463              & EWR                 & ORD                 & 150                 &  719                & 5                   & 58                  & 2013-01-01 05:00:00\\\\\n",
       "\\end{tabular}\n"
      ],
      "text/markdown": [
       "\n",
       "year | month | day | dep_time | sched_dep_time | dep_delay | arr_time | sched_arr_time | arr_delay | carrier | flight | tail_num | origin | dest | air_time | distance | hour | minute | time_hour | \n",
       "|---|---|---|---|---|---|\n",
       "| 2013                | 1                   | 1                   | 517                 | 515                 |  2                  |  830                |  819                |  11                 | UA                  | 1545                | N14228              | EWR                 | IAH                 | 227                 | 1400                | 5                   | 15                  | 2013-01-01 05:00:00 | \n",
       "| 2013                | 1                   | 1                   | 533                 | 529                 |  4                  |  850                |  830                |  20                 | UA                  | 1714                | N24211              | LGA                 | IAH                 | 227                 | 1416                | 5                   | 29                  | 2013-01-01 05:00:00 | \n",
       "| 2013                | 1                   | 1                   | 542                 | 540                 |  2                  |  923                |  850                |  33                 | AA                  | 1141                | N619AA              | JFK                 | MIA                 | 160                 | 1089                | 5                   | 40                  | 2013-01-01 05:00:00 | \n",
       "| 2013                | 1                   | 1                   | 544                 | 545                 | -1                  | 1004                | 1022                | -18                 | B6                  |  725                | N804JB              | JFK                 | BQN                 | 183                 | 1576                | 5                   | 45                  | 2013-01-01 05:00:00 | \n",
       "| 2013                | 1                   | 1                   | 554                 | 600                 | -6                  |  812                |  837                | -25                 | DL                  |  461                | N668DN              | LGA                 | ATL                 | 116                 |  762                | 6                   |  0                  | 2013-01-01 06:00:00 | \n",
       "| 2013                | 1                   | 1                   | 554                 | 558                 | -4                  |  740                |  728                |  12                 | UA                  | 1696                | N39463              | EWR                 | ORD                 | 150                 |  719                | 5                   | 58                  | 2013-01-01 05:00:00 | \n",
       "\n",
       "\n"
      ],
      "text/plain": [
       "  year month day dep_time sched_dep_time dep_delay arr_time sched_arr_time\n",
       "1 2013 1     1   517      515             2         830      819          \n",
       "2 2013 1     1   533      529             4         850      830          \n",
       "3 2013 1     1   542      540             2         923      850          \n",
       "4 2013 1     1   544      545            -1        1004     1022          \n",
       "5 2013 1     1   554      600            -6         812      837          \n",
       "6 2013 1     1   554      558            -4         740      728          \n",
       "  arr_delay carrier flight tail_num origin dest air_time distance hour minute\n",
       "1  11       UA      1545   N14228   EWR    IAH  227      1400     5    15    \n",
       "2  20       UA      1714   N24211   LGA    IAH  227      1416     5    29    \n",
       "3  33       AA      1141   N619AA   JFK    MIA  160      1089     5    40    \n",
       "4 -18       B6       725   N804JB   JFK    BQN  183      1576     5    45    \n",
       "5 -25       DL       461   N668DN   LGA    ATL  116       762     6     0    \n",
       "6  12       UA      1696   N39463   EWR    ORD  150       719     5    58    \n",
       "  time_hour          \n",
       "1 2013-01-01 05:00:00\n",
       "2 2013-01-01 05:00:00\n",
       "3 2013-01-01 05:00:00\n",
       "4 2013-01-01 05:00:00\n",
       "5 2013-01-01 06:00:00\n",
       "6 2013-01-01 05:00:00"
      ]
     },
     "metadata": {},
     "output_type": "display_data"
    }
   ],
   "source": [
    "#select() can be used to rename variables, \n",
    "#but it's rarely useful because it drops all of the variables not explicitly mentioned. \n",
    "#Instead, use `rename()`, which is a variant of `select()` \n",
    "#that keeps all the variables that aren't explicitly mentioned\n",
    "\n",
    "column_rename = rename(flights, tail_num = tailnum) #Note the \"odd\" syntax. rename = original column name.\n",
    "head(column_rename)\n"
   ]
  },
  {
   "cell_type": "code",
   "execution_count": 99,
   "metadata": {},
   "outputs": [
    {
     "data": {
      "text/html": [
       "<table>\n",
       "<thead><tr><th scope=col>year</th><th scope=col>month</th><th scope=col>day</th><th scope=col>dep_time</th><th scope=col>sched_dep_time</th><th scope=col>dep_delay</th><th scope=col>arr_time</th><th scope=col>sched_arr_time</th><th scope=col>arr_delay</th><th scope=col>carrier</th><th scope=col>flight</th><th scope=col>tailnum</th><th scope=col>origin</th><th scope=col>dest</th><th scope=col>air_time</th><th scope=col>distance</th><th scope=col>hour</th><th scope=col>minute</th><th scope=col>time_hour</th></tr></thead>\n",
       "<tbody>\n",
       "\t<tr><td>2013               </td><td>1                  </td><td>1                  </td><td>517                </td><td>515                </td><td> 2                 </td><td> 830               </td><td> 819               </td><td> 11                </td><td>UA                 </td><td>1545               </td><td>N14228             </td><td>EWR                </td><td>IAH                </td><td>227                </td><td>1400               </td><td>5                  </td><td>15                 </td><td>2013-01-01 05:00:00</td></tr>\n",
       "\t<tr><td>2013               </td><td>1                  </td><td>1                  </td><td>533                </td><td>529                </td><td> 4                 </td><td> 850               </td><td> 830               </td><td> 20                </td><td>UA                 </td><td>1714               </td><td>N24211             </td><td>LGA                </td><td>IAH                </td><td>227                </td><td>1416               </td><td>5                  </td><td>29                 </td><td>2013-01-01 05:00:00</td></tr>\n",
       "\t<tr><td>2013               </td><td>1                  </td><td>1                  </td><td>542                </td><td>540                </td><td> 2                 </td><td> 923               </td><td> 850               </td><td> 33                </td><td>AA                 </td><td>1141               </td><td>N619AA             </td><td>JFK                </td><td>MIA                </td><td>160                </td><td>1089               </td><td>5                  </td><td>40                 </td><td>2013-01-01 05:00:00</td></tr>\n",
       "\t<tr><td>2013               </td><td>1                  </td><td>1                  </td><td>544                </td><td>545                </td><td>-1                 </td><td>1004               </td><td>1022               </td><td>-18                </td><td>B6                 </td><td> 725               </td><td>N804JB             </td><td>JFK                </td><td>BQN                </td><td>183                </td><td>1576               </td><td>5                  </td><td>45                 </td><td>2013-01-01 05:00:00</td></tr>\n",
       "\t<tr><td>2013               </td><td>1                  </td><td>1                  </td><td>554                </td><td>600                </td><td>-6                 </td><td> 812               </td><td> 837               </td><td>-25                </td><td>DL                 </td><td> 461               </td><td>N668DN             </td><td>LGA                </td><td>ATL                </td><td>116                </td><td> 762               </td><td>6                  </td><td> 0                 </td><td>2013-01-01 06:00:00</td></tr>\n",
       "\t<tr><td>2013               </td><td>1                  </td><td>1                  </td><td>554                </td><td>558                </td><td>-4                 </td><td> 740               </td><td> 728               </td><td> 12                </td><td>UA                 </td><td>1696               </td><td>N39463             </td><td>EWR                </td><td>ORD                </td><td>150                </td><td> 719               </td><td>5                  </td><td>58                 </td><td>2013-01-01 05:00:00</td></tr>\n",
       "</tbody>\n",
       "</table>\n"
      ],
      "text/latex": [
       "\\begin{tabular}{r|lllllllllllllllllll}\n",
       " year & month & day & dep\\_time & sched\\_dep\\_time & dep\\_delay & arr\\_time & sched\\_arr\\_time & arr\\_delay & carrier & flight & tailnum & origin & dest & air\\_time & distance & hour & minute & time\\_hour\\\\\n",
       "\\hline\n",
       "\t 2013                & 1                   & 1                   & 517                 & 515                 &  2                  &  830                &  819                &  11                 & UA                  & 1545                & N14228              & EWR                 & IAH                 & 227                 & 1400                & 5                   & 15                  & 2013-01-01 05:00:00\\\\\n",
       "\t 2013                & 1                   & 1                   & 533                 & 529                 &  4                  &  850                &  830                &  20                 & UA                  & 1714                & N24211              & LGA                 & IAH                 & 227                 & 1416                & 5                   & 29                  & 2013-01-01 05:00:00\\\\\n",
       "\t 2013                & 1                   & 1                   & 542                 & 540                 &  2                  &  923                &  850                &  33                 & AA                  & 1141                & N619AA              & JFK                 & MIA                 & 160                 & 1089                & 5                   & 40                  & 2013-01-01 05:00:00\\\\\n",
       "\t 2013                & 1                   & 1                   & 544                 & 545                 & -1                  & 1004                & 1022                & -18                 & B6                  &  725                & N804JB              & JFK                 & BQN                 & 183                 & 1576                & 5                   & 45                  & 2013-01-01 05:00:00\\\\\n",
       "\t 2013                & 1                   & 1                   & 554                 & 600                 & -6                  &  812                &  837                & -25                 & DL                  &  461                & N668DN              & LGA                 & ATL                 & 116                 &  762                & 6                   &  0                  & 2013-01-01 06:00:00\\\\\n",
       "\t 2013                & 1                   & 1                   & 554                 & 558                 & -4                  &  740                &  728                &  12                 & UA                  & 1696                & N39463              & EWR                 & ORD                 & 150                 &  719                & 5                   & 58                  & 2013-01-01 05:00:00\\\\\n",
       "\\end{tabular}\n"
      ],
      "text/markdown": [
       "\n",
       "year | month | day | dep_time | sched_dep_time | dep_delay | arr_time | sched_arr_time | arr_delay | carrier | flight | tailnum | origin | dest | air_time | distance | hour | minute | time_hour | \n",
       "|---|---|---|---|---|---|\n",
       "| 2013                | 1                   | 1                   | 517                 | 515                 |  2                  |  830                |  819                |  11                 | UA                  | 1545                | N14228              | EWR                 | IAH                 | 227                 | 1400                | 5                   | 15                  | 2013-01-01 05:00:00 | \n",
       "| 2013                | 1                   | 1                   | 533                 | 529                 |  4                  |  850                |  830                |  20                 | UA                  | 1714                | N24211              | LGA                 | IAH                 | 227                 | 1416                | 5                   | 29                  | 2013-01-01 05:00:00 | \n",
       "| 2013                | 1                   | 1                   | 542                 | 540                 |  2                  |  923                |  850                |  33                 | AA                  | 1141                | N619AA              | JFK                 | MIA                 | 160                 | 1089                | 5                   | 40                  | 2013-01-01 05:00:00 | \n",
       "| 2013                | 1                   | 1                   | 544                 | 545                 | -1                  | 1004                | 1022                | -18                 | B6                  |  725                | N804JB              | JFK                 | BQN                 | 183                 | 1576                | 5                   | 45                  | 2013-01-01 05:00:00 | \n",
       "| 2013                | 1                   | 1                   | 554                 | 600                 | -6                  |  812                |  837                | -25                 | DL                  |  461                | N668DN              | LGA                 | ATL                 | 116                 |  762                | 6                   |  0                  | 2013-01-01 06:00:00 | \n",
       "| 2013                | 1                   | 1                   | 554                 | 558                 | -4                  |  740                |  728                |  12                 | UA                  | 1696                | N39463              | EWR                 | ORD                 | 150                 |  719                | 5                   | 58                  | 2013-01-01 05:00:00 | \n",
       "\n",
       "\n"
      ],
      "text/plain": [
       "  year month day dep_time sched_dep_time dep_delay arr_time sched_arr_time\n",
       "1 2013 1     1   517      515             2         830      819          \n",
       "2 2013 1     1   533      529             4         850      830          \n",
       "3 2013 1     1   542      540             2         923      850          \n",
       "4 2013 1     1   544      545            -1        1004     1022          \n",
       "5 2013 1     1   554      600            -6         812      837          \n",
       "6 2013 1     1   554      558            -4         740      728          \n",
       "  arr_delay carrier flight tailnum origin dest air_time distance hour minute\n",
       "1  11       UA      1545   N14228  EWR    IAH  227      1400     5    15    \n",
       "2  20       UA      1714   N24211  LGA    IAH  227      1416     5    29    \n",
       "3  33       AA      1141   N619AA  JFK    MIA  160      1089     5    40    \n",
       "4 -18       B6       725   N804JB  JFK    BQN  183      1576     5    45    \n",
       "5 -25       DL       461   N668DN  LGA    ATL  116       762     6     0    \n",
       "6  12       UA      1696   N39463  EWR    ORD  150       719     5    58    \n",
       "  time_hour          \n",
       "1 2013-01-01 05:00:00\n",
       "2 2013-01-01 05:00:00\n",
       "3 2013-01-01 05:00:00\n",
       "4 2013-01-01 05:00:00\n",
       "5 2013-01-01 06:00:00\n",
       "6 2013-01-01 05:00:00"
      ]
     },
     "metadata": {},
     "output_type": "display_data"
    }
   ],
   "source": [
    "version_of_star = select(flights, everything()) #SELECT *\n",
    "head(version_of_star)\n"
   ]
  },
  {
   "cell_type": "code",
   "execution_count": 100,
   "metadata": {},
   "outputs": [
    {
     "data": {
      "text/html": [
       "<table>\n",
       "<thead><tr><th scope=col>time_hour</th><th scope=col>air_time</th><th scope=col>year</th><th scope=col>month</th><th scope=col>day</th><th scope=col>dep_time</th><th scope=col>sched_dep_time</th><th scope=col>dep_delay</th><th scope=col>arr_time</th><th scope=col>sched_arr_time</th><th scope=col>arr_delay</th><th scope=col>carrier</th><th scope=col>flight</th><th scope=col>tailnum</th><th scope=col>origin</th><th scope=col>dest</th><th scope=col>distance</th><th scope=col>hour</th><th scope=col>minute</th></tr></thead>\n",
       "<tbody>\n",
       "\t<tr><td>2013-01-01 05:00:00</td><td>227                </td><td>2013               </td><td>1                  </td><td>1                  </td><td>517                </td><td>515                </td><td> 2                 </td><td> 830               </td><td> 819               </td><td> 11                </td><td>UA                 </td><td>1545               </td><td>N14228             </td><td>EWR                </td><td>IAH                </td><td>1400               </td><td>5                  </td><td>15                 </td></tr>\n",
       "\t<tr><td>2013-01-01 05:00:00</td><td>227                </td><td>2013               </td><td>1                  </td><td>1                  </td><td>533                </td><td>529                </td><td> 4                 </td><td> 850               </td><td> 830               </td><td> 20                </td><td>UA                 </td><td>1714               </td><td>N24211             </td><td>LGA                </td><td>IAH                </td><td>1416               </td><td>5                  </td><td>29                 </td></tr>\n",
       "\t<tr><td>2013-01-01 05:00:00</td><td>160                </td><td>2013               </td><td>1                  </td><td>1                  </td><td>542                </td><td>540                </td><td> 2                 </td><td> 923               </td><td> 850               </td><td> 33                </td><td>AA                 </td><td>1141               </td><td>N619AA             </td><td>JFK                </td><td>MIA                </td><td>1089               </td><td>5                  </td><td>40                 </td></tr>\n",
       "\t<tr><td>2013-01-01 05:00:00</td><td>183                </td><td>2013               </td><td>1                  </td><td>1                  </td><td>544                </td><td>545                </td><td>-1                 </td><td>1004               </td><td>1022               </td><td>-18                </td><td>B6                 </td><td> 725               </td><td>N804JB             </td><td>JFK                </td><td>BQN                </td><td>1576               </td><td>5                  </td><td>45                 </td></tr>\n",
       "\t<tr><td>2013-01-01 06:00:00</td><td>116                </td><td>2013               </td><td>1                  </td><td>1                  </td><td>554                </td><td>600                </td><td>-6                 </td><td> 812               </td><td> 837               </td><td>-25                </td><td>DL                 </td><td> 461               </td><td>N668DN             </td><td>LGA                </td><td>ATL                </td><td> 762               </td><td>6                  </td><td> 0                 </td></tr>\n",
       "\t<tr><td>2013-01-01 05:00:00</td><td>150                </td><td>2013               </td><td>1                  </td><td>1                  </td><td>554                </td><td>558                </td><td>-4                 </td><td> 740               </td><td> 728               </td><td> 12                </td><td>UA                 </td><td>1696               </td><td>N39463             </td><td>EWR                </td><td>ORD                </td><td> 719               </td><td>5                  </td><td>58                 </td></tr>\n",
       "</tbody>\n",
       "</table>\n"
      ],
      "text/latex": [
       "\\begin{tabular}{r|lllllllllllllllllll}\n",
       " time\\_hour & air\\_time & year & month & day & dep\\_time & sched\\_dep\\_time & dep\\_delay & arr\\_time & sched\\_arr\\_time & arr\\_delay & carrier & flight & tailnum & origin & dest & distance & hour & minute\\\\\n",
       "\\hline\n",
       "\t 2013-01-01 05:00:00 & 227                 & 2013                & 1                   & 1                   & 517                 & 515                 &  2                  &  830                &  819                &  11                 & UA                  & 1545                & N14228              & EWR                 & IAH                 & 1400                & 5                   & 15                 \\\\\n",
       "\t 2013-01-01 05:00:00 & 227                 & 2013                & 1                   & 1                   & 533                 & 529                 &  4                  &  850                &  830                &  20                 & UA                  & 1714                & N24211              & LGA                 & IAH                 & 1416                & 5                   & 29                 \\\\\n",
       "\t 2013-01-01 05:00:00 & 160                 & 2013                & 1                   & 1                   & 542                 & 540                 &  2                  &  923                &  850                &  33                 & AA                  & 1141                & N619AA              & JFK                 & MIA                 & 1089                & 5                   & 40                 \\\\\n",
       "\t 2013-01-01 05:00:00 & 183                 & 2013                & 1                   & 1                   & 544                 & 545                 & -1                  & 1004                & 1022                & -18                 & B6                  &  725                & N804JB              & JFK                 & BQN                 & 1576                & 5                   & 45                 \\\\\n",
       "\t 2013-01-01 06:00:00 & 116                 & 2013                & 1                   & 1                   & 554                 & 600                 & -6                  &  812                &  837                & -25                 & DL                  &  461                & N668DN              & LGA                 & ATL                 &  762                & 6                   &  0                 \\\\\n",
       "\t 2013-01-01 05:00:00 & 150                 & 2013                & 1                   & 1                   & 554                 & 558                 & -4                  &  740                &  728                &  12                 & UA                  & 1696                & N39463              & EWR                 & ORD                 &  719                & 5                   & 58                 \\\\\n",
       "\\end{tabular}\n"
      ],
      "text/markdown": [
       "\n",
       "time_hour | air_time | year | month | day | dep_time | sched_dep_time | dep_delay | arr_time | sched_arr_time | arr_delay | carrier | flight | tailnum | origin | dest | distance | hour | minute | \n",
       "|---|---|---|---|---|---|\n",
       "| 2013-01-01 05:00:00 | 227                 | 2013                | 1                   | 1                   | 517                 | 515                 |  2                  |  830                |  819                |  11                 | UA                  | 1545                | N14228              | EWR                 | IAH                 | 1400                | 5                   | 15                  | \n",
       "| 2013-01-01 05:00:00 | 227                 | 2013                | 1                   | 1                   | 533                 | 529                 |  4                  |  850                |  830                |  20                 | UA                  | 1714                | N24211              | LGA                 | IAH                 | 1416                | 5                   | 29                  | \n",
       "| 2013-01-01 05:00:00 | 160                 | 2013                | 1                   | 1                   | 542                 | 540                 |  2                  |  923                |  850                |  33                 | AA                  | 1141                | N619AA              | JFK                 | MIA                 | 1089                | 5                   | 40                  | \n",
       "| 2013-01-01 05:00:00 | 183                 | 2013                | 1                   | 1                   | 544                 | 545                 | -1                  | 1004                | 1022                | -18                 | B6                  |  725                | N804JB              | JFK                 | BQN                 | 1576                | 5                   | 45                  | \n",
       "| 2013-01-01 06:00:00 | 116                 | 2013                | 1                   | 1                   | 554                 | 600                 | -6                  |  812                |  837                | -25                 | DL                  |  461                | N668DN              | LGA                 | ATL                 |  762                | 6                   |  0                  | \n",
       "| 2013-01-01 05:00:00 | 150                 | 2013                | 1                   | 1                   | 554                 | 558                 | -4                  |  740                |  728                |  12                 | UA                  | 1696                | N39463              | EWR                 | ORD                 |  719                | 5                   | 58                  | \n",
       "\n",
       "\n"
      ],
      "text/plain": [
       "  time_hour           air_time year month day dep_time sched_dep_time dep_delay\n",
       "1 2013-01-01 05:00:00 227      2013 1     1   517      515             2       \n",
       "2 2013-01-01 05:00:00 227      2013 1     1   533      529             4       \n",
       "3 2013-01-01 05:00:00 160      2013 1     1   542      540             2       \n",
       "4 2013-01-01 05:00:00 183      2013 1     1   544      545            -1       \n",
       "5 2013-01-01 06:00:00 116      2013 1     1   554      600            -6       \n",
       "6 2013-01-01 05:00:00 150      2013 1     1   554      558            -4       \n",
       "  arr_time sched_arr_time arr_delay carrier flight tailnum origin dest distance\n",
       "1  830      819            11       UA      1545   N14228  EWR    IAH  1400    \n",
       "2  850      830            20       UA      1714   N24211  LGA    IAH  1416    \n",
       "3  923      850            33       AA      1141   N619AA  JFK    MIA  1089    \n",
       "4 1004     1022           -18       B6       725   N804JB  JFK    BQN  1576    \n",
       "5  812      837           -25       DL       461   N668DN  LGA    ATL   762    \n",
       "6  740      728            12       UA      1696   N39463  EWR    ORD   719    \n",
       "  hour minute\n",
       "1 5    15    \n",
       "2 5    29    \n",
       "3 5    40    \n",
       "4 5    45    \n",
       "5 6     0    \n",
       "6 5    58    "
      ]
     },
     "metadata": {},
     "output_type": "display_data"
    }
   ],
   "source": [
    "version_of_star = select(flights, time_hour, air_time, everything())\n",
    "head(version_of_star)"
   ]
  },
  {
   "cell_type": "code",
   "execution_count": 101,
   "metadata": {
    "collapsed": true
   },
   "outputs": [],
   "source": [
    "#Create a narrower data frame so we can see our work\n",
    "flights_sml <- select(flights, year:day, ends_with(\"delay\"), distance, air_time)"
   ]
  },
  {
   "cell_type": "code",
   "execution_count": 102,
   "metadata": {},
   "outputs": [
    {
     "data": {
      "text/html": [
       "<table>\n",
       "<thead><tr><th scope=col>year</th><th scope=col>month</th><th scope=col>day</th><th scope=col>dep_delay</th><th scope=col>arr_delay</th><th scope=col>distance</th><th scope=col>air_time</th><th scope=col>gain</th><th scope=col>hours</th><th scope=col>gain_per_hour</th></tr></thead>\n",
       "<tbody>\n",
       "\t<tr><td>2013     </td><td>1        </td><td>1        </td><td> 2       </td><td> 11      </td><td>1400     </td><td>227      </td><td>  9      </td><td>3.783333 </td><td> 2.378855</td></tr>\n",
       "\t<tr><td>2013     </td><td>1        </td><td>1        </td><td> 4       </td><td> 20      </td><td>1416     </td><td>227      </td><td> 16      </td><td>3.783333 </td><td> 4.229075</td></tr>\n",
       "\t<tr><td>2013     </td><td>1        </td><td>1        </td><td> 2       </td><td> 33      </td><td>1089     </td><td>160      </td><td> 31      </td><td>2.666667 </td><td>11.625000</td></tr>\n",
       "\t<tr><td>2013     </td><td>1        </td><td>1        </td><td>-1       </td><td>-18      </td><td>1576     </td><td>183      </td><td>-17      </td><td>3.050000 </td><td>-5.573770</td></tr>\n",
       "\t<tr><td>2013     </td><td>1        </td><td>1        </td><td>-6       </td><td>-25      </td><td> 762     </td><td>116      </td><td>-19      </td><td>1.933333 </td><td>-9.827586</td></tr>\n",
       "\t<tr><td>2013     </td><td>1        </td><td>1        </td><td>-4       </td><td> 12      </td><td> 719     </td><td>150      </td><td> 16      </td><td>2.500000 </td><td> 6.400000</td></tr>\n",
       "</tbody>\n",
       "</table>\n"
      ],
      "text/latex": [
       "\\begin{tabular}{r|llllllllll}\n",
       " year & month & day & dep\\_delay & arr\\_delay & distance & air\\_time & gain & hours & gain\\_per\\_hour\\\\\n",
       "\\hline\n",
       "\t 2013      & 1         & 1         &  2        &  11       & 1400      & 227       &   9       & 3.783333  &  2.378855\\\\\n",
       "\t 2013      & 1         & 1         &  4        &  20       & 1416      & 227       &  16       & 3.783333  &  4.229075\\\\\n",
       "\t 2013      & 1         & 1         &  2        &  33       & 1089      & 160       &  31       & 2.666667  & 11.625000\\\\\n",
       "\t 2013      & 1         & 1         & -1        & -18       & 1576      & 183       & -17       & 3.050000  & -5.573770\\\\\n",
       "\t 2013      & 1         & 1         & -6        & -25       &  762      & 116       & -19       & 1.933333  & -9.827586\\\\\n",
       "\t 2013      & 1         & 1         & -4        &  12       &  719      & 150       &  16       & 2.500000  &  6.400000\\\\\n",
       "\\end{tabular}\n"
      ],
      "text/markdown": [
       "\n",
       "year | month | day | dep_delay | arr_delay | distance | air_time | gain | hours | gain_per_hour | \n",
       "|---|---|---|---|---|---|\n",
       "| 2013      | 1         | 1         |  2        |  11       | 1400      | 227       |   9       | 3.783333  |  2.378855 | \n",
       "| 2013      | 1         | 1         |  4        |  20       | 1416      | 227       |  16       | 3.783333  |  4.229075 | \n",
       "| 2013      | 1         | 1         |  2        |  33       | 1089      | 160       |  31       | 2.666667  | 11.625000 | \n",
       "| 2013      | 1         | 1         | -1        | -18       | 1576      | 183       | -17       | 3.050000  | -5.573770 | \n",
       "| 2013      | 1         | 1         | -6        | -25       |  762      | 116       | -19       | 1.933333  | -9.827586 | \n",
       "| 2013      | 1         | 1         | -4        |  12       |  719      | 150       |  16       | 2.500000  |  6.400000 | \n",
       "\n",
       "\n"
      ],
      "text/plain": [
       "  year month day dep_delay arr_delay distance air_time gain hours   \n",
       "1 2013 1     1    2         11       1400     227        9  3.783333\n",
       "2 2013 1     1    4         20       1416     227       16  3.783333\n",
       "3 2013 1     1    2         33       1089     160       31  2.666667\n",
       "4 2013 1     1   -1        -18       1576     183      -17  3.050000\n",
       "5 2013 1     1   -6        -25        762     116      -19  1.933333\n",
       "6 2013 1     1   -4         12        719     150       16  2.500000\n",
       "  gain_per_hour\n",
       "1  2.378855    \n",
       "2  4.229075    \n",
       "3 11.625000    \n",
       "4 -5.573770    \n",
       "5 -9.827586    \n",
       "6  6.400000    "
      ]
     },
     "metadata": {},
     "output_type": "display_data"
    }
   ],
   "source": [
    "calculation = mutate(flights_sml,\n",
    "gain = arr_delay - dep_delay,\n",
    "hours = air_time / 60,\n",
    "gain_per_hour = gain / hours\n",
    ")\n",
    "head(calculation)"
   ]
  },
  {
   "cell_type": "code",
   "execution_count": 103,
   "metadata": {},
   "outputs": [
    {
     "data": {
      "text/html": [
       "<table>\n",
       "<thead><tr><th scope=col>gain</th><th scope=col>hours</th><th scope=col>gain_per_hour</th></tr></thead>\n",
       "<tbody>\n",
       "\t<tr><td>  9      </td><td>3.783333 </td><td> 2.378855</td></tr>\n",
       "\t<tr><td> 16      </td><td>3.783333 </td><td> 4.229075</td></tr>\n",
       "\t<tr><td> 31      </td><td>2.666667 </td><td>11.625000</td></tr>\n",
       "\t<tr><td>-17      </td><td>3.050000 </td><td>-5.573770</td></tr>\n",
       "\t<tr><td>-19      </td><td>1.933333 </td><td>-9.827586</td></tr>\n",
       "\t<tr><td> 16      </td><td>2.500000 </td><td> 6.400000</td></tr>\n",
       "</tbody>\n",
       "</table>\n"
      ],
      "text/latex": [
       "\\begin{tabular}{r|lll}\n",
       " gain & hours & gain\\_per\\_hour\\\\\n",
       "\\hline\n",
       "\t   9       & 3.783333  &  2.378855\\\\\n",
       "\t  16       & 3.783333  &  4.229075\\\\\n",
       "\t  31       & 2.666667  & 11.625000\\\\\n",
       "\t -17       & 3.050000  & -5.573770\\\\\n",
       "\t -19       & 1.933333  & -9.827586\\\\\n",
       "\t  16       & 2.500000  &  6.400000\\\\\n",
       "\\end{tabular}\n"
      ],
      "text/markdown": [
       "\n",
       "gain | hours | gain_per_hour | \n",
       "|---|---|---|---|---|---|\n",
       "|   9       | 3.783333  |  2.378855 | \n",
       "|  16       | 3.783333  |  4.229075 | \n",
       "|  31       | 2.666667  | 11.625000 | \n",
       "| -17       | 3.050000  | -5.573770 | \n",
       "| -19       | 1.933333  | -9.827586 | \n",
       "|  16       | 2.500000  |  6.400000 | \n",
       "\n",
       "\n"
      ],
      "text/plain": [
       "  gain hours    gain_per_hour\n",
       "1   9  3.783333  2.378855    \n",
       "2  16  3.783333  4.229075    \n",
       "3  31  2.666667 11.625000    \n",
       "4 -17  3.050000 -5.573770    \n",
       "5 -19  1.933333 -9.827586    \n",
       "6  16  2.500000  6.400000    "
      ]
     },
     "metadata": {},
     "output_type": "display_data"
    }
   ],
   "source": [
    "#If you only want to keep the new variables, use transmute():\n",
    "only_calc_results = transmute(flights,\n",
    "  gain = arr_delay - dep_delay,\n",
    "  hours = air_time / 60,\n",
    "  gain_per_hour = gain / hours\n",
    ")\n",
    "head(only_calc_results)"
   ]
  },
  {
   "cell_type": "code",
   "execution_count": 104,
   "metadata": {},
   "outputs": [
    {
     "data": {
      "text/html": [
       "<table>\n",
       "<thead><tr><th scope=col>year</th><th scope=col>month</th><th scope=col>day</th><th scope=col>delay</th></tr></thead>\n",
       "<tbody>\n",
       "\t<tr><td>2013     </td><td>1        </td><td>1        </td><td>11.548926</td></tr>\n",
       "\t<tr><td>2013     </td><td>1        </td><td>2        </td><td>13.858824</td></tr>\n",
       "\t<tr><td>2013     </td><td>1        </td><td>3        </td><td>10.987832</td></tr>\n",
       "\t<tr><td>2013     </td><td>1        </td><td>4        </td><td> 8.951595</td></tr>\n",
       "\t<tr><td>2013     </td><td>1        </td><td>5        </td><td> 5.732218</td></tr>\n",
       "\t<tr><td>2013     </td><td>1        </td><td>6        </td><td> 7.148014</td></tr>\n",
       "</tbody>\n",
       "</table>\n"
      ],
      "text/latex": [
       "\\begin{tabular}{r|llll}\n",
       " year & month & day & delay\\\\\n",
       "\\hline\n",
       "\t 2013      & 1         & 1         & 11.548926\\\\\n",
       "\t 2013      & 1         & 2         & 13.858824\\\\\n",
       "\t 2013      & 1         & 3         & 10.987832\\\\\n",
       "\t 2013      & 1         & 4         &  8.951595\\\\\n",
       "\t 2013      & 1         & 5         &  5.732218\\\\\n",
       "\t 2013      & 1         & 6         &  7.148014\\\\\n",
       "\\end{tabular}\n"
      ],
      "text/markdown": [
       "\n",
       "year | month | day | delay | \n",
       "|---|---|---|---|---|---|\n",
       "| 2013      | 1         | 1         | 11.548926 | \n",
       "| 2013      | 1         | 2         | 13.858824 | \n",
       "| 2013      | 1         | 3         | 10.987832 | \n",
       "| 2013      | 1         | 4         |  8.951595 | \n",
       "| 2013      | 1         | 5         |  5.732218 | \n",
       "| 2013      | 1         | 6         |  7.148014 | \n",
       "\n",
       "\n"
      ],
      "text/plain": [
       "  year month day delay    \n",
       "1 2013 1     1   11.548926\n",
       "2 2013 1     2   13.858824\n",
       "3 2013 1     3   10.987832\n",
       "4 2013 1     4    8.951595\n",
       "5 2013 1     5    5.732218\n",
       "6 2013 1     6    7.148014"
      ]
     },
     "metadata": {},
     "output_type": "display_data"
    }
   ],
   "source": [
    "#Summarise needs to be used in conjuction with group by\n",
    "by_day = group_by(flights, year, month, day)\n",
    "summarised_data = summarise(by_day, delay = mean(dep_delay, na.rm = TRUE))\n",
    "head(summarised_data)"
   ]
  },
  {
   "cell_type": "code",
   "execution_count": 105,
   "metadata": {},
   "outputs": [
    {
     "data": {
      "text/html": [
       "<table>\n",
       "<thead><tr><th scope=col>dest</th><th scope=col>count</th><th scope=col>dist</th><th scope=col>delay</th></tr></thead>\n",
       "<tbody>\n",
       "\t<tr><td>ABQ      </td><td>  254    </td><td>1826.0000</td><td> 4.381890</td></tr>\n",
       "\t<tr><td>ACK      </td><td>  265    </td><td> 199.0000</td><td> 4.852273</td></tr>\n",
       "\t<tr><td>ALB      </td><td>  439    </td><td> 143.0000</td><td>14.397129</td></tr>\n",
       "\t<tr><td>ATL      </td><td>17215    </td><td> 757.1082</td><td>11.300113</td></tr>\n",
       "\t<tr><td>AUS      </td><td> 2439    </td><td>1514.2530</td><td> 6.019909</td></tr>\n",
       "\t<tr><td>AVL      </td><td>  275    </td><td> 583.5818</td><td> 8.003831</td></tr>\n",
       "</tbody>\n",
       "</table>\n"
      ],
      "text/latex": [
       "\\begin{tabular}{r|llll}\n",
       " dest & count & dist & delay\\\\\n",
       "\\hline\n",
       "\t ABQ       &   254     & 1826.0000 &  4.381890\\\\\n",
       "\t ACK       &   265     &  199.0000 &  4.852273\\\\\n",
       "\t ALB       &   439     &  143.0000 & 14.397129\\\\\n",
       "\t ATL       & 17215     &  757.1082 & 11.300113\\\\\n",
       "\t AUS       &  2439     & 1514.2530 &  6.019909\\\\\n",
       "\t AVL       &   275     &  583.5818 &  8.003831\\\\\n",
       "\\end{tabular}\n"
      ],
      "text/markdown": [
       "\n",
       "dest | count | dist | delay | \n",
       "|---|---|---|---|---|---|\n",
       "| ABQ       |   254     | 1826.0000 |  4.381890 | \n",
       "| ACK       |   265     |  199.0000 |  4.852273 | \n",
       "| ALB       |   439     |  143.0000 | 14.397129 | \n",
       "| ATL       | 17215     |  757.1082 | 11.300113 | \n",
       "| AUS       |  2439     | 1514.2530 |  6.019909 | \n",
       "| AVL       |   275     |  583.5818 |  8.003831 | \n",
       "\n",
       "\n"
      ],
      "text/plain": [
       "  dest count dist      delay    \n",
       "1 ABQ    254 1826.0000  4.381890\n",
       "2 ACK    265  199.0000  4.852273\n",
       "3 ALB    439  143.0000 14.397129\n",
       "4 ATL  17215  757.1082 11.300113\n",
       "5 AUS   2439 1514.2530  6.019909\n",
       "6 AVL    275  583.5818  8.003831"
      ]
     },
     "metadata": {},
     "output_type": "display_data"
    }
   ],
   "source": [
    "#Who is guilty of this nonsense!?\n",
    "by_dest = group_by(flights, dest) #Group\n",
    "\n",
    "delay = summarise(\n",
    "by_dest,\n",
    "count = n(),\n",
    "dist = mean(distance, na.rm = TRUE),\n",
    "delay = mean(arr_delay, na.rm = TRUE)\n",
    ") #Summarise\n",
    "\n",
    "final = filter(delay, count > 20, dest != \"HNL\") #Filter\n",
    "\n",
    "head(final)"
   ]
  },
  {
   "cell_type": "code",
   "execution_count": 106,
   "metadata": {},
   "outputs": [
    {
     "data": {
      "text/html": [
       "<table>\n",
       "<thead><tr><th scope=col>dest</th><th scope=col>count</th><th scope=col>dist</th><th scope=col>delay</th></tr></thead>\n",
       "<tbody>\n",
       "\t<tr><td>ABQ      </td><td>  254    </td><td>1826.0000</td><td> 4.381890</td></tr>\n",
       "\t<tr><td>ACK      </td><td>  265    </td><td> 199.0000</td><td> 4.852273</td></tr>\n",
       "\t<tr><td>ALB      </td><td>  439    </td><td> 143.0000</td><td>14.397129</td></tr>\n",
       "\t<tr><td>ATL      </td><td>17215    </td><td> 757.1082</td><td>11.300113</td></tr>\n",
       "\t<tr><td>AUS      </td><td> 2439    </td><td>1514.2530</td><td> 6.019909</td></tr>\n",
       "\t<tr><td>AVL      </td><td>  275    </td><td> 583.5818</td><td> 8.003831</td></tr>\n",
       "</tbody>\n",
       "</table>\n"
      ],
      "text/latex": [
       "\\begin{tabular}{r|llll}\n",
       " dest & count & dist & delay\\\\\n",
       "\\hline\n",
       "\t ABQ       &   254     & 1826.0000 &  4.381890\\\\\n",
       "\t ACK       &   265     &  199.0000 &  4.852273\\\\\n",
       "\t ALB       &   439     &  143.0000 & 14.397129\\\\\n",
       "\t ATL       & 17215     &  757.1082 & 11.300113\\\\\n",
       "\t AUS       &  2439     & 1514.2530 &  6.019909\\\\\n",
       "\t AVL       &   275     &  583.5818 &  8.003831\\\\\n",
       "\\end{tabular}\n"
      ],
      "text/markdown": [
       "\n",
       "dest | count | dist | delay | \n",
       "|---|---|---|---|---|---|\n",
       "| ABQ       |   254     | 1826.0000 |  4.381890 | \n",
       "| ACK       |   265     |  199.0000 |  4.852273 | \n",
       "| ALB       |   439     |  143.0000 | 14.397129 | \n",
       "| ATL       | 17215     |  757.1082 | 11.300113 | \n",
       "| AUS       |  2439     | 1514.2530 |  6.019909 | \n",
       "| AVL       |   275     |  583.5818 |  8.003831 | \n",
       "\n",
       "\n"
      ],
      "text/plain": [
       "  dest count dist      delay    \n",
       "1 ABQ    254 1826.0000  4.381890\n",
       "2 ACK    265  199.0000  4.852273\n",
       "3 ALB    439  143.0000 14.397129\n",
       "4 ATL  17215  757.1082 11.300113\n",
       "5 AUS   2439 1514.2530  6.019909\n",
       "6 AVL    275  583.5818  8.003831"
      ]
     },
     "metadata": {},
     "output_type": "display_data"
    }
   ],
   "source": [
    "#Pipe operations fix that %>%\n",
    "delays = flights %>% group_by(dest) %>% summarise(count = n(),dist = mean(distance, na.rm = TRUE),delay = mean(arr_delay, na.rm = TRUE)) %>% filter(count > 20, dest != \"HNL\")\n",
    "head(delays)"
   ]
  },
  {
   "cell_type": "markdown",
   "metadata": {},
   "source": [
    "# Joins with dplyr"
   ]
  },
  {
   "cell_type": "markdown",
   "metadata": {},
   "source": [
    "Other tables in NYC flights data"
   ]
  },
  {
   "cell_type": "code",
   "execution_count": 107,
   "metadata": {},
   "outputs": [
    {
     "data": {
      "text/html": [
       "<table>\n",
       "<thead><tr><th scope=col>carrier</th><th scope=col>name</th></tr></thead>\n",
       "<tbody>\n",
       "\t<tr><td>9E                      </td><td>Endeavor Air Inc.       </td></tr>\n",
       "\t<tr><td>AA                      </td><td>American Airlines Inc.  </td></tr>\n",
       "\t<tr><td>AS                      </td><td>Alaska Airlines Inc.    </td></tr>\n",
       "\t<tr><td>B6                      </td><td>JetBlue Airways         </td></tr>\n",
       "\t<tr><td>DL                      </td><td>Delta Air Lines Inc.    </td></tr>\n",
       "\t<tr><td>EV                      </td><td>ExpressJet Airlines Inc.</td></tr>\n",
       "</tbody>\n",
       "</table>\n"
      ],
      "text/latex": [
       "\\begin{tabular}{r|ll}\n",
       " carrier & name\\\\\n",
       "\\hline\n",
       "\t 9E                       & Endeavor Air Inc.       \\\\\n",
       "\t AA                       & American Airlines Inc.  \\\\\n",
       "\t AS                       & Alaska Airlines Inc.    \\\\\n",
       "\t B6                       & JetBlue Airways         \\\\\n",
       "\t DL                       & Delta Air Lines Inc.    \\\\\n",
       "\t EV                       & ExpressJet Airlines Inc.\\\\\n",
       "\\end{tabular}\n"
      ],
      "text/markdown": [
       "\n",
       "carrier | name | \n",
       "|---|---|---|---|---|---|\n",
       "| 9E                       | Endeavor Air Inc.        | \n",
       "| AA                       | American Airlines Inc.   | \n",
       "| AS                       | Alaska Airlines Inc.     | \n",
       "| B6                       | JetBlue Airways          | \n",
       "| DL                       | Delta Air Lines Inc.     | \n",
       "| EV                       | ExpressJet Airlines Inc. | \n",
       "\n",
       "\n"
      ],
      "text/plain": [
       "  carrier name                    \n",
       "1 9E      Endeavor Air Inc.       \n",
       "2 AA      American Airlines Inc.  \n",
       "3 AS      Alaska Airlines Inc.    \n",
       "4 B6      JetBlue Airways         \n",
       "5 DL      Delta Air Lines Inc.    \n",
       "6 EV      ExpressJet Airlines Inc."
      ]
     },
     "metadata": {},
     "output_type": "display_data"
    }
   ],
   "source": [
    "head(airlines)"
   ]
  },
  {
   "cell_type": "code",
   "execution_count": 108,
   "metadata": {},
   "outputs": [
    {
     "data": {
      "text/html": [
       "<table>\n",
       "<thead><tr><th scope=col>faa</th><th scope=col>name</th><th scope=col>lat</th><th scope=col>lon</th><th scope=col>alt</th><th scope=col>tz</th><th scope=col>dst</th><th scope=col>tzone</th></tr></thead>\n",
       "<tbody>\n",
       "\t<tr><td>04G                           </td><td>Lansdowne Airport             </td><td>41.13047                      </td><td>-80.61958                     </td><td>1044                          </td><td>-5                            </td><td>A                             </td><td>America/New_York              </td></tr>\n",
       "\t<tr><td>06A                           </td><td>Moton Field Municipal Airport </td><td>32.46057                      </td><td>-85.68003                     </td><td> 264                          </td><td>-6                            </td><td>A                             </td><td>America/Chicago               </td></tr>\n",
       "\t<tr><td>06C                           </td><td>Schaumburg Regional           </td><td>41.98934                      </td><td>-88.10124                     </td><td> 801                          </td><td>-6                            </td><td>A                             </td><td>America/Chicago               </td></tr>\n",
       "\t<tr><td>06N                           </td><td>Randall Airport               </td><td>41.43191                      </td><td>-74.39156                     </td><td> 523                          </td><td>-5                            </td><td>A                             </td><td>America/New_York              </td></tr>\n",
       "\t<tr><td>09J                           </td><td>Jekyll Island Airport         </td><td>31.07447                      </td><td>-81.42778                     </td><td>  11                          </td><td>-5                            </td><td>A                             </td><td>America/New_York              </td></tr>\n",
       "\t<tr><td>0A9                           </td><td>Elizabethton Municipal Airport</td><td>36.37122                      </td><td>-82.17342                     </td><td>1593                          </td><td>-5                            </td><td>A                             </td><td>America/New_York              </td></tr>\n",
       "</tbody>\n",
       "</table>\n"
      ],
      "text/latex": [
       "\\begin{tabular}{r|llllllll}\n",
       " faa & name & lat & lon & alt & tz & dst & tzone\\\\\n",
       "\\hline\n",
       "\t 04G                            & Lansdowne Airport              & 41.13047                       & -80.61958                      & 1044                           & -5                             & A                              & America/New\\_York            \\\\\n",
       "\t 06A                            & Moton Field Municipal Airport  & 32.46057                       & -85.68003                      &  264                           & -6                             & A                              & America/Chicago               \\\\\n",
       "\t 06C                            & Schaumburg Regional            & 41.98934                       & -88.10124                      &  801                           & -6                             & A                              & America/Chicago               \\\\\n",
       "\t 06N                            & Randall Airport                & 41.43191                       & -74.39156                      &  523                           & -5                             & A                              & America/New\\_York            \\\\\n",
       "\t 09J                            & Jekyll Island Airport          & 31.07447                       & -81.42778                      &   11                           & -5                             & A                              & America/New\\_York            \\\\\n",
       "\t 0A9                            & Elizabethton Municipal Airport & 36.37122                       & -82.17342                      & 1593                           & -5                             & A                              & America/New\\_York            \\\\\n",
       "\\end{tabular}\n"
      ],
      "text/markdown": [
       "\n",
       "faa | name | lat | lon | alt | tz | dst | tzone | \n",
       "|---|---|---|---|---|---|\n",
       "| 04G                            | Lansdowne Airport              | 41.13047                       | -80.61958                      | 1044                           | -5                             | A                              | America/New_York               | \n",
       "| 06A                            | Moton Field Municipal Airport  | 32.46057                       | -85.68003                      |  264                           | -6                             | A                              | America/Chicago                | \n",
       "| 06C                            | Schaumburg Regional            | 41.98934                       | -88.10124                      |  801                           | -6                             | A                              | America/Chicago                | \n",
       "| 06N                            | Randall Airport                | 41.43191                       | -74.39156                      |  523                           | -5                             | A                              | America/New_York               | \n",
       "| 09J                            | Jekyll Island Airport          | 31.07447                       | -81.42778                      |   11                           | -5                             | A                              | America/New_York               | \n",
       "| 0A9                            | Elizabethton Municipal Airport | 36.37122                       | -82.17342                      | 1593                           | -5                             | A                              | America/New_York               | \n",
       "\n",
       "\n"
      ],
      "text/plain": [
       "  faa name                           lat      lon       alt  tz dst\n",
       "1 04G Lansdowne Airport              41.13047 -80.61958 1044 -5 A  \n",
       "2 06A Moton Field Municipal Airport  32.46057 -85.68003  264 -6 A  \n",
       "3 06C Schaumburg Regional            41.98934 -88.10124  801 -6 A  \n",
       "4 06N Randall Airport                41.43191 -74.39156  523 -5 A  \n",
       "5 09J Jekyll Island Airport          31.07447 -81.42778   11 -5 A  \n",
       "6 0A9 Elizabethton Municipal Airport 36.37122 -82.17342 1593 -5 A  \n",
       "  tzone           \n",
       "1 America/New_York\n",
       "2 America/Chicago \n",
       "3 America/Chicago \n",
       "4 America/New_York\n",
       "5 America/New_York\n",
       "6 America/New_York"
      ]
     },
     "metadata": {},
     "output_type": "display_data"
    }
   ],
   "source": [
    "head(airports)"
   ]
  },
  {
   "cell_type": "code",
   "execution_count": 109,
   "metadata": {},
   "outputs": [
    {
     "data": {
      "text/html": [
       "<table>\n",
       "<thead><tr><th scope=col>tailnum</th><th scope=col>year</th><th scope=col>type</th><th scope=col>manufacturer</th><th scope=col>model</th><th scope=col>engines</th><th scope=col>seats</th><th scope=col>speed</th><th scope=col>engine</th></tr></thead>\n",
       "<tbody>\n",
       "\t<tr><td>N10156                 </td><td>2004                   </td><td>Fixed wing multi engine</td><td>EMBRAER                </td><td>EMB-145XR              </td><td>2                      </td><td> 55                    </td><td>NA                     </td><td>Turbo-fan              </td></tr>\n",
       "\t<tr><td>N102UW                 </td><td>1998                   </td><td>Fixed wing multi engine</td><td>AIRBUS INDUSTRIE       </td><td>A320-214               </td><td>2                      </td><td>182                    </td><td>NA                     </td><td>Turbo-fan              </td></tr>\n",
       "\t<tr><td>N103US                 </td><td>1999                   </td><td>Fixed wing multi engine</td><td>AIRBUS INDUSTRIE       </td><td>A320-214               </td><td>2                      </td><td>182                    </td><td>NA                     </td><td>Turbo-fan              </td></tr>\n",
       "\t<tr><td>N104UW                 </td><td>1999                   </td><td>Fixed wing multi engine</td><td>AIRBUS INDUSTRIE       </td><td>A320-214               </td><td>2                      </td><td>182                    </td><td>NA                     </td><td>Turbo-fan              </td></tr>\n",
       "\t<tr><td>N10575                 </td><td>2002                   </td><td>Fixed wing multi engine</td><td>EMBRAER                </td><td>EMB-145LR              </td><td>2                      </td><td> 55                    </td><td>NA                     </td><td>Turbo-fan              </td></tr>\n",
       "\t<tr><td>N105UW                 </td><td>1999                   </td><td>Fixed wing multi engine</td><td>AIRBUS INDUSTRIE       </td><td>A320-214               </td><td>2                      </td><td>182                    </td><td>NA                     </td><td>Turbo-fan              </td></tr>\n",
       "</tbody>\n",
       "</table>\n"
      ],
      "text/latex": [
       "\\begin{tabular}{r|lllllllll}\n",
       " tailnum & year & type & manufacturer & model & engines & seats & speed & engine\\\\\n",
       "\\hline\n",
       "\t N10156                  & 2004                    & Fixed wing multi engine & EMBRAER                 & EMB-145XR               & 2                       &  55                     & NA                      & Turbo-fan              \\\\\n",
       "\t N102UW                  & 1998                    & Fixed wing multi engine & AIRBUS INDUSTRIE        & A320-214                & 2                       & 182                     & NA                      & Turbo-fan              \\\\\n",
       "\t N103US                  & 1999                    & Fixed wing multi engine & AIRBUS INDUSTRIE        & A320-214                & 2                       & 182                     & NA                      & Turbo-fan              \\\\\n",
       "\t N104UW                  & 1999                    & Fixed wing multi engine & AIRBUS INDUSTRIE        & A320-214                & 2                       & 182                     & NA                      & Turbo-fan              \\\\\n",
       "\t N10575                  & 2002                    & Fixed wing multi engine & EMBRAER                 & EMB-145LR               & 2                       &  55                     & NA                      & Turbo-fan              \\\\\n",
       "\t N105UW                  & 1999                    & Fixed wing multi engine & AIRBUS INDUSTRIE        & A320-214                & 2                       & 182                     & NA                      & Turbo-fan              \\\\\n",
       "\\end{tabular}\n"
      ],
      "text/markdown": [
       "\n",
       "tailnum | year | type | manufacturer | model | engines | seats | speed | engine | \n",
       "|---|---|---|---|---|---|\n",
       "| N10156                  | 2004                    | Fixed wing multi engine | EMBRAER                 | EMB-145XR               | 2                       |  55                     | NA                      | Turbo-fan               | \n",
       "| N102UW                  | 1998                    | Fixed wing multi engine | AIRBUS INDUSTRIE        | A320-214                | 2                       | 182                     | NA                      | Turbo-fan               | \n",
       "| N103US                  | 1999                    | Fixed wing multi engine | AIRBUS INDUSTRIE        | A320-214                | 2                       | 182                     | NA                      | Turbo-fan               | \n",
       "| N104UW                  | 1999                    | Fixed wing multi engine | AIRBUS INDUSTRIE        | A320-214                | 2                       | 182                     | NA                      | Turbo-fan               | \n",
       "| N10575                  | 2002                    | Fixed wing multi engine | EMBRAER                 | EMB-145LR               | 2                       |  55                     | NA                      | Turbo-fan               | \n",
       "| N105UW                  | 1999                    | Fixed wing multi engine | AIRBUS INDUSTRIE        | A320-214                | 2                       | 182                     | NA                      | Turbo-fan               | \n",
       "\n",
       "\n"
      ],
      "text/plain": [
       "  tailnum year type                    manufacturer     model     engines seats\n",
       "1 N10156  2004 Fixed wing multi engine EMBRAER          EMB-145XR 2        55  \n",
       "2 N102UW  1998 Fixed wing multi engine AIRBUS INDUSTRIE A320-214  2       182  \n",
       "3 N103US  1999 Fixed wing multi engine AIRBUS INDUSTRIE A320-214  2       182  \n",
       "4 N104UW  1999 Fixed wing multi engine AIRBUS INDUSTRIE A320-214  2       182  \n",
       "5 N10575  2002 Fixed wing multi engine EMBRAER          EMB-145LR 2        55  \n",
       "6 N105UW  1999 Fixed wing multi engine AIRBUS INDUSTRIE A320-214  2       182  \n",
       "  speed engine   \n",
       "1 NA    Turbo-fan\n",
       "2 NA    Turbo-fan\n",
       "3 NA    Turbo-fan\n",
       "4 NA    Turbo-fan\n",
       "5 NA    Turbo-fan\n",
       "6 NA    Turbo-fan"
      ]
     },
     "metadata": {},
     "output_type": "display_data"
    }
   ],
   "source": [
    "head(planes)"
   ]
  },
  {
   "cell_type": "code",
   "execution_count": 110,
   "metadata": {},
   "outputs": [
    {
     "data": {
      "text/html": [
       "<table>\n",
       "<thead><tr><th scope=col>origin</th><th scope=col>year</th><th scope=col>month</th><th scope=col>day</th><th scope=col>hour</th><th scope=col>temp</th><th scope=col>dewp</th><th scope=col>humid</th><th scope=col>wind_dir</th><th scope=col>wind_speed</th><th scope=col>wind_gust</th><th scope=col>precip</th><th scope=col>pressure</th><th scope=col>visib</th><th scope=col>time_hour</th></tr></thead>\n",
       "<tbody>\n",
       "\t<tr><td>EWR                </td><td>2013               </td><td>1                  </td><td>1                  </td><td>0                  </td><td>37.04              </td><td>21.92              </td><td>53.97              </td><td>230                </td><td>10.35702           </td><td>11.91865           </td><td>0                  </td><td>1013.9             </td><td>10                 </td><td>2012-12-31 18:00:00</td></tr>\n",
       "\t<tr><td>EWR                </td><td>2013               </td><td>1                  </td><td>1                  </td><td>1                  </td><td>37.04              </td><td>21.92              </td><td>53.97              </td><td>230                </td><td>13.80936           </td><td>15.89154           </td><td>0                  </td><td>1013.0             </td><td>10                 </td><td>2012-12-31 19:00:00</td></tr>\n",
       "\t<tr><td>EWR                </td><td>2013               </td><td>1                  </td><td>1                  </td><td>2                  </td><td>37.94              </td><td>21.92              </td><td>52.09              </td><td>230                </td><td>12.65858           </td><td>14.56724           </td><td>0                  </td><td>1012.6             </td><td>10                 </td><td>2012-12-31 20:00:00</td></tr>\n",
       "\t<tr><td>EWR                </td><td>2013               </td><td>1                  </td><td>1                  </td><td>3                  </td><td>37.94              </td><td>23.00              </td><td>54.51              </td><td>230                </td><td>13.80936           </td><td>15.89154           </td><td>0                  </td><td>1012.7             </td><td>10                 </td><td>2012-12-31 21:00:00</td></tr>\n",
       "\t<tr><td>EWR                </td><td>2013               </td><td>1                  </td><td>1                  </td><td>4                  </td><td>37.94              </td><td>24.08              </td><td>57.04              </td><td>240                </td><td>14.96014           </td><td>17.21583           </td><td>0                  </td><td>1012.8             </td><td>10                 </td><td>2012-12-31 22:00:00</td></tr>\n",
       "\t<tr><td>EWR                </td><td>2013               </td><td>1                  </td><td>1                  </td><td>6                  </td><td>39.02              </td><td>26.06              </td><td>59.37              </td><td>270                </td><td>10.35702           </td><td>11.91865           </td><td>0                  </td><td>1012.0             </td><td>10                 </td><td>2013-01-01 00:00:00</td></tr>\n",
       "</tbody>\n",
       "</table>\n"
      ],
      "text/latex": [
       "\\begin{tabular}{r|lllllllllllllll}\n",
       " origin & year & month & day & hour & temp & dewp & humid & wind\\_dir & wind\\_speed & wind\\_gust & precip & pressure & visib & time\\_hour\\\\\n",
       "\\hline\n",
       "\t EWR                 & 2013                & 1                   & 1                   & 0                   & 37.04               & 21.92               & 53.97               & 230                 & 10.35702            & 11.91865            & 0                   & 1013.9              & 10                  & 2012-12-31 18:00:00\\\\\n",
       "\t EWR                 & 2013                & 1                   & 1                   & 1                   & 37.04               & 21.92               & 53.97               & 230                 & 13.80936            & 15.89154            & 0                   & 1013.0              & 10                  & 2012-12-31 19:00:00\\\\\n",
       "\t EWR                 & 2013                & 1                   & 1                   & 2                   & 37.94               & 21.92               & 52.09               & 230                 & 12.65858            & 14.56724            & 0                   & 1012.6              & 10                  & 2012-12-31 20:00:00\\\\\n",
       "\t EWR                 & 2013                & 1                   & 1                   & 3                   & 37.94               & 23.00               & 54.51               & 230                 & 13.80936            & 15.89154            & 0                   & 1012.7              & 10                  & 2012-12-31 21:00:00\\\\\n",
       "\t EWR                 & 2013                & 1                   & 1                   & 4                   & 37.94               & 24.08               & 57.04               & 240                 & 14.96014            & 17.21583            & 0                   & 1012.8              & 10                  & 2012-12-31 22:00:00\\\\\n",
       "\t EWR                 & 2013                & 1                   & 1                   & 6                   & 39.02               & 26.06               & 59.37               & 270                 & 10.35702            & 11.91865            & 0                   & 1012.0              & 10                  & 2013-01-01 00:00:00\\\\\n",
       "\\end{tabular}\n"
      ],
      "text/markdown": [
       "\n",
       "origin | year | month | day | hour | temp | dewp | humid | wind_dir | wind_speed | wind_gust | precip | pressure | visib | time_hour | \n",
       "|---|---|---|---|---|---|\n",
       "| EWR                 | 2013                | 1                   | 1                   | 0                   | 37.04               | 21.92               | 53.97               | 230                 | 10.35702            | 11.91865            | 0                   | 1013.9              | 10                  | 2012-12-31 18:00:00 | \n",
       "| EWR                 | 2013                | 1                   | 1                   | 1                   | 37.04               | 21.92               | 53.97               | 230                 | 13.80936            | 15.89154            | 0                   | 1013.0              | 10                  | 2012-12-31 19:00:00 | \n",
       "| EWR                 | 2013                | 1                   | 1                   | 2                   | 37.94               | 21.92               | 52.09               | 230                 | 12.65858            | 14.56724            | 0                   | 1012.6              | 10                  | 2012-12-31 20:00:00 | \n",
       "| EWR                 | 2013                | 1                   | 1                   | 3                   | 37.94               | 23.00               | 54.51               | 230                 | 13.80936            | 15.89154            | 0                   | 1012.7              | 10                  | 2012-12-31 21:00:00 | \n",
       "| EWR                 | 2013                | 1                   | 1                   | 4                   | 37.94               | 24.08               | 57.04               | 240                 | 14.96014            | 17.21583            | 0                   | 1012.8              | 10                  | 2012-12-31 22:00:00 | \n",
       "| EWR                 | 2013                | 1                   | 1                   | 6                   | 39.02               | 26.06               | 59.37               | 270                 | 10.35702            | 11.91865            | 0                   | 1012.0              | 10                  | 2013-01-01 00:00:00 | \n",
       "\n",
       "\n"
      ],
      "text/plain": [
       "  origin year month day hour temp  dewp  humid wind_dir wind_speed wind_gust\n",
       "1 EWR    2013 1     1   0    37.04 21.92 53.97 230      10.35702   11.91865 \n",
       "2 EWR    2013 1     1   1    37.04 21.92 53.97 230      13.80936   15.89154 \n",
       "3 EWR    2013 1     1   2    37.94 21.92 52.09 230      12.65858   14.56724 \n",
       "4 EWR    2013 1     1   3    37.94 23.00 54.51 230      13.80936   15.89154 \n",
       "5 EWR    2013 1     1   4    37.94 24.08 57.04 240      14.96014   17.21583 \n",
       "6 EWR    2013 1     1   6    39.02 26.06 59.37 270      10.35702   11.91865 \n",
       "  precip pressure visib time_hour          \n",
       "1 0      1013.9   10    2012-12-31 18:00:00\n",
       "2 0      1013.0   10    2012-12-31 19:00:00\n",
       "3 0      1012.6   10    2012-12-31 20:00:00\n",
       "4 0      1012.7   10    2012-12-31 21:00:00\n",
       "5 0      1012.8   10    2012-12-31 22:00:00\n",
       "6 0      1012.0   10    2013-01-01 00:00:00"
      ]
     },
     "metadata": {},
     "output_type": "display_data"
    }
   ],
   "source": [
    "head(weather)"
   ]
  },
  {
   "cell_type": "code",
   "execution_count": 111,
   "metadata": {},
   "outputs": [
    {
     "data": {
      "text/html": [
       "<table>\n",
       "<thead><tr><th scope=col>year</th><th scope=col>month</th><th scope=col>day</th><th scope=col>hour</th><th scope=col>origin</th><th scope=col>dest</th><th scope=col>tailnum</th><th scope=col>carrier</th></tr></thead>\n",
       "<tbody>\n",
       "\t<tr><td>2013  </td><td>1     </td><td>1     </td><td>5     </td><td>EWR   </td><td>IAH   </td><td>N14228</td><td>UA    </td></tr>\n",
       "\t<tr><td>2013  </td><td>1     </td><td>1     </td><td>5     </td><td>LGA   </td><td>IAH   </td><td>N24211</td><td>UA    </td></tr>\n",
       "\t<tr><td>2013  </td><td>1     </td><td>1     </td><td>5     </td><td>JFK   </td><td>MIA   </td><td>N619AA</td><td>AA    </td></tr>\n",
       "\t<tr><td>2013  </td><td>1     </td><td>1     </td><td>5     </td><td>JFK   </td><td>BQN   </td><td>N804JB</td><td>B6    </td></tr>\n",
       "\t<tr><td>2013  </td><td>1     </td><td>1     </td><td>6     </td><td>LGA   </td><td>ATL   </td><td>N668DN</td><td>DL    </td></tr>\n",
       "\t<tr><td>2013  </td><td>1     </td><td>1     </td><td>5     </td><td>EWR   </td><td>ORD   </td><td>N39463</td><td>UA    </td></tr>\n",
       "</tbody>\n",
       "</table>\n"
      ],
      "text/latex": [
       "\\begin{tabular}{r|llllllll}\n",
       " year & month & day & hour & origin & dest & tailnum & carrier\\\\\n",
       "\\hline\n",
       "\t 2013   & 1      & 1      & 5      & EWR    & IAH    & N14228 & UA    \\\\\n",
       "\t 2013   & 1      & 1      & 5      & LGA    & IAH    & N24211 & UA    \\\\\n",
       "\t 2013   & 1      & 1      & 5      & JFK    & MIA    & N619AA & AA    \\\\\n",
       "\t 2013   & 1      & 1      & 5      & JFK    & BQN    & N804JB & B6    \\\\\n",
       "\t 2013   & 1      & 1      & 6      & LGA    & ATL    & N668DN & DL    \\\\\n",
       "\t 2013   & 1      & 1      & 5      & EWR    & ORD    & N39463 & UA    \\\\\n",
       "\\end{tabular}\n"
      ],
      "text/markdown": [
       "\n",
       "year | month | day | hour | origin | dest | tailnum | carrier | \n",
       "|---|---|---|---|---|---|\n",
       "| 2013   | 1      | 1      | 5      | EWR    | IAH    | N14228 | UA     | \n",
       "| 2013   | 1      | 1      | 5      | LGA    | IAH    | N24211 | UA     | \n",
       "| 2013   | 1      | 1      | 5      | JFK    | MIA    | N619AA | AA     | \n",
       "| 2013   | 1      | 1      | 5      | JFK    | BQN    | N804JB | B6     | \n",
       "| 2013   | 1      | 1      | 6      | LGA    | ATL    | N668DN | DL     | \n",
       "| 2013   | 1      | 1      | 5      | EWR    | ORD    | N39463 | UA     | \n",
       "\n",
       "\n"
      ],
      "text/plain": [
       "  year month day hour origin dest tailnum carrier\n",
       "1 2013 1     1   5    EWR    IAH  N14228  UA     \n",
       "2 2013 1     1   5    LGA    IAH  N24211  UA     \n",
       "3 2013 1     1   5    JFK    MIA  N619AA  AA     \n",
       "4 2013 1     1   5    JFK    BQN  N804JB  B6     \n",
       "5 2013 1     1   6    LGA    ATL  N668DN  DL     \n",
       "6 2013 1     1   5    EWR    ORD  N39463  UA     "
      ]
     },
     "metadata": {},
     "output_type": "display_data"
    }
   ],
   "source": [
    "#Reduce our data set for this exercise\n",
    "flights2 = flights %>% select(year:day, hour, origin, dest, tailnum, carrier)\n",
    "head(flights2)"
   ]
  },
  {
   "cell_type": "code",
   "execution_count": 112,
   "metadata": {},
   "outputs": [
    {
     "data": {
      "text/html": [
       "<table>\n",
       "<thead><tr><th scope=col>year</th><th scope=col>month</th><th scope=col>day</th><th scope=col>hour</th><th scope=col>origin</th><th scope=col>dest</th><th scope=col>tailnum</th><th scope=col>carrier</th><th scope=col>type</th><th scope=col>manufacturer</th><th scope=col>model</th><th scope=col>engines</th><th scope=col>seats</th><th scope=col>speed</th><th scope=col>engine</th></tr></thead>\n",
       "<tbody>\n",
       "\t<tr><td>2013                   </td><td>1                      </td><td>1                      </td><td>5                      </td><td>EWR                    </td><td>IAH                    </td><td>N14228                 </td><td>UA                     </td><td>Fixed wing multi engine</td><td>BOEING                 </td><td>737-824                </td><td>2                      </td><td>149                    </td><td>NA                     </td><td>Turbo-fan              </td></tr>\n",
       "\t<tr><td>2013                   </td><td>1                      </td><td>1                      </td><td>5                      </td><td>LGA                    </td><td>IAH                    </td><td>N24211                 </td><td>UA                     </td><td>Fixed wing multi engine</td><td>BOEING                 </td><td>737-824                </td><td>2                      </td><td>149                    </td><td>NA                     </td><td>Turbo-fan              </td></tr>\n",
       "\t<tr><td>2013                   </td><td>1                      </td><td>1                      </td><td>5                      </td><td>JFK                    </td><td>MIA                    </td><td>N619AA                 </td><td>AA                     </td><td>Fixed wing multi engine</td><td>BOEING                 </td><td>757-223                </td><td>2                      </td><td>178                    </td><td>NA                     </td><td>Turbo-fan              </td></tr>\n",
       "\t<tr><td>2013                   </td><td>1                      </td><td>1                      </td><td>5                      </td><td>JFK                    </td><td>BQN                    </td><td>N804JB                 </td><td>B6                     </td><td>Fixed wing multi engine</td><td>AIRBUS                 </td><td>A320-232               </td><td>2                      </td><td>200                    </td><td>NA                     </td><td>Turbo-fan              </td></tr>\n",
       "\t<tr><td>2013                   </td><td>1                      </td><td>1                      </td><td>6                      </td><td>LGA                    </td><td>ATL                    </td><td>N668DN                 </td><td>DL                     </td><td>Fixed wing multi engine</td><td>BOEING                 </td><td>757-232                </td><td>2                      </td><td>178                    </td><td>NA                     </td><td>Turbo-fan              </td></tr>\n",
       "\t<tr><td>2013                   </td><td>1                      </td><td>1                      </td><td>5                      </td><td>EWR                    </td><td>ORD                    </td><td>N39463                 </td><td>UA                     </td><td>Fixed wing multi engine</td><td>BOEING                 </td><td>737-924ER              </td><td>2                      </td><td>191                    </td><td>NA                     </td><td>Turbo-fan              </td></tr>\n",
       "</tbody>\n",
       "</table>\n"
      ],
      "text/latex": [
       "\\begin{tabular}{r|lllllllllllllll}\n",
       " year & month & day & hour & origin & dest & tailnum & carrier & type & manufacturer & model & engines & seats & speed & engine\\\\\n",
       "\\hline\n",
       "\t 2013                    & 1                       & 1                       & 5                       & EWR                     & IAH                     & N14228                  & UA                      & Fixed wing multi engine & BOEING                  & 737-824                 & 2                       & 149                     & NA                      & Turbo-fan              \\\\\n",
       "\t 2013                    & 1                       & 1                       & 5                       & LGA                     & IAH                     & N24211                  & UA                      & Fixed wing multi engine & BOEING                  & 737-824                 & 2                       & 149                     & NA                      & Turbo-fan              \\\\\n",
       "\t 2013                    & 1                       & 1                       & 5                       & JFK                     & MIA                     & N619AA                  & AA                      & Fixed wing multi engine & BOEING                  & 757-223                 & 2                       & 178                     & NA                      & Turbo-fan              \\\\\n",
       "\t 2013                    & 1                       & 1                       & 5                       & JFK                     & BQN                     & N804JB                  & B6                      & Fixed wing multi engine & AIRBUS                  & A320-232                & 2                       & 200                     & NA                      & Turbo-fan              \\\\\n",
       "\t 2013                    & 1                       & 1                       & 6                       & LGA                     & ATL                     & N668DN                  & DL                      & Fixed wing multi engine & BOEING                  & 757-232                 & 2                       & 178                     & NA                      & Turbo-fan              \\\\\n",
       "\t 2013                    & 1                       & 1                       & 5                       & EWR                     & ORD                     & N39463                  & UA                      & Fixed wing multi engine & BOEING                  & 737-924ER               & 2                       & 191                     & NA                      & Turbo-fan              \\\\\n",
       "\\end{tabular}\n"
      ],
      "text/markdown": [
       "\n",
       "year | month | day | hour | origin | dest | tailnum | carrier | type | manufacturer | model | engines | seats | speed | engine | \n",
       "|---|---|---|---|---|---|\n",
       "| 2013                    | 1                       | 1                       | 5                       | EWR                     | IAH                     | N14228                  | UA                      | Fixed wing multi engine | BOEING                  | 737-824                 | 2                       | 149                     | NA                      | Turbo-fan               | \n",
       "| 2013                    | 1                       | 1                       | 5                       | LGA                     | IAH                     | N24211                  | UA                      | Fixed wing multi engine | BOEING                  | 737-824                 | 2                       | 149                     | NA                      | Turbo-fan               | \n",
       "| 2013                    | 1                       | 1                       | 5                       | JFK                     | MIA                     | N619AA                  | AA                      | Fixed wing multi engine | BOEING                  | 757-223                 | 2                       | 178                     | NA                      | Turbo-fan               | \n",
       "| 2013                    | 1                       | 1                       | 5                       | JFK                     | BQN                     | N804JB                  | B6                      | Fixed wing multi engine | AIRBUS                  | A320-232                | 2                       | 200                     | NA                      | Turbo-fan               | \n",
       "| 2013                    | 1                       | 1                       | 6                       | LGA                     | ATL                     | N668DN                  | DL                      | Fixed wing multi engine | BOEING                  | 757-232                 | 2                       | 178                     | NA                      | Turbo-fan               | \n",
       "| 2013                    | 1                       | 1                       | 5                       | EWR                     | ORD                     | N39463                  | UA                      | Fixed wing multi engine | BOEING                  | 737-924ER               | 2                       | 191                     | NA                      | Turbo-fan               | \n",
       "\n",
       "\n"
      ],
      "text/plain": [
       "  year month day hour origin dest tailnum carrier type                   \n",
       "1 2013 1     1   5    EWR    IAH  N14228  UA      Fixed wing multi engine\n",
       "2 2013 1     1   5    LGA    IAH  N24211  UA      Fixed wing multi engine\n",
       "3 2013 1     1   5    JFK    MIA  N619AA  AA      Fixed wing multi engine\n",
       "4 2013 1     1   5    JFK    BQN  N804JB  B6      Fixed wing multi engine\n",
       "5 2013 1     1   6    LGA    ATL  N668DN  DL      Fixed wing multi engine\n",
       "6 2013 1     1   5    EWR    ORD  N39463  UA      Fixed wing multi engine\n",
       "  manufacturer model     engines seats speed engine   \n",
       "1 BOEING       737-824   2       149   NA    Turbo-fan\n",
       "2 BOEING       737-824   2       149   NA    Turbo-fan\n",
       "3 BOEING       757-223   2       178   NA    Turbo-fan\n",
       "4 AIRBUS       A320-232  2       200   NA    Turbo-fan\n",
       "5 BOEING       757-232   2       178   NA    Turbo-fan\n",
       "6 BOEING       737-924ER 2       191   NA    Turbo-fan"
      ]
     },
     "metadata": {},
     "output_type": "display_data"
    }
   ],
   "source": [
    "flights_with_plane_info = flights2 %>% inner_join(planes, by = \"tailnum\") %>% rename(year = year.x) %>% select(-year.y)\n",
    "head(flights_with_plane_info)"
   ]
  },
  {
   "cell_type": "markdown",
   "metadata": {},
   "source": [
    "SQL is the inspiration for dplyr's conventions, so the translation is straightforward:  \n",
    "\n",
    "| dplyr                      |                      SQL                     |\n",
    "|----------------------------|:--------------------------------------------:|\n",
    "| inner_join(x, y, by = \"z\") | SELECT * FROM x INNER JOIN y USING (z)       |\n",
    "| left_join(x, y, by = \"z\")  | SELECT * FROM x LEFT OUTER JOIN y USING (z)  |\n",
    "| right_join(x, y, by = \"z\") | SELECT * FROM x RIGHT OUTER JOIN y USING (z) |\n",
    "| full_join(x, y, by = \"z\")  | SELECT * FROM x FULL OUTER JOIN y USING (z)  |"
   ]
  },
  {
   "cell_type": "markdown",
   "metadata": {},
   "source": [
    "# Ggplot2 for data vis"
   ]
  },
  {
   "cell_type": "markdown",
   "metadata": {},
   "source": [
    "Genearlized use of ggplot  \n",
    "\n",
    "ggplot(data = `<DATA>`) + `<GEOM_FUNCTION>`(mapping = aes(`<MAPPINGS>`))  \n",
    "\n",
    "`<DATA>` = your dataset  \n",
    "\n",
    "`<GEOM_FUNCTION>` =  A __geom__ is the geometrical object that a plot uses to represent data. People often describe plots by the type of geom that the plot uses. For example, bar charts use bar geoms, line charts use line geoms, boxplots use boxplot geoms, and so on.  \n",
    "\n",
    "`<MAPPINGS>` = An aesthetic is a visual property of the objects in your plot that you map to your data."
   ]
  },
  {
   "cell_type": "code",
   "execution_count": 113,
   "metadata": {},
   "outputs": [
    {
     "data": {
      "text/html": [
       "<table>\n",
       "<thead><tr><th scope=col>carat</th><th scope=col>cut</th><th scope=col>color</th><th scope=col>clarity</th><th scope=col>depth</th><th scope=col>table</th><th scope=col>price</th><th scope=col>x</th><th scope=col>y</th><th scope=col>z</th></tr></thead>\n",
       "<tbody>\n",
       "\t<tr><td>0.23     </td><td>Ideal    </td><td>E        </td><td>SI2      </td><td>61.5     </td><td>55       </td><td>326      </td><td>3.95     </td><td>3.98     </td><td>2.43     </td></tr>\n",
       "\t<tr><td>0.21     </td><td>Premium  </td><td>E        </td><td>SI1      </td><td>59.8     </td><td>61       </td><td>326      </td><td>3.89     </td><td>3.84     </td><td>2.31     </td></tr>\n",
       "\t<tr><td>0.23     </td><td>Good     </td><td>E        </td><td>VS1      </td><td>56.9     </td><td>65       </td><td>327      </td><td>4.05     </td><td>4.07     </td><td>2.31     </td></tr>\n",
       "\t<tr><td>0.29     </td><td>Premium  </td><td>I        </td><td>VS2      </td><td>62.4     </td><td>58       </td><td>334      </td><td>4.20     </td><td>4.23     </td><td>2.63     </td></tr>\n",
       "\t<tr><td>0.31     </td><td>Good     </td><td>J        </td><td>SI2      </td><td>63.3     </td><td>58       </td><td>335      </td><td>4.34     </td><td>4.35     </td><td>2.75     </td></tr>\n",
       "\t<tr><td>0.24     </td><td>Very Good</td><td>J        </td><td>VVS2     </td><td>62.8     </td><td>57       </td><td>336      </td><td>3.94     </td><td>3.96     </td><td>2.48     </td></tr>\n",
       "</tbody>\n",
       "</table>\n"
      ],
      "text/latex": [
       "\\begin{tabular}{r|llllllllll}\n",
       " carat & cut & color & clarity & depth & table & price & x & y & z\\\\\n",
       "\\hline\n",
       "\t 0.23      & Ideal     & E         & SI2       & 61.5      & 55        & 326       & 3.95      & 3.98      & 2.43     \\\\\n",
       "\t 0.21      & Premium   & E         & SI1       & 59.8      & 61        & 326       & 3.89      & 3.84      & 2.31     \\\\\n",
       "\t 0.23      & Good      & E         & VS1       & 56.9      & 65        & 327       & 4.05      & 4.07      & 2.31     \\\\\n",
       "\t 0.29      & Premium   & I         & VS2       & 62.4      & 58        & 334       & 4.20      & 4.23      & 2.63     \\\\\n",
       "\t 0.31      & Good      & J         & SI2       & 63.3      & 58        & 335       & 4.34      & 4.35      & 2.75     \\\\\n",
       "\t 0.24      & Very Good & J         & VVS2      & 62.8      & 57        & 336       & 3.94      & 3.96      & 2.48     \\\\\n",
       "\\end{tabular}\n"
      ],
      "text/markdown": [
       "\n",
       "carat | cut | color | clarity | depth | table | price | x | y | z | \n",
       "|---|---|---|---|---|---|\n",
       "| 0.23      | Ideal     | E         | SI2       | 61.5      | 55        | 326       | 3.95      | 3.98      | 2.43      | \n",
       "| 0.21      | Premium   | E         | SI1       | 59.8      | 61        | 326       | 3.89      | 3.84      | 2.31      | \n",
       "| 0.23      | Good      | E         | VS1       | 56.9      | 65        | 327       | 4.05      | 4.07      | 2.31      | \n",
       "| 0.29      | Premium   | I         | VS2       | 62.4      | 58        | 334       | 4.20      | 4.23      | 2.63      | \n",
       "| 0.31      | Good      | J         | SI2       | 63.3      | 58        | 335       | 4.34      | 4.35      | 2.75      | \n",
       "| 0.24      | Very Good | J         | VVS2      | 62.8      | 57        | 336       | 3.94      | 3.96      | 2.48      | \n",
       "\n",
       "\n"
      ],
      "text/plain": [
       "  carat cut       color clarity depth table price x    y    z   \n",
       "1 0.23  Ideal     E     SI2     61.5  55    326   3.95 3.98 2.43\n",
       "2 0.21  Premium   E     SI1     59.8  61    326   3.89 3.84 2.31\n",
       "3 0.23  Good      E     VS1     56.9  65    327   4.05 4.07 2.31\n",
       "4 0.29  Premium   I     VS2     62.4  58    334   4.20 4.23 2.63\n",
       "5 0.31  Good      J     SI2     63.3  58    335   4.34 4.35 2.75\n",
       "6 0.24  Very Good J     VVS2    62.8  57    336   3.94 3.96 2.48"
      ]
     },
     "metadata": {},
     "output_type": "display_data"
    }
   ],
   "source": [
    "head(diamonds) #part of the ggplot2 package"
   ]
  },
  {
   "cell_type": "code",
   "execution_count": 114,
   "metadata": {
    "scrolled": false
   },
   "outputs": [
    {
     "data": {},
     "metadata": {},
     "output_type": "display_data"
    },
    {
     "data": {
      "image/png": "[encoded data removed]",
      "text/plain": [
       "plot without title"
      ]
     },
     "metadata": {},
     "output_type": "display_data"
    }
   ],
   "source": [
    "ggplot(data = diamonds) + geom_bar(mapping = aes(x = cut))"
   ]
  },
  {
   "cell_type": "code",
   "execution_count": 115,
   "metadata": {},
   "outputs": [
    {
     "data": {},
     "metadata": {},
     "output_type": "display_data"
    },
    {
     "data": {
      "image/png": "[encoded data removed]",
      "text/plain": [
       "plot without title"
      ]
     },
     "metadata": {},
     "output_type": "display_data"
    }
   ],
   "source": [
    "ggplot(data = diamonds) + geom_histogram(mapping = aes(x = carat), binwidth = 0.5)"
   ]
  },
  {
   "cell_type": "code",
   "execution_count": 116,
   "metadata": {},
   "outputs": [
    {
     "data": {},
     "metadata": {},
     "output_type": "display_data"
    },
    {
     "data": {
      "image/png": "[encoded data removed]",
      "text/plain": [
       "plot without title"
      ]
     },
     "metadata": {},
     "output_type": "display_data"
    }
   ],
   "source": [
    "ggplot(data = mpg) + geom_boxplot(mapping = aes(x = reorder(class, hwy, FUN = median), y = hwy))"
   ]
  },
  {
   "cell_type": "code",
   "execution_count": 117,
   "metadata": {},
   "outputs": [
    {
     "data": {},
     "metadata": {},
     "output_type": "display_data"
    },
    {
     "data": {
      "image/png": "[encoded data removed]",
      "text/plain": [
       "plot without title"
      ]
     },
     "metadata": {},
     "output_type": "display_data"
    }
   ],
   "source": [
    "ggplot(data = mpg) + geom_point(mapping = aes(x = displ, y = hwy)) + facet_wrap(~ class, nrow = 2)"
   ]
  },
  {
   "cell_type": "code",
   "execution_count": 118,
   "metadata": {},
   "outputs": [
    {
     "name": "stderr",
     "output_type": "stream",
     "text": [
      "`geom_smooth()` using method = 'loess'\n"
     ]
    },
    {
     "data": {},
     "metadata": {},
     "output_type": "display_data"
    },
    {
     "data": {
      "image/png": "[encoded data removed]",
      "text/plain": [
       "plot without title"
      ]
     },
     "metadata": {},
     "output_type": "display_data"
    }
   ],
   "source": [
    "ggplot(data = mpg, \n",
    "mapping = aes(x = displ, y = hwy)) + \n",
    "geom_point(mapping = aes(color = class)) + \n",
    "geom_smooth(data = filter(mpg, class == \"subcompact\"), se = FALSE)"
   ]
  },
  {
   "cell_type": "markdown",
   "metadata": {},
   "source": [
    "# Tibble  \n",
    "\n",
    "\"Tibbles are data.frames that are lazy and surly: they do less and complain more forcing you to confront problems earlier, typically leading to cleaner, more expressive code.\"  \n",
    "\n",
    "### Why I Love Tibbles Over Dataframes  \n",
    "\n",
    "* It never changes the type of the inputs (e.g. it never converts strings to factors!).\n",
    "* It never changes the names of variables.\n",
    "* It never creates row names"
   ]
  },
  {
   "cell_type": "code",
   "execution_count": 119,
   "metadata": {},
   "outputs": [
    {
     "name": "stdout",
     "output_type": "stream",
     "text": [
      "# A tibble: 150 x 5\n",
      "   Sepal.Length Sepal.Width Petal.Length Petal.Width Species\n",
      "          <dbl>       <dbl>        <dbl>       <dbl>  <fctr>\n",
      " 1          5.1         3.5          1.4         0.2  setosa\n",
      " 2          4.9         3.0          1.4         0.2  setosa\n",
      " 3          4.7         3.2          1.3         0.2  setosa\n",
      " 4          4.6         3.1          1.5         0.2  setosa\n",
      " 5          5.0         3.6          1.4         0.2  setosa\n",
      " 6          5.4         3.9          1.7         0.4  setosa\n",
      " 7          4.6         3.4          1.4         0.3  setosa\n",
      " 8          5.0         3.4          1.5         0.2  setosa\n",
      " 9          4.4         2.9          1.4         0.2  setosa\n",
      "10          4.9         3.1          1.5         0.1  setosa\n",
      "# ... with 140 more rows\n"
     ]
    }
   ],
   "source": [
    "iris_as_tibble = as_tibble(iris)\n",
    "print(iris_as_tibble)"
   ]
  },
  {
   "cell_type": "markdown",
   "metadata": {},
   "source": [
    "Sometimes older code doesn't work with Tibbles. From the book R For Data Science:  \n",
    "\n",
    "\"The main reason that some older functions don't work with tibble is the `[` function.  We don't use `[` much in this book because `dplyr::filter()` and `dplyr::select()` allow you to solve the same problems with clearer code. With base R data frames, `[` sometimes returns a data frame, and sometimes returns a vector. With tibbles, `[` always returns another tibble.\""
   ]
  },
  {
   "cell_type": "code",
   "execution_count": 120,
   "metadata": {},
   "outputs": [
    {
     "data": {
      "text/html": [
       "'data.frame'"
      ],
      "text/latex": [
       "'data.frame'"
      ],
      "text/markdown": [
       "'data.frame'"
      ],
      "text/plain": [
       "[1] \"data.frame\""
      ]
     },
     "metadata": {},
     "output_type": "display_data"
    }
   ],
   "source": [
    "#If you need to work with older code that doesn't work with Tibbles,\n",
    "#you can coerece Tibbles back to dataframes.\n",
    "class(as.data.frame(iris_as_tibble)) #show us the type of the object"
   ]
  },
  {
   "cell_type": "markdown",
   "metadata": {},
   "source": [
    "# Readr\n",
    "\n",
    "Turn flat files into data frames  \n",
    "\n",
    "* `read_csv()` reads comma delimited files, `read_csv2()` reads semicolon\n",
    "  separated files (common in countries where `,` is used as the decimal place),\n",
    "  `read_tsv()` reads tab delimited files, and `read_delim()` reads in files\n",
    "  with any delimiter.\n",
    "\n",
    "* `read_fwf()` reads fixed width files. You can specify fields either by their\n",
    "  widths with `fwf_widths()` or their position with `fwf_positions()`.\n",
    "  `read_table()` reads a common variation of fixed width files where columns\n",
    "  are separated by white space.\n",
    "\n",
    "* `read_log()` reads Apache style log files. (But also check out\n",
    "  [webreadr](https://github.com/Ironholds/webreadr) which is built on top\n",
    "  of `read_log()` and provides many more helpful tools.)\n"
   ]
  },
  {
   "cell_type": "code",
   "execution_count": 121,
   "metadata": {},
   "outputs": [
    {
     "name": "stderr",
     "output_type": "stream",
     "text": [
      "Parsed with column specification:\n",
      "cols(\n",
      "  earn = col_double(),\n",
      "  height = col_double(),\n",
      "  sex = col_character(),\n",
      "  ed = col_integer(),\n",
      "  age = col_integer(),\n",
      "  race = col_character()\n",
      ")\n"
     ]
    }
   ],
   "source": [
    "heights = read_csv(\"../../Data/heights/heights.csv\", na=\"\")"
   ]
  },
  {
   "cell_type": "markdown",
   "metadata": {},
   "source": [
    "### Compared to base R\n",
    "\n",
    "If you've used R before, you might wonder why we're not using `read.csv()`. There are a few good reasons to favour readr functions over the base equivalents:\n",
    "\n",
    "* They are typically much faster (~10x) than their base equivalents.\n",
    "  Long running jobs have a progress bar, so you can see what's happening. \n",
    "  If you're looking for raw speed, try `data.table::fread()`. It doesn't fit \n",
    "  quite so well into the tidyverse, but it can be quite a bit faster.\n",
    "\n",
    "* They produce tibbles, they don't convert character vectors to factors,\n",
    "  use row names, or munge the column names. These are common sources of\n",
    "  frustration with the base R functions.\n",
    "\n",
    "* They are more reproducible. Base R functions inherit some behaviour from\n",
    "  your operating system and environment variables, so import code that works \n",
    "  on your computer might not work on someone else's."
   ]
  },
  {
   "cell_type": "code",
   "execution_count": 122,
   "metadata": {
    "collapsed": true
   },
   "outputs": [],
   "source": [
    "write_csv(heights, \"../../Data/heights/heights_out.csv\") "
   ]
  },
  {
   "cell_type": "markdown",
   "metadata": {},
   "source": [
    "If you're just saving to excel to work with it there, use write_excel_csv()."
   ]
  },
  {
   "cell_type": "code",
   "execution_count": 123,
   "metadata": {
    "collapsed": true
   },
   "outputs": [],
   "source": [
    "write_excel_csv(heights, \"../../Data/heights/heights_out_for_excel.csv\") "
   ]
  },
  {
   "cell_type": "markdown",
   "metadata": {},
   "source": [
    "You lose type information when you write. To fix you can write it out to RDS (R custom binary format) or use a package called feather to store it in a binary format sharable across applications."
   ]
  },
  {
   "cell_type": "markdown",
   "metadata": {},
   "source": [
    "## Other types of data\n",
    "\n",
    "To get other types of data into R, we recommend starting with the tidyverse packages listed below. They're certainly not perfect, but they are a good place to start. For rectangular data:\n",
    "\n",
    "* __haven__ reads SPSS, Stata, and SAS files.\n",
    "\n",
    "* __readxl__ reads excel files (both `.xls` and `.xlsx`).\n",
    "\n",
    "* __DBI__, along with a database specific backend (e.g. __RMySQL__, \n",
    "  __RSQLite__, __RPostgreSQL__ etc) allows you to run SQL queries against a \n",
    "  database and return a data frame.\n",
    "\n",
    "For hierarchical data: use __jsonlite__ (by Jeroen Ooms) for json, and __xml2__ for XML. Jenny Bryan has some excellent worked examples at <https://jennybc.github.io/purrr-tutorial/>.\n",
    "\n",
    "For other file types, try the [R data import/export manual](https://cran.r-project.org/doc/manuals/r-release/R-data.html) and the [__rio__](https://github.com/leeper/rio) package."
   ]
  },
  {
   "cell_type": "code",
   "execution_count": null,
   "metadata": {
    "collapsed": true
   },
   "outputs": [],
   "source": []
  }
 ],
 "metadata": {
  "kernelspec": {
   "display_name": "R",
   "language": "R",
   "name": "ir"
  },
  "language_info": {
   "codemirror_mode": "r",
   "file_extension": ".r",
   "mimetype": "text/x-r-source",
   "name": "R",
   "pygments_lexer": "r",
   "version": "3.4.1"
  }
 },
 "nbformat": 4,
 "nbformat_minor": 2
}
